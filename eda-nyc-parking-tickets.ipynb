{
 "cells": [
  {
   "cell_type": "markdown",
   "metadata": {
    "id": "dmE-hd5yKGJP"
   },
   "source": [
    "# Exploratory Data Analysis on Traffic Violations Issued in NYC \n",
    "**EDA Project for Jovian course - \"Zero to Data Scientist\"**   \n",
    "**By: Samantha Roberts**    \n",
    "**July 2021**\n",
    "\n",
    "![New York City Parking Ticket (Credit: CBS 2)](https://newyork.cbslocal.com/wp-content/uploads/sites/14578484/2012/05/parking-ticket.jpg?w=420&h=316&crop=1)\n",
    "\n"
   ]
  },
  {
   "cell_type": "markdown",
   "metadata": {
    "id": "_KdihkyQMK9E"
   },
   "source": [
    "# General Introduction to Open Government Data \n",
    "I am a fan of government having an \"Open Data Protocol.\" This has become important at the city, state, and country levels in the US as well as around the world.  \n",
    "\n",
    "In Decamber of 2007, [30 open government advocates](https://public.resource.org/open_government_meeting.html) from academia, industry, and government convened in Sebastopol, California, to discuss why \"open data\" was essential to democracy.  The participants at this meeting developed a set of [8 Open Government Data Principles](https://public.resource.org/8_principles.html).   Namely government data shall be considered open if it is:\n",
    "\n",
    "1. Complete (All data is made available without limitation)\n",
    "2. Primary (collected at the source with high granularity)\n",
    "3. Timely (Made available as quickly as possible)\n",
    "4. Accessible (Available to a wide range of users)\n",
    "5. Machine Processable (Reasonaby structured for automation)\n",
    "6. Non-discriminatory (Available to all - no requirement for regristration)\n",
    "7. Non-proprietary (Data has format where no entity has exclusive control)\n",
    "8. License-free (Data not subject to copyright, trademark or regulation)\n",
    "\n",
    "In 2012 under Mayor Bloomberg the [NYC Open Data](https://opendata.cityofnewyork.us/data/) repository was launched.  This is an amazing compelation of data sets which is continously updated and supported, and supplies public data about all facets of the city, including police activity, budgets, business, city government, education, environment, and health information (recently including extensive COVID data).  "
   ]
  },
  {
   "cell_type": "markdown",
   "metadata": {
    "id": "fcJAXjzUzHX9"
   },
   "source": [
    "# NYC Parking Violation Data\n",
    "One of the data sets in the NYC Open Data repository is from the Department of Finance on all of the Parking violations that are issued annually.  I found this data on Kaggle before I explored the NYC Open Data site.  \n",
    "\n",
    "### I found this an interesting data set for analysis for the following reasons:\n",
    "\n",
    "1. It is large.  Currently there are over 10 million parking tickets issued each year throught the five boroughs of Brooklyn, Bronx, Queens, Staten Island, and Manhattan.  [Kaggle]((https://www.kaggle.com/new-york-city/ny-parking-violations-issued) has packaged data from 2014-2017 inclusive, ([actually, in two locations](https://www.kaggle.com/new-york-city/nyc-parking-tickets)), but the same data is available directly through [NY Open Data](https://opendata.cityofnewyork.us/). Direct [Links](#CSVLinks) to the CSV files up to 2021 are provided at the end of this notebook.  \n",
    "2. There are at least 43 features of each ticket, with include information about the vehicle, the registrataion, the type of violation, the location, the borough and precinct, the steet, the rank and division of the ticket issuer.  This seemed especially rich for investigation.\n",
    "3. Because of the size, we needed to employ methods to reduce the data size and improve the processing time (such as Google Colab and Dask) to undertake this analysis in an efficient way.\n",
    "3. The data includes date and time information which lends itself to correlation with external events in the city, and gives experience working with time series.\n",
    "4. The geographc information lends itself to the creation of maps incorperating the various data. (Along with working with geoJSON files of NYC police precincts)\n",
    "\n",
    "### This data is difficult for the following reasons:\n",
    "1. Though the columns are well labled with descriptive names, there are several columns with catagorical information in the form of abreviations that are not well explained.  However, this lends itself to pulling external files and scraping data to include in the analysis and further describe the data.\n",
    "2. It is also difficult because it is large.  Not so much from a computational standpoint, but with respect to choosing and limiting the relevant data that I can analyze in the time available.  "
   ]
  },
  {
   "cell_type": "markdown",
   "metadata": {
    "id": "SuWuMvcWMLbk"
   },
   "source": [
    "# [xxx] The Methodology \n",
    "This particular dataset lends itself to a perfect EDA project as it has the following elements:\n",
    "- The data needs to be cleaned, and decisions need to be made -- many parking tickets are not written correctly, and therefore not all fields are filled out\n",
    "- another challenging thing is that there is no table that explains the values in each column... and not all columns are filled out.  for instance there are three columns that relate to the precinct the ticket was issued in namely (with the number of unique values):\n",
    ">Violation Location :  78  \n",
    "Violation Precinct :  79   \n",
    "Issuer Precinct :  111  \n",
    "- there is a date and time the ticket is issues, and working with time series is something that is fun to demonstrate. \n",
    "- there is location information which allows exploration in geopandas and folium\n",
    "- there are many questions that can be asked which would link to other data sets being imported\n",
    "\n",
    "### Must Have Items\n",
    "- We will take a random sample of 10,000 tickets from the data of one year of parking tickets, namely 2017\n",
    "- We will write the code to do the analysis for this sample and then try to apply it to the entire year of data\n",
    "- Will incorperate other data sets such as fine amaounts\n",
    "\n",
    "### Would be nice for later Items\n",
    "- We wil then see about applying this analysis to the other years of data that are available directly from the NYC data site\n",
    "- may include scraping the data\n",
    "- We will apply some compression to handle that large scale of data -- have no clue about that right now\n",
    "- Will furthere improve ad convert addresses to lat long and see if we can incorperate folium maps with precinct boundaries\n",
    "\n",
    "\n",
    "\n"
   ]
  },
  {
   "cell_type": "code",
   "execution_count": 2,
   "metadata": {
    "colab": {
     "base_uri": "https://localhost:8080/",
     "height": 120
    },
    "executionInfo": {
     "elapsed": 40483,
     "status": "ok",
     "timestamp": 1626643297760,
     "user": {
      "displayName": "Samantha Roberts",
      "photoUrl": "",
      "userId": "12336021266384650140"
     },
     "user_tz": 240
    },
    "id": "wvUD3mLYbS2C",
    "outputId": "03ed9636-79a3-4065-daeb-ee16e690122a"
   },
   "outputs": [
    {
     "name": "stdout",
     "output_type": "stream",
     "text": [
      "[jovian] Detected Colab notebook...\u001b[0m\n",
      "[jovian] Please enter your API key ( from https://jovian.ai/ ):\u001b[0m\n",
      "API KEY: ··········\n",
      "[jovian] Uploading colab notebook to Jovian...\u001b[0m\n",
      "Committed successfully! https://jovian.ai/samantha-roberts/nyc-parking-2017-final\n"
     ]
    },
    {
     "data": {
      "application/vnd.google.colaboratory.intrinsic+json": {
       "type": "string"
      },
      "text/plain": [
       "'https://jovian.ai/samantha-roberts/nyc-parking-2017-final'"
      ]
     },
     "execution_count": 2,
     "metadata": {
      "tags": []
     },
     "output_type": "execute_result"
    }
   ],
   "source": [
    "project_name = 'nyc-parking-2017-final'\n",
    "jovian.commit(project=project_name)"
   ]
  },
  {
   "cell_type": "code",
   "execution_count": 3,
   "metadata": {
    "executionInfo": {
     "elapsed": 3328,
     "status": "ok",
     "timestamp": 1626643301081,
     "user": {
      "displayName": "Samantha Roberts",
      "photoUrl": "",
      "userId": "12336021266384650140"
     },
     "user_tz": 240
    },
    "id": "hR5ALJO1bS2D"
   },
   "outputs": [],
   "source": [
    "!pip install jovian opendatasets pandas numpy seaborn plotly matplotlib pyarrow folium --quiet "
   ]
  },
  {
   "cell_type": "code",
   "execution_count": 4,
   "metadata": {
    "colab": {
     "base_uri": "https://localhost:8080/"
    },
    "executionInfo": {
     "elapsed": 20168,
     "status": "ok",
     "timestamp": 1626643321233,
     "user": {
      "displayName": "Samantha Roberts",
      "photoUrl": "",
      "userId": "12336021266384650140"
     },
     "user_tz": 240
    },
    "id": "OO7NeR2d7jXE",
    "outputId": "fbf3b29d-d9e7-4582-8282-138f8b3da85e"
   },
   "outputs": [
    {
     "name": "stdout",
     "output_type": "stream",
     "text": [
      "\u001b[K     |████████████████████████████████| 20.6MB 1.5MB/s \n",
      "\u001b[?25h"
     ]
    }
   ],
   "source": [
    "!pip install plotly --upgrade --quiet "
   ]
  },
  {
   "cell_type": "code",
   "execution_count": 5,
   "metadata": {
    "colab": {
     "base_uri": "https://localhost:8080/"
    },
    "executionInfo": {
     "elapsed": 6384,
     "status": "ok",
     "timestamp": 1626643327596,
     "user": {
      "displayName": "Samantha Roberts",
      "photoUrl": "",
      "userId": "12336021266384650140"
     },
     "user_tz": 240
    },
    "id": "bLPVHuk-g6rL",
    "outputId": "ce5cde70-10d0-42db-f21a-ee053fc6199f"
   },
   "outputs": [
    {
     "name": "stdout",
     "output_type": "stream",
     "text": [
      "\u001b[K     |████████████████████████████████| 983kB 4.2MB/s \n",
      "\u001b[K     |████████████████████████████████| 122kB 44.8MB/s \n",
      "\u001b[?25h"
     ]
    }
   ],
   "source": [
    "!pip install \"dask[dataframe]\" --upgrade --quiet"
   ]
  },
  {
   "cell_type": "code",
   "execution_count": 6,
   "metadata": {
    "executionInfo": {
     "elapsed": 2442,
     "status": "ok",
     "timestamp": 1626643330021,
     "user": {
      "displayName": "Samantha Roberts",
      "photoUrl": "",
      "userId": "12336021266384650140"
     },
     "user_tz": 240
    },
    "id": "-6arLlG4bx6e"
   },
   "outputs": [],
   "source": [
    "import jovian\n",
    "import opendatasets as od\n",
    "import pandas as pd\n",
    "import numpy as np\n",
    "import seaborn as sns\n",
    "import plotly.express as px\n",
    "import matplotlib\n",
    "import matplotlib.pyplot as plt\n",
    "import pyarrow.feather as feather\n",
    "import os\n",
    "import folium\n",
    "import dask.dataframe as dd\n",
    "%matplotlib inline"
   ]
  },
  {
   "cell_type": "code",
   "execution_count": 7,
   "metadata": {
    "executionInfo": {
     "elapsed": 5,
     "status": "ok",
     "timestamp": 1626643330021,
     "user": {
      "displayName": "Samantha Roberts",
      "photoUrl": "",
      "userId": "12336021266384650140"
     },
     "user_tz": 240
    },
    "id": "1MY1amo5cdHn"
   },
   "outputs": [],
   "source": [
    "sns.set_style('darkgrid') # white grid on darker background\n",
    "matplotlib.rcParams['font.size'] = 18\n",
    "matplotlib.rcParams['figure.figsize'] = (10, 6)\n",
    "matplotlib.rcParams['figure.facecolor'] = '#00000000' #makes the figure background white"
   ]
  },
  {
   "cell_type": "markdown",
   "metadata": {
    "id": "jciOBgTvcgw1"
   },
   "source": [
    "# STEP 1: Downloading the Data <a id=\"section1\"></a>"
   ]
  },
  {
   "cell_type": "code",
   "execution_count": 8,
   "metadata": {
    "colab": {
     "base_uri": "https://localhost:8080/"
    },
    "executionInfo": {
     "elapsed": 125808,
     "status": "ok",
     "timestamp": 1626643455825,
     "user": {
      "displayName": "Samantha Roberts",
      "photoUrl": "",
      "userId": "12336021266384650140"
     },
     "user_tz": 240
    },
    "id": "ybCuvJRdcda_",
    "outputId": "c291ce98-4bf9-4c6a-d718-440a48c5ea73"
   },
   "outputs": [
    {
     "name": "stderr",
     "output_type": "stream",
     "text": [
      "\r",
      "  0%|          | 0.00/2.02G [00:00<?, ?B/s]"
     ]
    },
    {
     "name": "stdout",
     "output_type": "stream",
     "text": [
      "Downloading nyc-parking-tickets.zip to ./nyc-parking-tickets\n"
     ]
    },
    {
     "name": "stderr",
     "output_type": "stream",
     "text": [
      "100%|██████████| 2.02G/2.02G [00:54<00:00, 40.2MB/s]\n"
     ]
    },
    {
     "name": "stdout",
     "output_type": "stream",
     "text": [
      "\n",
      "CPU times: user 1min 2s, sys: 19.5 s, total: 1min 22s\n",
      "Wall time: 2min 5s\n"
     ]
    }
   ],
   "source": [
    "%%time\n",
    "nyc_traffic_violations_url = 'https://www.kaggle.com/new-york-city/nyc-parking-tickets?select=Parking_Violations_Issued_-_Fiscal_Year_2017.csv'\n",
    "od.download(nyc_traffic_violations_url, force=False)"
   ]
  },
  {
   "cell_type": "code",
   "execution_count": 9,
   "metadata": {
    "colab": {
     "base_uri": "https://localhost:8080/"
    },
    "executionInfo": {
     "elapsed": 19,
     "status": "ok",
     "timestamp": 1626643455826,
     "user": {
      "displayName": "Samantha Roberts",
      "photoUrl": "",
      "userId": "12336021266384650140"
     },
     "user_tz": 240
    },
    "id": "r22eQjgvcdeE",
    "outputId": "878147ef-1424-4df0-846f-04f8289e8a38"
   },
   "outputs": [
    {
     "data": {
      "text/plain": [
       "['Parking_Violations_Issued_-_Fiscal_Year_2017.csv',\n",
       " 'Parking_Violations_Issued_-_Fiscal_Year_2014__August_2013___June_2014_.csv',\n",
       " 'Parking_Violations_Issued_-_Fiscal_Year_2015.csv',\n",
       " 'Parking_Violations_Issued_-_Fiscal_Year_2016.csv']"
      ]
     },
     "execution_count": 9,
     "metadata": {
      "tags": []
     },
     "output_type": "execute_result"
    }
   ],
   "source": [
    "os.listdir('./nyc-parking-tickets') # let us see what was downloaded"
   ]
  },
  {
   "cell_type": "code",
   "execution_count": 10,
   "metadata": {
    "executionInfo": {
     "elapsed": 15,
     "status": "ok",
     "timestamp": 1626643455827,
     "user": {
      "displayName": "Samantha Roberts",
      "photoUrl": "",
      "userId": "12336021266384650140"
     },
     "user_tz": 240
    },
    "id": "Ysn8d4M_cdg9"
   },
   "outputs": [],
   "source": [
    "path = './nyc-parking-tickets/Parking_Violations_Issued_-_Fiscal_Year_2017.csv'"
   ]
  },
  {
   "cell_type": "code",
   "execution_count": 11,
   "metadata": {
    "colab": {
     "base_uri": "https://localhost:8080/"
    },
    "executionInfo": {
     "elapsed": 59765,
     "status": "ok",
     "timestamp": 1626643515578,
     "user": {
      "displayName": "Samantha Roberts",
      "photoUrl": "",
      "userId": "12336021266384650140"
     },
     "user_tz": 240
    },
    "id": "KalonVuocdjS",
    "outputId": "b6774fd7-fb97-4c40-d256-d4bf8602eeb2"
   },
   "outputs": [
    {
     "name": "stdout",
     "output_type": "stream",
     "text": [
      "CPU times: user 49.6 s, sys: 9.46 s, total: 59.1 s\n",
      "Wall time: 58.7 s\n"
     ]
    }
   ],
   "source": [
    "%%time\n",
    "raw_df = pd.read_csv(path, dtype={'Issuer Squad': 'str', 'Violation Post Code': 'str'}) # reduce high memory because these 2 columns have mixed types"
   ]
  },
  {
   "cell_type": "code",
   "execution_count": 12,
   "metadata": {
    "colab": {
     "base_uri": "https://localhost:8080/",
     "height": 694
    },
    "executionInfo": {
     "elapsed": 28,
     "status": "ok",
     "timestamp": 1626643515580,
     "user": {
      "displayName": "Samantha Roberts",
      "photoUrl": "",
      "userId": "12336021266384650140"
     },
     "user_tz": 240
    },
    "id": "RtWqgyuEdk0Z",
    "outputId": "6f50ff64-16d7-4c74-c473-91d1766fced8"
   },
   "outputs": [
    {
     "data": {
      "text/html": [
       "<div>\n",
       "<style scoped>\n",
       "    .dataframe tbody tr th:only-of-type {\n",
       "        vertical-align: middle;\n",
       "    }\n",
       "\n",
       "    .dataframe tbody tr th {\n",
       "        vertical-align: top;\n",
       "    }\n",
       "\n",
       "    .dataframe thead th {\n",
       "        text-align: right;\n",
       "    }\n",
       "</style>\n",
       "<table border=\"1\" class=\"dataframe\">\n",
       "  <thead>\n",
       "    <tr style=\"text-align: right;\">\n",
       "      <th></th>\n",
       "      <th>Summons Number</th>\n",
       "      <th>Plate ID</th>\n",
       "      <th>Registration State</th>\n",
       "      <th>Plate Type</th>\n",
       "      <th>Issue Date</th>\n",
       "      <th>Violation Code</th>\n",
       "      <th>Vehicle Body Type</th>\n",
       "      <th>Vehicle Make</th>\n",
       "      <th>Issuing Agency</th>\n",
       "      <th>Street Code1</th>\n",
       "      <th>Street Code2</th>\n",
       "      <th>Street Code3</th>\n",
       "      <th>Vehicle Expiration Date</th>\n",
       "      <th>Violation Location</th>\n",
       "      <th>Violation Precinct</th>\n",
       "      <th>Issuer Precinct</th>\n",
       "      <th>Issuer Code</th>\n",
       "      <th>Issuer Command</th>\n",
       "      <th>Issuer Squad</th>\n",
       "      <th>Violation Time</th>\n",
       "      <th>Time First Observed</th>\n",
       "      <th>Violation County</th>\n",
       "      <th>Violation In Front Of Or Opposite</th>\n",
       "      <th>House Number</th>\n",
       "      <th>Street Name</th>\n",
       "      <th>Intersecting Street</th>\n",
       "      <th>Date First Observed</th>\n",
       "      <th>Law Section</th>\n",
       "      <th>Sub Division</th>\n",
       "      <th>Violation Legal Code</th>\n",
       "      <th>Days Parking In Effect</th>\n",
       "      <th>From Hours In Effect</th>\n",
       "      <th>To Hours In Effect</th>\n",
       "      <th>Vehicle Color</th>\n",
       "      <th>Unregistered Vehicle?</th>\n",
       "      <th>Vehicle Year</th>\n",
       "      <th>Meter Number</th>\n",
       "      <th>Feet From Curb</th>\n",
       "      <th>Violation Post Code</th>\n",
       "      <th>Violation Description</th>\n",
       "      <th>No Standing or Stopping Violation</th>\n",
       "      <th>Hydrant Violation</th>\n",
       "      <th>Double Parking Violation</th>\n",
       "    </tr>\n",
       "  </thead>\n",
       "  <tbody>\n",
       "    <tr>\n",
       "      <th>0</th>\n",
       "      <td>5092469481</td>\n",
       "      <td>GZH7067</td>\n",
       "      <td>NY</td>\n",
       "      <td>PAS</td>\n",
       "      <td>07/10/2016</td>\n",
       "      <td>7</td>\n",
       "      <td>SUBN</td>\n",
       "      <td>TOYOT</td>\n",
       "      <td>V</td>\n",
       "      <td>0</td>\n",
       "      <td>0</td>\n",
       "      <td>0</td>\n",
       "      <td>0</td>\n",
       "      <td>NaN</td>\n",
       "      <td>0</td>\n",
       "      <td>0</td>\n",
       "      <td>0</td>\n",
       "      <td>NaN</td>\n",
       "      <td>NaN</td>\n",
       "      <td>0143A</td>\n",
       "      <td>NaN</td>\n",
       "      <td>BX</td>\n",
       "      <td>NaN</td>\n",
       "      <td>NaN</td>\n",
       "      <td>ALLERTON AVE (W/B) @</td>\n",
       "      <td>BARNES AVE</td>\n",
       "      <td>0</td>\n",
       "      <td>1111</td>\n",
       "      <td>D</td>\n",
       "      <td>T</td>\n",
       "      <td>NaN</td>\n",
       "      <td>NaN</td>\n",
       "      <td>NaN</td>\n",
       "      <td>GY</td>\n",
       "      <td>NaN</td>\n",
       "      <td>2001</td>\n",
       "      <td>NaN</td>\n",
       "      <td>0</td>\n",
       "      <td>NaN</td>\n",
       "      <td>FAILURE TO STOP AT RED LIGHT</td>\n",
       "      <td>NaN</td>\n",
       "      <td>NaN</td>\n",
       "      <td>NaN</td>\n",
       "    </tr>\n",
       "    <tr>\n",
       "      <th>1</th>\n",
       "      <td>5092451658</td>\n",
       "      <td>GZH7067</td>\n",
       "      <td>NY</td>\n",
       "      <td>PAS</td>\n",
       "      <td>07/08/2016</td>\n",
       "      <td>7</td>\n",
       "      <td>SUBN</td>\n",
       "      <td>TOYOT</td>\n",
       "      <td>V</td>\n",
       "      <td>0</td>\n",
       "      <td>0</td>\n",
       "      <td>0</td>\n",
       "      <td>0</td>\n",
       "      <td>NaN</td>\n",
       "      <td>0</td>\n",
       "      <td>0</td>\n",
       "      <td>0</td>\n",
       "      <td>NaN</td>\n",
       "      <td>NaN</td>\n",
       "      <td>0400P</td>\n",
       "      <td>NaN</td>\n",
       "      <td>BX</td>\n",
       "      <td>NaN</td>\n",
       "      <td>NaN</td>\n",
       "      <td>ALLERTON AVE (W/B) @</td>\n",
       "      <td>BARNES AVE</td>\n",
       "      <td>0</td>\n",
       "      <td>1111</td>\n",
       "      <td>D</td>\n",
       "      <td>T</td>\n",
       "      <td>NaN</td>\n",
       "      <td>NaN</td>\n",
       "      <td>NaN</td>\n",
       "      <td>GY</td>\n",
       "      <td>NaN</td>\n",
       "      <td>2001</td>\n",
       "      <td>NaN</td>\n",
       "      <td>0</td>\n",
       "      <td>NaN</td>\n",
       "      <td>FAILURE TO STOP AT RED LIGHT</td>\n",
       "      <td>NaN</td>\n",
       "      <td>NaN</td>\n",
       "      <td>NaN</td>\n",
       "    </tr>\n",
       "    <tr>\n",
       "      <th>2</th>\n",
       "      <td>4006265037</td>\n",
       "      <td>FZX9232</td>\n",
       "      <td>NY</td>\n",
       "      <td>PAS</td>\n",
       "      <td>08/23/2016</td>\n",
       "      <td>5</td>\n",
       "      <td>SUBN</td>\n",
       "      <td>FORD</td>\n",
       "      <td>V</td>\n",
       "      <td>0</td>\n",
       "      <td>0</td>\n",
       "      <td>0</td>\n",
       "      <td>0</td>\n",
       "      <td>NaN</td>\n",
       "      <td>0</td>\n",
       "      <td>0</td>\n",
       "      <td>0</td>\n",
       "      <td>NaN</td>\n",
       "      <td>NaN</td>\n",
       "      <td>0233P</td>\n",
       "      <td>NaN</td>\n",
       "      <td>BX</td>\n",
       "      <td>NaN</td>\n",
       "      <td>NaN</td>\n",
       "      <td>SB WEBSTER AVE @ E 1</td>\n",
       "      <td>94TH ST</td>\n",
       "      <td>0</td>\n",
       "      <td>1111</td>\n",
       "      <td>C</td>\n",
       "      <td>T</td>\n",
       "      <td>NaN</td>\n",
       "      <td>NaN</td>\n",
       "      <td>NaN</td>\n",
       "      <td>BK</td>\n",
       "      <td>NaN</td>\n",
       "      <td>2004</td>\n",
       "      <td>NaN</td>\n",
       "      <td>0</td>\n",
       "      <td>NaN</td>\n",
       "      <td>BUS LANE VIOLATION</td>\n",
       "      <td>NaN</td>\n",
       "      <td>NaN</td>\n",
       "      <td>NaN</td>\n",
       "    </tr>\n",
       "    <tr>\n",
       "      <th>3</th>\n",
       "      <td>8478629828</td>\n",
       "      <td>66623ME</td>\n",
       "      <td>NY</td>\n",
       "      <td>COM</td>\n",
       "      <td>06/14/2017</td>\n",
       "      <td>47</td>\n",
       "      <td>REFG</td>\n",
       "      <td>MITSU</td>\n",
       "      <td>T</td>\n",
       "      <td>10610</td>\n",
       "      <td>34330</td>\n",
       "      <td>34350</td>\n",
       "      <td>20180630</td>\n",
       "      <td>14.0</td>\n",
       "      <td>14</td>\n",
       "      <td>14</td>\n",
       "      <td>359594</td>\n",
       "      <td>T102</td>\n",
       "      <td>J</td>\n",
       "      <td>1120A</td>\n",
       "      <td>NaN</td>\n",
       "      <td>NY</td>\n",
       "      <td>O</td>\n",
       "      <td>330</td>\n",
       "      <td>7th Ave</td>\n",
       "      <td>NaN</td>\n",
       "      <td>0</td>\n",
       "      <td>408</td>\n",
       "      <td>l2</td>\n",
       "      <td>NaN</td>\n",
       "      <td>Y</td>\n",
       "      <td>0700A</td>\n",
       "      <td>0700P</td>\n",
       "      <td>WH</td>\n",
       "      <td>NaN</td>\n",
       "      <td>2007</td>\n",
       "      <td>NaN</td>\n",
       "      <td>0</td>\n",
       "      <td>04</td>\n",
       "      <td>47-Double PKG-Midtown</td>\n",
       "      <td>NaN</td>\n",
       "      <td>NaN</td>\n",
       "      <td>NaN</td>\n",
       "    </tr>\n",
       "    <tr>\n",
       "      <th>4</th>\n",
       "      <td>7868300310</td>\n",
       "      <td>37033JV</td>\n",
       "      <td>NY</td>\n",
       "      <td>COM</td>\n",
       "      <td>11/21/2016</td>\n",
       "      <td>69</td>\n",
       "      <td>DELV</td>\n",
       "      <td>INTER</td>\n",
       "      <td>T</td>\n",
       "      <td>10510</td>\n",
       "      <td>34310</td>\n",
       "      <td>34330</td>\n",
       "      <td>20170228</td>\n",
       "      <td>13.0</td>\n",
       "      <td>13</td>\n",
       "      <td>13</td>\n",
       "      <td>364832</td>\n",
       "      <td>T102</td>\n",
       "      <td>M</td>\n",
       "      <td>0555P</td>\n",
       "      <td>NaN</td>\n",
       "      <td>NY</td>\n",
       "      <td>F</td>\n",
       "      <td>799</td>\n",
       "      <td>6th Ave</td>\n",
       "      <td>NaN</td>\n",
       "      <td>0</td>\n",
       "      <td>408</td>\n",
       "      <td>h1</td>\n",
       "      <td>NaN</td>\n",
       "      <td>Y</td>\n",
       "      <td>0700A</td>\n",
       "      <td>0700P</td>\n",
       "      <td>WHITE</td>\n",
       "      <td>NaN</td>\n",
       "      <td>2007</td>\n",
       "      <td>NaN</td>\n",
       "      <td>0</td>\n",
       "      <td>31 6</td>\n",
       "      <td>69-Failure to Disp Muni Recpt</td>\n",
       "      <td>NaN</td>\n",
       "      <td>NaN</td>\n",
       "      <td>NaN</td>\n",
       "    </tr>\n",
       "    <tr>\n",
       "      <th>...</th>\n",
       "      <td>...</td>\n",
       "      <td>...</td>\n",
       "      <td>...</td>\n",
       "      <td>...</td>\n",
       "      <td>...</td>\n",
       "      <td>...</td>\n",
       "      <td>...</td>\n",
       "      <td>...</td>\n",
       "      <td>...</td>\n",
       "      <td>...</td>\n",
       "      <td>...</td>\n",
       "      <td>...</td>\n",
       "      <td>...</td>\n",
       "      <td>...</td>\n",
       "      <td>...</td>\n",
       "      <td>...</td>\n",
       "      <td>...</td>\n",
       "      <td>...</td>\n",
       "      <td>...</td>\n",
       "      <td>...</td>\n",
       "      <td>...</td>\n",
       "      <td>...</td>\n",
       "      <td>...</td>\n",
       "      <td>...</td>\n",
       "      <td>...</td>\n",
       "      <td>...</td>\n",
       "      <td>...</td>\n",
       "      <td>...</td>\n",
       "      <td>...</td>\n",
       "      <td>...</td>\n",
       "      <td>...</td>\n",
       "      <td>...</td>\n",
       "      <td>...</td>\n",
       "      <td>...</td>\n",
       "      <td>...</td>\n",
       "      <td>...</td>\n",
       "      <td>...</td>\n",
       "      <td>...</td>\n",
       "      <td>...</td>\n",
       "      <td>...</td>\n",
       "      <td>...</td>\n",
       "      <td>...</td>\n",
       "      <td>...</td>\n",
       "    </tr>\n",
       "    <tr>\n",
       "      <th>10803023</th>\n",
       "      <td>1415891400</td>\n",
       "      <td>HGK6453</td>\n",
       "      <td>NJ</td>\n",
       "      <td>PAS</td>\n",
       "      <td>11/02/2068</td>\n",
       "      <td>21</td>\n",
       "      <td>SDN</td>\n",
       "      <td>HONDA</td>\n",
       "      <td>S</td>\n",
       "      <td>17380</td>\n",
       "      <td>5780</td>\n",
       "      <td>5880</td>\n",
       "      <td>0</td>\n",
       "      <td>68.0</td>\n",
       "      <td>68</td>\n",
       "      <td>0</td>\n",
       "      <td>582845</td>\n",
       "      <td>KS10</td>\n",
       "      <td>0000</td>\n",
       "      <td>1207P</td>\n",
       "      <td>NaN</td>\n",
       "      <td>K</td>\n",
       "      <td>F</td>\n",
       "      <td>715</td>\n",
       "      <td>BAY RIDGE AVE</td>\n",
       "      <td>NaN</td>\n",
       "      <td>0</td>\n",
       "      <td>408</td>\n",
       "      <td>D1</td>\n",
       "      <td>NaN</td>\n",
       "      <td>BBYBBBB</td>\n",
       "      <td>1130A</td>\n",
       "      <td>0100P</td>\n",
       "      <td>BLACK</td>\n",
       "      <td>0.0</td>\n",
       "      <td>0</td>\n",
       "      <td>-</td>\n",
       "      <td>0</td>\n",
       "      <td>NaN</td>\n",
       "      <td>NaN</td>\n",
       "      <td>NaN</td>\n",
       "      <td>NaN</td>\n",
       "      <td>NaN</td>\n",
       "    </tr>\n",
       "    <tr>\n",
       "      <th>10803024</th>\n",
       "      <td>1384716543</td>\n",
       "      <td>GRA6240</td>\n",
       "      <td>NY</td>\n",
       "      <td>PAS</td>\n",
       "      <td>07/12/2069</td>\n",
       "      <td>20</td>\n",
       "      <td>SUBN</td>\n",
       "      <td>TOYOT</td>\n",
       "      <td>X</td>\n",
       "      <td>93830</td>\n",
       "      <td>64830</td>\n",
       "      <td>23330</td>\n",
       "      <td>20161001</td>\n",
       "      <td>71.0</td>\n",
       "      <td>71</td>\n",
       "      <td>976</td>\n",
       "      <td>100519</td>\n",
       "      <td>0976</td>\n",
       "      <td>0000</td>\n",
       "      <td>0750A</td>\n",
       "      <td>NaN</td>\n",
       "      <td>K</td>\n",
       "      <td>F</td>\n",
       "      <td>444</td>\n",
       "      <td>WINTHROP STREET</td>\n",
       "      <td>NaN</td>\n",
       "      <td>0</td>\n",
       "      <td>408</td>\n",
       "      <td>D</td>\n",
       "      <td>NaN</td>\n",
       "      <td>BBBBBBB</td>\n",
       "      <td>ALL</td>\n",
       "      <td>ALL</td>\n",
       "      <td>GRAY</td>\n",
       "      <td>0.0</td>\n",
       "      <td>2007</td>\n",
       "      <td>-</td>\n",
       "      <td>0</td>\n",
       "      <td>NaN</td>\n",
       "      <td>NaN</td>\n",
       "      <td>NaN</td>\n",
       "      <td>NaN</td>\n",
       "      <td>NaN</td>\n",
       "    </tr>\n",
       "    <tr>\n",
       "      <th>10803025</th>\n",
       "      <td>1413536554</td>\n",
       "      <td>RC8S28</td>\n",
       "      <td>PA</td>\n",
       "      <td>PAS</td>\n",
       "      <td>08/14/2069</td>\n",
       "      <td>46</td>\n",
       "      <td>SUBN</td>\n",
       "      <td>NaN</td>\n",
       "      <td>P</td>\n",
       "      <td>37980</td>\n",
       "      <td>14080</td>\n",
       "      <td>14130</td>\n",
       "      <td>20160930</td>\n",
       "      <td>69.0</td>\n",
       "      <td>69</td>\n",
       "      <td>69</td>\n",
       "      <td>949860</td>\n",
       "      <td>0069</td>\n",
       "      <td>0000</td>\n",
       "      <td>1150A</td>\n",
       "      <td>NaN</td>\n",
       "      <td>K</td>\n",
       "      <td>F</td>\n",
       "      <td>1285</td>\n",
       "      <td>E 94 ST</td>\n",
       "      <td>NaN</td>\n",
       "      <td>0</td>\n",
       "      <td>408</td>\n",
       "      <td>J2</td>\n",
       "      <td>NaN</td>\n",
       "      <td>BBBBBBB</td>\n",
       "      <td>ALL</td>\n",
       "      <td>ALL</td>\n",
       "      <td>RED</td>\n",
       "      <td>0.0</td>\n",
       "      <td>0</td>\n",
       "      <td>-</td>\n",
       "      <td>0</td>\n",
       "      <td>NaN</td>\n",
       "      <td>NaN</td>\n",
       "      <td>NaN</td>\n",
       "      <td>NaN</td>\n",
       "      <td>NaN</td>\n",
       "    </tr>\n",
       "    <tr>\n",
       "      <th>10803026</th>\n",
       "      <td>1415514203</td>\n",
       "      <td>HGU9544</td>\n",
       "      <td>NY</td>\n",
       "      <td>PAS</td>\n",
       "      <td>11/15/2069</td>\n",
       "      <td>40</td>\n",
       "      <td>SUBN</td>\n",
       "      <td>JEEP</td>\n",
       "      <td>P</td>\n",
       "      <td>0</td>\n",
       "      <td>5530</td>\n",
       "      <td>0</td>\n",
       "      <td>20180624</td>\n",
       "      <td>69.0</td>\n",
       "      <td>69</td>\n",
       "      <td>69</td>\n",
       "      <td>935065</td>\n",
       "      <td>0069</td>\n",
       "      <td>0000</td>\n",
       "      <td>0319A</td>\n",
       "      <td>NaN</td>\n",
       "      <td>K</td>\n",
       "      <td>F</td>\n",
       "      <td>37</td>\n",
       "      <td>PAERDERGAT</td>\n",
       "      <td>4 ST</td>\n",
       "      <td>0</td>\n",
       "      <td>408</td>\n",
       "      <td>E2</td>\n",
       "      <td>NaN</td>\n",
       "      <td>BBBBBBB</td>\n",
       "      <td>ALL</td>\n",
       "      <td>ALL</td>\n",
       "      <td>BROWN</td>\n",
       "      <td>0.0</td>\n",
       "      <td>2011</td>\n",
       "      <td>-</td>\n",
       "      <td>0</td>\n",
       "      <td>NaN</td>\n",
       "      <td>NaN</td>\n",
       "      <td>NaN</td>\n",
       "      <td>NaN</td>\n",
       "      <td>NaN</td>\n",
       "    </tr>\n",
       "    <tr>\n",
       "      <th>10803027</th>\n",
       "      <td>1415995370</td>\n",
       "      <td>GPP1608</td>\n",
       "      <td>NY</td>\n",
       "      <td>PAS</td>\n",
       "      <td>11/19/2069</td>\n",
       "      <td>21</td>\n",
       "      <td>SDN</td>\n",
       "      <td>TOYOT</td>\n",
       "      <td>S</td>\n",
       "      <td>38080</td>\n",
       "      <td>40230</td>\n",
       "      <td>77740</td>\n",
       "      <td>20180605</td>\n",
       "      <td>69.0</td>\n",
       "      <td>69</td>\n",
       "      <td>0</td>\n",
       "      <td>980319</td>\n",
       "      <td>KS18</td>\n",
       "      <td>0000</td>\n",
       "      <td>0843A</td>\n",
       "      <td>NaN</td>\n",
       "      <td>K</td>\n",
       "      <td>F</td>\n",
       "      <td>1018</td>\n",
       "      <td>E 96 ST</td>\n",
       "      <td>NaN</td>\n",
       "      <td>0</td>\n",
       "      <td>408</td>\n",
       "      <td>D1</td>\n",
       "      <td>NaN</td>\n",
       "      <td>BBBYBBB</td>\n",
       "      <td>0830A</td>\n",
       "      <td>1000A</td>\n",
       "      <td>GRAY</td>\n",
       "      <td>0.0</td>\n",
       "      <td>2011</td>\n",
       "      <td>-</td>\n",
       "      <td>0</td>\n",
       "      <td>NaN</td>\n",
       "      <td>NaN</td>\n",
       "      <td>NaN</td>\n",
       "      <td>NaN</td>\n",
       "      <td>NaN</td>\n",
       "    </tr>\n",
       "  </tbody>\n",
       "</table>\n",
       "<p>10803028 rows × 43 columns</p>\n",
       "</div>"
      ],
      "text/plain": [
       "          Summons Number Plate ID  ... Hydrant Violation Double Parking Violation\n",
       "0             5092469481  GZH7067  ...               NaN                      NaN\n",
       "1             5092451658  GZH7067  ...               NaN                      NaN\n",
       "2             4006265037  FZX9232  ...               NaN                      NaN\n",
       "3             8478629828  66623ME  ...               NaN                      NaN\n",
       "4             7868300310  37033JV  ...               NaN                      NaN\n",
       "...                  ...      ...  ...               ...                      ...\n",
       "10803023      1415891400  HGK6453  ...               NaN                      NaN\n",
       "10803024      1384716543  GRA6240  ...               NaN                      NaN\n",
       "10803025      1413536554   RC8S28  ...               NaN                      NaN\n",
       "10803026      1415514203  HGU9544  ...               NaN                      NaN\n",
       "10803027      1415995370  GPP1608  ...               NaN                      NaN\n",
       "\n",
       "[10803028 rows x 43 columns]"
      ]
     },
     "execution_count": 12,
     "metadata": {
      "tags": []
     },
     "output_type": "execute_result"
    }
   ],
   "source": [
    "raw_df"
   ]
  },
  {
   "cell_type": "markdown",
   "metadata": {
    "id": "EiQ7-LS5dtQd"
   },
   "source": [
    "# STEP 2: Data Prep and Cleaning"
   ]
  },
  {
   "cell_type": "code",
   "execution_count": 13,
   "metadata": {
    "colab": {
     "base_uri": "https://localhost:8080/"
    },
    "executionInfo": {
     "elapsed": 22,
     "status": "ok",
     "timestamp": 1626643515581,
     "user": {
      "displayName": "Samantha Roberts",
      "photoUrl": "",
      "userId": "12336021266384650140"
     },
     "user_tz": 240
    },
    "id": "wiBitCLjfNVM",
    "outputId": "44323401-55b4-4752-e3f9-d7d944ba94d8"
   },
   "outputs": [
    {
     "name": "stdout",
     "output_type": "stream",
     "text": [
      "<class 'pandas.core.frame.DataFrame'>\n",
      "RangeIndex: 10803028 entries, 0 to 10803027\n",
      "Data columns (total 43 columns):\n",
      " #   Column                             Dtype  \n",
      "---  ------                             -----  \n",
      " 0   Summons Number                     int64  \n",
      " 1   Plate ID                           object \n",
      " 2   Registration State                 object \n",
      " 3   Plate Type                         object \n",
      " 4   Issue Date                         object \n",
      " 5   Violation Code                     int64  \n",
      " 6   Vehicle Body Type                  object \n",
      " 7   Vehicle Make                       object \n",
      " 8   Issuing Agency                     object \n",
      " 9   Street Code1                       int64  \n",
      " 10  Street Code2                       int64  \n",
      " 11  Street Code3                       int64  \n",
      " 12  Vehicle Expiration Date            int64  \n",
      " 13  Violation Location                 float64\n",
      " 14  Violation Precinct                 int64  \n",
      " 15  Issuer Precinct                    int64  \n",
      " 16  Issuer Code                        int64  \n",
      " 17  Issuer Command                     object \n",
      " 18  Issuer Squad                       object \n",
      " 19  Violation Time                     object \n",
      " 20  Time First Observed                object \n",
      " 21  Violation County                   object \n",
      " 22  Violation In Front Of Or Opposite  object \n",
      " 23  House Number                       object \n",
      " 24  Street Name                        object \n",
      " 25  Intersecting Street                object \n",
      " 26  Date First Observed                int64  \n",
      " 27  Law Section                        int64  \n",
      " 28  Sub Division                       object \n",
      " 29  Violation Legal Code               object \n",
      " 30  Days Parking In Effect             object \n",
      " 31  From Hours In Effect               object \n",
      " 32  To Hours In Effect                 object \n",
      " 33  Vehicle Color                      object \n",
      " 34  Unregistered Vehicle?              float64\n",
      " 35  Vehicle Year                       int64  \n",
      " 36  Meter Number                       object \n",
      " 37  Feet From Curb                     int64  \n",
      " 38  Violation Post Code                object \n",
      " 39  Violation Description              object \n",
      " 40  No Standing or Stopping Violation  float64\n",
      " 41  Hydrant Violation                  float64\n",
      " 42  Double Parking Violation           float64\n",
      "dtypes: float64(5), int64(13), object(25)\n",
      "memory usage: 3.5+ GB\n"
     ]
    }
   ],
   "source": [
    "raw_df.info()"
   ]
  },
  {
   "cell_type": "code",
   "execution_count": 14,
   "metadata": {
    "executionInfo": {
     "elapsed": 11,
     "status": "ok",
     "timestamp": 1626643515581,
     "user": {
      "displayName": "Samantha Roberts",
      "photoUrl": "",
      "userId": "12336021266384650140"
     },
     "user_tz": 240
    },
    "id": "y56mpiLvfNX4"
   },
   "outputs": [],
   "source": [
    "cols_to_keep =['Registration State',\n",
    "               'Plate Type',\n",
    "               'Issue Date',\n",
    "               'Violation Time',\n",
    "               'Violation Location',\n",
    "               'Violation Precinct', \n",
    "               'Issuer Precinct',\n",
    "               'Issuer Code',\n",
    "               'Violation Code',\n",
    "               'Meter Number',\n",
    "               'Violation County',\n",
    "               'Issuer Squad',\n",
    "               'Issuing Agency']"
   ]
  },
  {
   "cell_type": "code",
   "execution_count": 15,
   "metadata": {
    "colab": {
     "base_uri": "https://localhost:8080/",
     "height": 436
    },
    "executionInfo": {
     "elapsed": 1588,
     "status": "ok",
     "timestamp": 1626643517159,
     "user": {
      "displayName": "Samantha Roberts",
      "photoUrl": "",
      "userId": "12336021266384650140"
     },
     "user_tz": 240
    },
    "id": "7AUEj-1KfNa0",
    "outputId": "962f772e-fce6-484a-9430-2affcc3201e2"
   },
   "outputs": [
    {
     "data": {
      "text/html": [
       "<div>\n",
       "<style scoped>\n",
       "    .dataframe tbody tr th:only-of-type {\n",
       "        vertical-align: middle;\n",
       "    }\n",
       "\n",
       "    .dataframe tbody tr th {\n",
       "        vertical-align: top;\n",
       "    }\n",
       "\n",
       "    .dataframe thead th {\n",
       "        text-align: right;\n",
       "    }\n",
       "</style>\n",
       "<table border=\"1\" class=\"dataframe\">\n",
       "  <thead>\n",
       "    <tr style=\"text-align: right;\">\n",
       "      <th></th>\n",
       "      <th>Registration State</th>\n",
       "      <th>Plate Type</th>\n",
       "      <th>Issue Date</th>\n",
       "      <th>Violation Time</th>\n",
       "      <th>Violation Location</th>\n",
       "      <th>Violation Precinct</th>\n",
       "      <th>Issuer Precinct</th>\n",
       "      <th>Issuer Code</th>\n",
       "      <th>Violation Code</th>\n",
       "      <th>Meter Number</th>\n",
       "      <th>Violation County</th>\n",
       "      <th>Issuer Squad</th>\n",
       "      <th>Issuing Agency</th>\n",
       "    </tr>\n",
       "  </thead>\n",
       "  <tbody>\n",
       "    <tr>\n",
       "      <th>0</th>\n",
       "      <td>NY</td>\n",
       "      <td>PAS</td>\n",
       "      <td>07/10/2016</td>\n",
       "      <td>0143A</td>\n",
       "      <td>NaN</td>\n",
       "      <td>0</td>\n",
       "      <td>0</td>\n",
       "      <td>0</td>\n",
       "      <td>7</td>\n",
       "      <td>NaN</td>\n",
       "      <td>BX</td>\n",
       "      <td>NaN</td>\n",
       "      <td>V</td>\n",
       "    </tr>\n",
       "    <tr>\n",
       "      <th>1</th>\n",
       "      <td>NY</td>\n",
       "      <td>PAS</td>\n",
       "      <td>07/08/2016</td>\n",
       "      <td>0400P</td>\n",
       "      <td>NaN</td>\n",
       "      <td>0</td>\n",
       "      <td>0</td>\n",
       "      <td>0</td>\n",
       "      <td>7</td>\n",
       "      <td>NaN</td>\n",
       "      <td>BX</td>\n",
       "      <td>NaN</td>\n",
       "      <td>V</td>\n",
       "    </tr>\n",
       "    <tr>\n",
       "      <th>2</th>\n",
       "      <td>NY</td>\n",
       "      <td>PAS</td>\n",
       "      <td>08/23/2016</td>\n",
       "      <td>0233P</td>\n",
       "      <td>NaN</td>\n",
       "      <td>0</td>\n",
       "      <td>0</td>\n",
       "      <td>0</td>\n",
       "      <td>5</td>\n",
       "      <td>NaN</td>\n",
       "      <td>BX</td>\n",
       "      <td>NaN</td>\n",
       "      <td>V</td>\n",
       "    </tr>\n",
       "    <tr>\n",
       "      <th>3</th>\n",
       "      <td>NY</td>\n",
       "      <td>COM</td>\n",
       "      <td>06/14/2017</td>\n",
       "      <td>1120A</td>\n",
       "      <td>14.0</td>\n",
       "      <td>14</td>\n",
       "      <td>14</td>\n",
       "      <td>359594</td>\n",
       "      <td>47</td>\n",
       "      <td>NaN</td>\n",
       "      <td>NY</td>\n",
       "      <td>J</td>\n",
       "      <td>T</td>\n",
       "    </tr>\n",
       "    <tr>\n",
       "      <th>4</th>\n",
       "      <td>NY</td>\n",
       "      <td>COM</td>\n",
       "      <td>11/21/2016</td>\n",
       "      <td>0555P</td>\n",
       "      <td>13.0</td>\n",
       "      <td>13</td>\n",
       "      <td>13</td>\n",
       "      <td>364832</td>\n",
       "      <td>69</td>\n",
       "      <td>NaN</td>\n",
       "      <td>NY</td>\n",
       "      <td>M</td>\n",
       "      <td>T</td>\n",
       "    </tr>\n",
       "    <tr>\n",
       "      <th>...</th>\n",
       "      <td>...</td>\n",
       "      <td>...</td>\n",
       "      <td>...</td>\n",
       "      <td>...</td>\n",
       "      <td>...</td>\n",
       "      <td>...</td>\n",
       "      <td>...</td>\n",
       "      <td>...</td>\n",
       "      <td>...</td>\n",
       "      <td>...</td>\n",
       "      <td>...</td>\n",
       "      <td>...</td>\n",
       "      <td>...</td>\n",
       "    </tr>\n",
       "    <tr>\n",
       "      <th>10803023</th>\n",
       "      <td>NJ</td>\n",
       "      <td>PAS</td>\n",
       "      <td>11/02/2068</td>\n",
       "      <td>1207P</td>\n",
       "      <td>68.0</td>\n",
       "      <td>68</td>\n",
       "      <td>0</td>\n",
       "      <td>582845</td>\n",
       "      <td>21</td>\n",
       "      <td>-</td>\n",
       "      <td>K</td>\n",
       "      <td>0000</td>\n",
       "      <td>S</td>\n",
       "    </tr>\n",
       "    <tr>\n",
       "      <th>10803024</th>\n",
       "      <td>NY</td>\n",
       "      <td>PAS</td>\n",
       "      <td>07/12/2069</td>\n",
       "      <td>0750A</td>\n",
       "      <td>71.0</td>\n",
       "      <td>71</td>\n",
       "      <td>976</td>\n",
       "      <td>100519</td>\n",
       "      <td>20</td>\n",
       "      <td>-</td>\n",
       "      <td>K</td>\n",
       "      <td>0000</td>\n",
       "      <td>X</td>\n",
       "    </tr>\n",
       "    <tr>\n",
       "      <th>10803025</th>\n",
       "      <td>PA</td>\n",
       "      <td>PAS</td>\n",
       "      <td>08/14/2069</td>\n",
       "      <td>1150A</td>\n",
       "      <td>69.0</td>\n",
       "      <td>69</td>\n",
       "      <td>69</td>\n",
       "      <td>949860</td>\n",
       "      <td>46</td>\n",
       "      <td>-</td>\n",
       "      <td>K</td>\n",
       "      <td>0000</td>\n",
       "      <td>P</td>\n",
       "    </tr>\n",
       "    <tr>\n",
       "      <th>10803026</th>\n",
       "      <td>NY</td>\n",
       "      <td>PAS</td>\n",
       "      <td>11/15/2069</td>\n",
       "      <td>0319A</td>\n",
       "      <td>69.0</td>\n",
       "      <td>69</td>\n",
       "      <td>69</td>\n",
       "      <td>935065</td>\n",
       "      <td>40</td>\n",
       "      <td>-</td>\n",
       "      <td>K</td>\n",
       "      <td>0000</td>\n",
       "      <td>P</td>\n",
       "    </tr>\n",
       "    <tr>\n",
       "      <th>10803027</th>\n",
       "      <td>NY</td>\n",
       "      <td>PAS</td>\n",
       "      <td>11/19/2069</td>\n",
       "      <td>0843A</td>\n",
       "      <td>69.0</td>\n",
       "      <td>69</td>\n",
       "      <td>0</td>\n",
       "      <td>980319</td>\n",
       "      <td>21</td>\n",
       "      <td>-</td>\n",
       "      <td>K</td>\n",
       "      <td>0000</td>\n",
       "      <td>S</td>\n",
       "    </tr>\n",
       "  </tbody>\n",
       "</table>\n",
       "<p>10803028 rows × 13 columns</p>\n",
       "</div>"
      ],
      "text/plain": [
       "         Registration State Plate Type  ... Issuer Squad Issuing Agency\n",
       "0                        NY        PAS  ...          NaN              V\n",
       "1                        NY        PAS  ...          NaN              V\n",
       "2                        NY        PAS  ...          NaN              V\n",
       "3                        NY        COM  ...            J              T\n",
       "4                        NY        COM  ...            M              T\n",
       "...                     ...        ...  ...          ...            ...\n",
       "10803023                 NJ        PAS  ...         0000              S\n",
       "10803024                 NY        PAS  ...         0000              X\n",
       "10803025                 PA        PAS  ...         0000              P\n",
       "10803026                 NY        PAS  ...         0000              P\n",
       "10803027                 NY        PAS  ...         0000              S\n",
       "\n",
       "[10803028 rows x 13 columns]"
      ]
     },
     "execution_count": 15,
     "metadata": {
      "tags": []
     },
     "output_type": "execute_result"
    }
   ],
   "source": [
    "df = raw_df[cols_to_keep].copy() # making a copy detaches this from the origional sample_df and raw_df\n",
    "df"
   ]
  },
  {
   "cell_type": "markdown",
   "metadata": {
    "id": "dkdDvm33iVld"
   },
   "source": [
    "### Three of these columns look  like they have similar information"
   ]
  },
  {
   "cell_type": "code",
   "execution_count": 16,
   "metadata": {
    "colab": {
     "base_uri": "https://localhost:8080/",
     "height": 142
    },
    "executionInfo": {
     "elapsed": 1486,
     "status": "ok",
     "timestamp": 1626643518641,
     "user": {
      "displayName": "Samantha Roberts",
      "photoUrl": "",
      "userId": "12336021266384650140"
     },
     "user_tz": 240
    },
    "id": "yAEmFCvQigoF",
    "outputId": "f5c682c3-ebbe-48c6-9b8d-511b95212d73"
   },
   "outputs": [
    {
     "data": {
      "text/html": [
       "<div>\n",
       "<style scoped>\n",
       "    .dataframe tbody tr th:only-of-type {\n",
       "        vertical-align: middle;\n",
       "    }\n",
       "\n",
       "    .dataframe tbody tr th {\n",
       "        vertical-align: top;\n",
       "    }\n",
       "\n",
       "    .dataframe thead th {\n",
       "        text-align: right;\n",
       "    }\n",
       "</style>\n",
       "<table border=\"1\" class=\"dataframe\">\n",
       "  <thead>\n",
       "    <tr style=\"text-align: right;\">\n",
       "      <th></th>\n",
       "      <th>count</th>\n",
       "      <th>mean</th>\n",
       "      <th>std</th>\n",
       "      <th>min</th>\n",
       "      <th>25%</th>\n",
       "      <th>50%</th>\n",
       "      <th>75%</th>\n",
       "      <th>max</th>\n",
       "    </tr>\n",
       "  </thead>\n",
       "  <tbody>\n",
       "    <tr>\n",
       "      <th>Violation Location</th>\n",
       "      <td>8730628.0</td>\n",
       "      <td>55.696755</td>\n",
       "      <td>37.944333</td>\n",
       "      <td>1.0</td>\n",
       "      <td>19.0</td>\n",
       "      <td>50.0</td>\n",
       "      <td>90.0</td>\n",
       "      <td>933.0</td>\n",
       "    </tr>\n",
       "    <tr>\n",
       "      <th>Violation Precinct</th>\n",
       "      <td>10803028.0</td>\n",
       "      <td>45.012163</td>\n",
       "      <td>40.552560</td>\n",
       "      <td>0.0</td>\n",
       "      <td>7.0</td>\n",
       "      <td>33.0</td>\n",
       "      <td>78.0</td>\n",
       "      <td>933.0</td>\n",
       "    </tr>\n",
       "    <tr>\n",
       "      <th>Issuer Precinct</th>\n",
       "      <td>10803028.0</td>\n",
       "      <td>46.829312</td>\n",
       "      <td>62.667036</td>\n",
       "      <td>0.0</td>\n",
       "      <td>1.0</td>\n",
       "      <td>28.0</td>\n",
       "      <td>78.0</td>\n",
       "      <td>997.0</td>\n",
       "    </tr>\n",
       "  </tbody>\n",
       "</table>\n",
       "</div>"
      ],
      "text/plain": [
       "                         count       mean        std  ...   50%   75%    max\n",
       "Violation Location   8730628.0  55.696755  37.944333  ...  50.0  90.0  933.0\n",
       "Violation Precinct  10803028.0  45.012163  40.552560  ...  33.0  78.0  933.0\n",
       "Issuer Precinct     10803028.0  46.829312  62.667036  ...  28.0  78.0  997.0\n",
       "\n",
       "[3 rows x 8 columns]"
      ]
     },
     "execution_count": 16,
     "metadata": {
      "tags": []
     },
     "output_type": "execute_result"
    }
   ],
   "source": [
    "precinct_loc_df = df[['Violation Location', 'Violation Precinct', 'Issuer Precinct']]\n",
    "precinct_loc_df.describe().T"
   ]
  },
  {
   "cell_type": "code",
   "execution_count": 17,
   "metadata": {
    "colab": {
     "base_uri": "https://localhost:8080/"
    },
    "executionInfo": {
     "elapsed": 286,
     "status": "ok",
     "timestamp": 1626643518925,
     "user": {
      "displayName": "Samantha Roberts",
      "photoUrl": "",
      "userId": "12336021266384650140"
     },
     "user_tz": 240
    },
    "id": "DwA_j0r2ig3y",
    "outputId": "78340570-1d19-48b5-b156-5cb55bdf200a"
   },
   "outputs": [
    {
     "data": {
      "text/plain": [
       "Violation Location    212\n",
       "Violation Precinct    213\n",
       "Issuer Precinct       655\n",
       "dtype: int64"
      ]
     },
     "execution_count": 17,
     "metadata": {
      "tags": []
     },
     "output_type": "execute_result"
    }
   ],
   "source": [
    "precinct_loc_df.nunique()"
   ]
  },
  {
   "cell_type": "code",
   "execution_count": 17,
   "metadata": {
    "executionInfo": {
     "elapsed": 4,
     "status": "ok",
     "timestamp": 1626643518925,
     "user": {
      "displayName": "Samantha Roberts",
      "photoUrl": "",
      "userId": "12336021266384650140"
     },
     "user_tz": 240
    },
    "id": "ONm9a7K-jdJk"
   },
   "outputs": [],
   "source": []
  },
  {
   "cell_type": "markdown",
   "metadata": {
    "id": "kwYxBMx9jee9"
   },
   "source": [
    "**Let us plot the correlation to see if the columns are as related as it appears**"
   ]
  },
  {
   "cell_type": "code",
   "execution_count": 18,
   "metadata": {
    "colab": {
     "base_uri": "https://localhost:8080/",
     "height": 142
    },
    "executionInfo": {
     "elapsed": 1073,
     "status": "ok",
     "timestamp": 1626643519995,
     "user": {
      "displayName": "Samantha Roberts",
      "photoUrl": "",
      "userId": "12336021266384650140"
     },
     "user_tz": 240
    },
    "id": "eonqwD1FjSbd",
    "outputId": "f2d3112a-d445-4b0f-a7cd-f6c10c7af51e"
   },
   "outputs": [
    {
     "data": {
      "text/html": [
       "<div>\n",
       "<style scoped>\n",
       "    .dataframe tbody tr th:only-of-type {\n",
       "        vertical-align: middle;\n",
       "    }\n",
       "\n",
       "    .dataframe tbody tr th {\n",
       "        vertical-align: top;\n",
       "    }\n",
       "\n",
       "    .dataframe thead th {\n",
       "        text-align: right;\n",
       "    }\n",
       "</style>\n",
       "<table border=\"1\" class=\"dataframe\">\n",
       "  <thead>\n",
       "    <tr style=\"text-align: right;\">\n",
       "      <th></th>\n",
       "      <th>Violation Location</th>\n",
       "      <th>Violation Precinct</th>\n",
       "      <th>Issuer Precinct</th>\n",
       "    </tr>\n",
       "  </thead>\n",
       "  <tbody>\n",
       "    <tr>\n",
       "      <th>Violation Location</th>\n",
       "      <td>1.000000</td>\n",
       "      <td>1.000000</td>\n",
       "      <td>0.542733</td>\n",
       "    </tr>\n",
       "    <tr>\n",
       "      <th>Violation Precinct</th>\n",
       "      <td>1.000000</td>\n",
       "      <td>1.000000</td>\n",
       "      <td>0.617624</td>\n",
       "    </tr>\n",
       "    <tr>\n",
       "      <th>Issuer Precinct</th>\n",
       "      <td>0.542733</td>\n",
       "      <td>0.617624</td>\n",
       "      <td>1.000000</td>\n",
       "    </tr>\n",
       "  </tbody>\n",
       "</table>\n",
       "</div>"
      ],
      "text/plain": [
       "                    Violation Location  Violation Precinct  Issuer Precinct\n",
       "Violation Location            1.000000            1.000000         0.542733\n",
       "Violation Precinct            1.000000            1.000000         0.617624\n",
       "Issuer Precinct               0.542733            0.617624         1.000000"
      ]
     },
     "execution_count": 18,
     "metadata": {
      "tags": []
     },
     "output_type": "execute_result"
    }
   ],
   "source": [
    "precinct_loc_df.corr()"
   ]
  },
  {
   "cell_type": "code",
   "execution_count": 19,
   "metadata": {
    "colab": {
     "base_uri": "https://localhost:8080/",
     "height": 542
    },
    "executionInfo": {
     "elapsed": 1370,
     "status": "ok",
     "timestamp": 1626643521354,
     "user": {
      "displayName": "Samantha Roberts",
      "photoUrl": "",
      "userId": "12336021266384650140"
     },
     "user_tz": 240
    },
    "id": "ic6H0s0sjt1Z",
    "outputId": "c27e5d40-7655-4701-9a85-62ce1206a695"
   },
   "outputs": [
    {
     "data": {
      "text/html": [
       "<html>\n",
       "<head><meta charset=\"utf-8\" /></head>\n",
       "<body>\n",
       "    <div>            <script src=\"https://cdnjs.cloudflare.com/ajax/libs/mathjax/2.7.5/MathJax.js?config=TeX-AMS-MML_SVG\"></script><script type=\"text/javascript\">if (window.MathJax) {MathJax.Hub.Config({SVG: {font: \"STIX-Web\"}});}</script>                <script type=\"text/javascript\">window.PlotlyConfig = {MathJaxConfig: 'local'};</script>\n",
       "        <script src=\"https://cdn.plot.ly/plotly-2.2.0.min.js\"></script>                <div id=\"fddbe3a2-54f7-47c1-b9fe-ff4cef8f94c5\" class=\"plotly-graph-div\" style=\"height:525px; width:100%;\"></div>            <script type=\"text/javascript\">                                    window.PLOTLYENV=window.PLOTLYENV || {};                                    if (document.getElementById(\"fddbe3a2-54f7-47c1-b9fe-ff4cef8f94c5\")) {                    Plotly.newPlot(                        \"fddbe3a2-54f7-47c1-b9fe-ff4cef8f94c5\",                        [{\"coloraxis\":\"coloraxis\",\"hovertemplate\":\"x: %{x}<br>y: %{y}<br>color: %{z}<extra></extra>\",\"name\":\"0\",\"type\":\"heatmap\",\"x\":[\"Violation Location\",\"Violation Precinct\",\"Issuer Precinct\"],\"xaxis\":\"x\",\"y\":[\"Violation Location\",\"Violation Precinct\",\"Issuer Precinct\"],\"yaxis\":\"y\",\"z\":[[1.0,1.0,0.5427334744703168],[1.0,1.0,0.6176243306513305],[0.5427334744703168,0.6176243306513305,1.0]]}],                        {\"coloraxis\":{\"colorscale\":[[0.0,\"#0d0887\"],[0.1111111111111111,\"#46039f\"],[0.2222222222222222,\"#7201a8\"],[0.3333333333333333,\"#9c179e\"],[0.4444444444444444,\"#bd3786\"],[0.5555555555555556,\"#d8576b\"],[0.6666666666666666,\"#ed7953\"],[0.7777777777777778,\"#fb9f3a\"],[0.8888888888888888,\"#fdca26\"],[1.0,\"#f0f921\"]]},\"margin\":{\"t\":60},\"template\":{\"data\":{\"bar\":[{\"error_x\":{\"color\":\"#2a3f5f\"},\"error_y\":{\"color\":\"#2a3f5f\"},\"marker\":{\"line\":{\"color\":\"#E5ECF6\",\"width\":0.5},\"pattern\":{\"fillmode\":\"overlay\",\"size\":10,\"solidity\":0.2}},\"type\":\"bar\"}],\"barpolar\":[{\"marker\":{\"line\":{\"color\":\"#E5ECF6\",\"width\":0.5},\"pattern\":{\"fillmode\":\"overlay\",\"size\":10,\"solidity\":0.2}},\"type\":\"barpolar\"}],\"carpet\":[{\"aaxis\":{\"endlinecolor\":\"#2a3f5f\",\"gridcolor\":\"white\",\"linecolor\":\"white\",\"minorgridcolor\":\"white\",\"startlinecolor\":\"#2a3f5f\"},\"baxis\":{\"endlinecolor\":\"#2a3f5f\",\"gridcolor\":\"white\",\"linecolor\":\"white\",\"minorgridcolor\":\"white\",\"startlinecolor\":\"#2a3f5f\"},\"type\":\"carpet\"}],\"choropleth\":[{\"colorbar\":{\"outlinewidth\":0,\"ticks\":\"\"},\"type\":\"choropleth\"}],\"contour\":[{\"colorbar\":{\"outlinewidth\":0,\"ticks\":\"\"},\"colorscale\":[[0.0,\"#0d0887\"],[0.1111111111111111,\"#46039f\"],[0.2222222222222222,\"#7201a8\"],[0.3333333333333333,\"#9c179e\"],[0.4444444444444444,\"#bd3786\"],[0.5555555555555556,\"#d8576b\"],[0.6666666666666666,\"#ed7953\"],[0.7777777777777778,\"#fb9f3a\"],[0.8888888888888888,\"#fdca26\"],[1.0,\"#f0f921\"]],\"type\":\"contour\"}],\"contourcarpet\":[{\"colorbar\":{\"outlinewidth\":0,\"ticks\":\"\"},\"type\":\"contourcarpet\"}],\"heatmap\":[{\"colorbar\":{\"outlinewidth\":0,\"ticks\":\"\"},\"colorscale\":[[0.0,\"#0d0887\"],[0.1111111111111111,\"#46039f\"],[0.2222222222222222,\"#7201a8\"],[0.3333333333333333,\"#9c179e\"],[0.4444444444444444,\"#bd3786\"],[0.5555555555555556,\"#d8576b\"],[0.6666666666666666,\"#ed7953\"],[0.7777777777777778,\"#fb9f3a\"],[0.8888888888888888,\"#fdca26\"],[1.0,\"#f0f921\"]],\"type\":\"heatmap\"}],\"heatmapgl\":[{\"colorbar\":{\"outlinewidth\":0,\"ticks\":\"\"},\"colorscale\":[[0.0,\"#0d0887\"],[0.1111111111111111,\"#46039f\"],[0.2222222222222222,\"#7201a8\"],[0.3333333333333333,\"#9c179e\"],[0.4444444444444444,\"#bd3786\"],[0.5555555555555556,\"#d8576b\"],[0.6666666666666666,\"#ed7953\"],[0.7777777777777778,\"#fb9f3a\"],[0.8888888888888888,\"#fdca26\"],[1.0,\"#f0f921\"]],\"type\":\"heatmapgl\"}],\"histogram\":[{\"marker\":{\"pattern\":{\"fillmode\":\"overlay\",\"size\":10,\"solidity\":0.2}},\"type\":\"histogram\"}],\"histogram2d\":[{\"colorbar\":{\"outlinewidth\":0,\"ticks\":\"\"},\"colorscale\":[[0.0,\"#0d0887\"],[0.1111111111111111,\"#46039f\"],[0.2222222222222222,\"#7201a8\"],[0.3333333333333333,\"#9c179e\"],[0.4444444444444444,\"#bd3786\"],[0.5555555555555556,\"#d8576b\"],[0.6666666666666666,\"#ed7953\"],[0.7777777777777778,\"#fb9f3a\"],[0.8888888888888888,\"#fdca26\"],[1.0,\"#f0f921\"]],\"type\":\"histogram2d\"}],\"histogram2dcontour\":[{\"colorbar\":{\"outlinewidth\":0,\"ticks\":\"\"},\"colorscale\":[[0.0,\"#0d0887\"],[0.1111111111111111,\"#46039f\"],[0.2222222222222222,\"#7201a8\"],[0.3333333333333333,\"#9c179e\"],[0.4444444444444444,\"#bd3786\"],[0.5555555555555556,\"#d8576b\"],[0.6666666666666666,\"#ed7953\"],[0.7777777777777778,\"#fb9f3a\"],[0.8888888888888888,\"#fdca26\"],[1.0,\"#f0f921\"]],\"type\":\"histogram2dcontour\"}],\"mesh3d\":[{\"colorbar\":{\"outlinewidth\":0,\"ticks\":\"\"},\"type\":\"mesh3d\"}],\"parcoords\":[{\"line\":{\"colorbar\":{\"outlinewidth\":0,\"ticks\":\"\"}},\"type\":\"parcoords\"}],\"pie\":[{\"automargin\":true,\"type\":\"pie\"}],\"scatter\":[{\"marker\":{\"colorbar\":{\"outlinewidth\":0,\"ticks\":\"\"}},\"type\":\"scatter\"}],\"scatter3d\":[{\"line\":{\"colorbar\":{\"outlinewidth\":0,\"ticks\":\"\"}},\"marker\":{\"colorbar\":{\"outlinewidth\":0,\"ticks\":\"\"}},\"type\":\"scatter3d\"}],\"scattercarpet\":[{\"marker\":{\"colorbar\":{\"outlinewidth\":0,\"ticks\":\"\"}},\"type\":\"scattercarpet\"}],\"scattergeo\":[{\"marker\":{\"colorbar\":{\"outlinewidth\":0,\"ticks\":\"\"}},\"type\":\"scattergeo\"}],\"scattergl\":[{\"marker\":{\"colorbar\":{\"outlinewidth\":0,\"ticks\":\"\"}},\"type\":\"scattergl\"}],\"scattermapbox\":[{\"marker\":{\"colorbar\":{\"outlinewidth\":0,\"ticks\":\"\"}},\"type\":\"scattermapbox\"}],\"scatterpolar\":[{\"marker\":{\"colorbar\":{\"outlinewidth\":0,\"ticks\":\"\"}},\"type\":\"scatterpolar\"}],\"scatterpolargl\":[{\"marker\":{\"colorbar\":{\"outlinewidth\":0,\"ticks\":\"\"}},\"type\":\"scatterpolargl\"}],\"scatterternary\":[{\"marker\":{\"colorbar\":{\"outlinewidth\":0,\"ticks\":\"\"}},\"type\":\"scatterternary\"}],\"surface\":[{\"colorbar\":{\"outlinewidth\":0,\"ticks\":\"\"},\"colorscale\":[[0.0,\"#0d0887\"],[0.1111111111111111,\"#46039f\"],[0.2222222222222222,\"#7201a8\"],[0.3333333333333333,\"#9c179e\"],[0.4444444444444444,\"#bd3786\"],[0.5555555555555556,\"#d8576b\"],[0.6666666666666666,\"#ed7953\"],[0.7777777777777778,\"#fb9f3a\"],[0.8888888888888888,\"#fdca26\"],[1.0,\"#f0f921\"]],\"type\":\"surface\"}],\"table\":[{\"cells\":{\"fill\":{\"color\":\"#EBF0F8\"},\"line\":{\"color\":\"white\"}},\"header\":{\"fill\":{\"color\":\"#C8D4E3\"},\"line\":{\"color\":\"white\"}},\"type\":\"table\"}]},\"layout\":{\"annotationdefaults\":{\"arrowcolor\":\"#2a3f5f\",\"arrowhead\":0,\"arrowwidth\":1},\"autotypenumbers\":\"strict\",\"coloraxis\":{\"colorbar\":{\"outlinewidth\":0,\"ticks\":\"\"}},\"colorscale\":{\"diverging\":[[0,\"#8e0152\"],[0.1,\"#c51b7d\"],[0.2,\"#de77ae\"],[0.3,\"#f1b6da\"],[0.4,\"#fde0ef\"],[0.5,\"#f7f7f7\"],[0.6,\"#e6f5d0\"],[0.7,\"#b8e186\"],[0.8,\"#7fbc41\"],[0.9,\"#4d9221\"],[1,\"#276419\"]],\"sequential\":[[0.0,\"#0d0887\"],[0.1111111111111111,\"#46039f\"],[0.2222222222222222,\"#7201a8\"],[0.3333333333333333,\"#9c179e\"],[0.4444444444444444,\"#bd3786\"],[0.5555555555555556,\"#d8576b\"],[0.6666666666666666,\"#ed7953\"],[0.7777777777777778,\"#fb9f3a\"],[0.8888888888888888,\"#fdca26\"],[1.0,\"#f0f921\"]],\"sequentialminus\":[[0.0,\"#0d0887\"],[0.1111111111111111,\"#46039f\"],[0.2222222222222222,\"#7201a8\"],[0.3333333333333333,\"#9c179e\"],[0.4444444444444444,\"#bd3786\"],[0.5555555555555556,\"#d8576b\"],[0.6666666666666666,\"#ed7953\"],[0.7777777777777778,\"#fb9f3a\"],[0.8888888888888888,\"#fdca26\"],[1.0,\"#f0f921\"]]},\"colorway\":[\"#636efa\",\"#EF553B\",\"#00cc96\",\"#ab63fa\",\"#FFA15A\",\"#19d3f3\",\"#FF6692\",\"#B6E880\",\"#FF97FF\",\"#FECB52\"],\"font\":{\"color\":\"#2a3f5f\"},\"geo\":{\"bgcolor\":\"white\",\"lakecolor\":\"white\",\"landcolor\":\"#E5ECF6\",\"showlakes\":true,\"showland\":true,\"subunitcolor\":\"white\"},\"hoverlabel\":{\"align\":\"left\"},\"hovermode\":\"closest\",\"mapbox\":{\"style\":\"light\"},\"paper_bgcolor\":\"white\",\"plot_bgcolor\":\"#E5ECF6\",\"polar\":{\"angularaxis\":{\"gridcolor\":\"white\",\"linecolor\":\"white\",\"ticks\":\"\"},\"bgcolor\":\"#E5ECF6\",\"radialaxis\":{\"gridcolor\":\"white\",\"linecolor\":\"white\",\"ticks\":\"\"}},\"scene\":{\"xaxis\":{\"backgroundcolor\":\"#E5ECF6\",\"gridcolor\":\"white\",\"gridwidth\":2,\"linecolor\":\"white\",\"showbackground\":true,\"ticks\":\"\",\"zerolinecolor\":\"white\"},\"yaxis\":{\"backgroundcolor\":\"#E5ECF6\",\"gridcolor\":\"white\",\"gridwidth\":2,\"linecolor\":\"white\",\"showbackground\":true,\"ticks\":\"\",\"zerolinecolor\":\"white\"},\"zaxis\":{\"backgroundcolor\":\"#E5ECF6\",\"gridcolor\":\"white\",\"gridwidth\":2,\"linecolor\":\"white\",\"showbackground\":true,\"ticks\":\"\",\"zerolinecolor\":\"white\"}},\"shapedefaults\":{\"line\":{\"color\":\"#2a3f5f\"}},\"ternary\":{\"aaxis\":{\"gridcolor\":\"white\",\"linecolor\":\"white\",\"ticks\":\"\"},\"baxis\":{\"gridcolor\":\"white\",\"linecolor\":\"white\",\"ticks\":\"\"},\"bgcolor\":\"#E5ECF6\",\"caxis\":{\"gridcolor\":\"white\",\"linecolor\":\"white\",\"ticks\":\"\"}},\"title\":{\"x\":0.05},\"xaxis\":{\"automargin\":true,\"gridcolor\":\"white\",\"linecolor\":\"white\",\"ticks\":\"\",\"title\":{\"standoff\":15},\"zerolinecolor\":\"white\",\"zerolinewidth\":2},\"yaxis\":{\"automargin\":true,\"gridcolor\":\"white\",\"linecolor\":\"white\",\"ticks\":\"\",\"title\":{\"standoff\":15},\"zerolinecolor\":\"white\",\"zerolinewidth\":2}}},\"xaxis\":{\"anchor\":\"y\",\"constrain\":\"domain\",\"domain\":[0.0,1.0],\"scaleanchor\":\"y\"},\"yaxis\":{\"anchor\":\"x\",\"autorange\":\"reversed\",\"constrain\":\"domain\",\"domain\":[0.0,1.0]}},                        {\"responsive\": true}                    ).then(function(){\n",
       "                            \n",
       "var gd = document.getElementById('fddbe3a2-54f7-47c1-b9fe-ff4cef8f94c5');\n",
       "var x = new MutationObserver(function (mutations, observer) {{\n",
       "        var display = window.getComputedStyle(gd).display;\n",
       "        if (!display || display === 'none') {{\n",
       "            console.log([gd, 'removed!']);\n",
       "            Plotly.purge(gd);\n",
       "            observer.disconnect();\n",
       "        }}\n",
       "}});\n",
       "\n",
       "// Listen for the removal of the full notebook cells\n",
       "var notebookContainer = gd.closest('#notebook-container');\n",
       "if (notebookContainer) {{\n",
       "    x.observe(notebookContainer, {childList: true});\n",
       "}}\n",
       "\n",
       "// Listen for the clearing of the current output cell\n",
       "var outputEl = gd.closest('.output');\n",
       "if (outputEl) {{\n",
       "    x.observe(outputEl, {childList: true});\n",
       "}}\n",
       "\n",
       "                        })                };                            </script>        </div>\n",
       "</body>\n",
       "</html>"
      ]
     },
     "metadata": {
      "tags": []
     },
     "output_type": "display_data"
    }
   ],
   "source": [
    "px.imshow(precinct_loc_df.corr()) "
   ]
  },
  {
   "cell_type": "markdown",
   "metadata": {
    "id": "Kjzh0KGdj5Qm"
   },
   "source": [
    "**They are duplicated - let us drop Violation Precinct as the oly difference is '0''s which is not a valid precinct number**"
   ]
  },
  {
   "cell_type": "code",
   "execution_count": 20,
   "metadata": {
    "executionInfo": {
     "elapsed": 811,
     "status": "ok",
     "timestamp": 1626643522161,
     "user": {
      "displayName": "Samantha Roberts",
      "photoUrl": "",
      "userId": "12336021266384650140"
     },
     "user_tz": 240
    },
    "id": "AzoUV1aPj3o1"
   },
   "outputs": [],
   "source": [
    "df.drop('Violation Precinct', axis=1, inplace=True)"
   ]
  },
  {
   "cell_type": "markdown",
   "metadata": {
    "id": "Ba5RYCYTkzAA"
   },
   "source": [
    "**Meanwhile the 'Issuer Precinct has many more values** \n",
    "- Perhaps later we can correlate these with the 'Issuer Squad'\n",
    "\n"
   ]
  },
  {
   "cell_type": "code",
   "execution_count": 20,
   "metadata": {
    "executionInfo": {
     "elapsed": 4,
     "status": "ok",
     "timestamp": 1626643522161,
     "user": {
      "displayName": "Samantha Roberts",
      "photoUrl": "",
      "userId": "12336021266384650140"
     },
     "user_tz": 240
    },
    "id": "VCdK_Xgiig7t"
   },
   "outputs": [],
   "source": []
  },
  {
   "cell_type": "markdown",
   "metadata": {
    "id": "9P7foqZqgMFH"
   },
   "source": [
    "### Get the date and time into proper datetime format\n",
    "- Merge the two columns\n",
    "- format for time conversion -- add 'M' to put into std 'AM' and 'PM' format\n",
    "- convert to Datetime format"
   ]
  },
  {
   "cell_type": "code",
   "execution_count": 21,
   "metadata": {
    "colab": {
     "base_uri": "https://localhost:8080/"
    },
    "executionInfo": {
     "elapsed": 39478,
     "status": "ok",
     "timestamp": 1626643561636,
     "user": {
      "displayName": "Samantha Roberts",
      "photoUrl": "",
      "userId": "12336021266384650140"
     },
     "user_tz": 240
    },
    "id": "jX7mKtkodk8a",
    "outputId": "7e936afa-ad65-4e44-dc53-7b695f6e705b"
   },
   "outputs": [
    {
     "name": "stdout",
     "output_type": "stream",
     "text": [
      "CPU times: user 38.7 s, sys: 1.48 s, total: 40.2 s\n",
      "Wall time: 39.6 s\n"
     ]
    }
   ],
   "source": [
    "%%time\n",
    "df['Issue Date and Time'] = df['Issue Date'] + ' ' + df['Violation Time']\n",
    "df['Issue Date and Time'] = df['Issue Date and Time'] + 'M'\n",
    "df['Issue Date and Time'] = pd.to_datetime(df['Issue Date and Time'], format='%m/%d/%Y %I%M%p', errors='coerce')"
   ]
  },
  {
   "cell_type": "code",
   "execution_count": 22,
   "metadata": {
    "colab": {
     "base_uri": "https://localhost:8080/"
    },
    "executionInfo": {
     "elapsed": 20,
     "status": "ok",
     "timestamp": 1626643561637,
     "user": {
      "displayName": "Samantha Roberts",
      "photoUrl": "",
      "userId": "12336021266384650140"
     },
     "user_tz": 240
    },
    "id": "-OLBBQJPdk_C",
    "outputId": "26569413-5ffc-4b06-a4f3-e33fe0ed217b"
   },
   "outputs": [
    {
     "data": {
      "text/plain": [
       "0          2016-07-10 01:43:00\n",
       "1          2016-07-08 16:00:00\n",
       "2          2016-08-23 14:33:00\n",
       "3          2017-06-14 11:20:00\n",
       "4          2016-11-21 17:55:00\n",
       "                   ...        \n",
       "10803023   2068-11-02 12:07:00\n",
       "10803024   2069-07-12 07:50:00\n",
       "10803025   2069-08-14 11:50:00\n",
       "10803026   2069-11-15 03:19:00\n",
       "10803027   2069-11-19 08:43:00\n",
       "Name: Issue Date and Time, Length: 10803028, dtype: datetime64[ns]"
      ]
     },
     "execution_count": 22,
     "metadata": {
      "tags": []
     },
     "output_type": "execute_result"
    }
   ],
   "source": [
    "df['Issue Date and Time']"
   ]
  },
  {
   "cell_type": "markdown",
   "metadata": {
    "id": "3TtKkmM0h-S2"
   },
   "source": [
    "**Let us see how many date times errors caused NaT values**"
   ]
  },
  {
   "cell_type": "code",
   "execution_count": 23,
   "metadata": {
    "colab": {
     "base_uri": "https://localhost:8080/"
    },
    "executionInfo": {
     "elapsed": 288,
     "status": "ok",
     "timestamp": 1626643561914,
     "user": {
      "displayName": "Samantha Roberts",
      "photoUrl": "",
      "userId": "12336021266384650140"
     },
     "user_tz": 240
    },
    "id": "MdC7N6KLdlB0",
    "outputId": "dd08b6ba-dc9e-4991-b691-950a994e60f1"
   },
   "outputs": [
    {
     "data": {
      "text/plain": [
       "58838"
      ]
     },
     "execution_count": 23,
     "metadata": {
      "tags": []
     },
     "output_type": "execute_result"
    }
   ],
   "source": [
    "df['Issue Date and Time'].isna().sum()"
   ]
  },
  {
   "cell_type": "markdown",
   "metadata": {
    "id": "GtOx6FiOltML"
   },
   "source": [
    "**How big of a percentage of the data is this?  (Do we need to be concerned?) Compute percentage**"
   ]
  },
  {
   "cell_type": "code",
   "execution_count": 24,
   "metadata": {
    "colab": {
     "base_uri": "https://localhost:8080/"
    },
    "executionInfo": {
     "elapsed": 10,
     "status": "ok",
     "timestamp": 1626643561915,
     "user": {
      "displayName": "Samantha Roberts",
      "photoUrl": "",
      "userId": "12336021266384650140"
     },
     "user_tz": 240
    },
    "id": "mlrUtwcOlqk-",
    "outputId": "046c222b-d6e3-4822-9ed1-3863a854d37b"
   },
   "outputs": [
    {
     "data": {
      "text/plain": [
       "0.544643594370023"
      ]
     },
     "execution_count": 24,
     "metadata": {
      "tags": []
     },
     "output_type": "execute_result"
    }
   ],
   "source": [
    "df['Issue Date and Time'].isna().sum()/df.shape[0] * 100"
   ]
  },
  {
   "cell_type": "markdown",
   "metadata": {
    "id": "ETUVl_exmCmT"
   },
   "source": [
    "**only 0.54% -- we can let this go**\n",
    "- these are mostly caused by the entries with time = 00XXAM which is a 24 hour format in pandas datetime \n",
    "- these should be 12XXAM in the 12 hour format\n",
    "- [xxx] Can come back and preprocess these so I do not loose these values"
   ]
  },
  {
   "cell_type": "markdown",
   "metadata": {
    "id": "1QDGppsEoHXQ"
   },
   "source": [
    "**Let us drop the old date and Time columns (for now)**"
   ]
  },
  {
   "cell_type": "code",
   "execution_count": 25,
   "metadata": {
    "colab": {
     "base_uri": "https://localhost:8080/",
     "height": 142
    },
    "executionInfo": {
     "elapsed": 694,
     "status": "ok",
     "timestamp": 1626643562605,
     "user": {
      "displayName": "Samantha Roberts",
      "photoUrl": "",
      "userId": "12336021266384650140"
     },
     "user_tz": 240
    },
    "id": "T5UgVZmyoFnY",
    "outputId": "e4dc5d7d-575b-4e9d-8835-d3ebc9e1aab5"
   },
   "outputs": [
    {
     "data": {
      "text/html": [
       "<div>\n",
       "<style scoped>\n",
       "    .dataframe tbody tr th:only-of-type {\n",
       "        vertical-align: middle;\n",
       "    }\n",
       "\n",
       "    .dataframe tbody tr th {\n",
       "        vertical-align: top;\n",
       "    }\n",
       "\n",
       "    .dataframe thead th {\n",
       "        text-align: right;\n",
       "    }\n",
       "</style>\n",
       "<table border=\"1\" class=\"dataframe\">\n",
       "  <thead>\n",
       "    <tr style=\"text-align: right;\">\n",
       "      <th></th>\n",
       "      <th>Registration State</th>\n",
       "      <th>Plate Type</th>\n",
       "      <th>Violation Location</th>\n",
       "      <th>Issuer Precinct</th>\n",
       "      <th>Issuer Code</th>\n",
       "      <th>Violation Code</th>\n",
       "      <th>Meter Number</th>\n",
       "      <th>Violation County</th>\n",
       "      <th>Issuer Squad</th>\n",
       "      <th>Issuing Agency</th>\n",
       "      <th>Issue Date and Time</th>\n",
       "    </tr>\n",
       "  </thead>\n",
       "  <tbody>\n",
       "    <tr>\n",
       "      <th>0</th>\n",
       "      <td>NY</td>\n",
       "      <td>PAS</td>\n",
       "      <td>NaN</td>\n",
       "      <td>0</td>\n",
       "      <td>0</td>\n",
       "      <td>7</td>\n",
       "      <td>NaN</td>\n",
       "      <td>BX</td>\n",
       "      <td>NaN</td>\n",
       "      <td>V</td>\n",
       "      <td>2016-07-10 01:43:00</td>\n",
       "    </tr>\n",
       "    <tr>\n",
       "      <th>1</th>\n",
       "      <td>NY</td>\n",
       "      <td>PAS</td>\n",
       "      <td>NaN</td>\n",
       "      <td>0</td>\n",
       "      <td>0</td>\n",
       "      <td>7</td>\n",
       "      <td>NaN</td>\n",
       "      <td>BX</td>\n",
       "      <td>NaN</td>\n",
       "      <td>V</td>\n",
       "      <td>2016-07-08 16:00:00</td>\n",
       "    </tr>\n",
       "    <tr>\n",
       "      <th>2</th>\n",
       "      <td>NY</td>\n",
       "      <td>PAS</td>\n",
       "      <td>NaN</td>\n",
       "      <td>0</td>\n",
       "      <td>0</td>\n",
       "      <td>5</td>\n",
       "      <td>NaN</td>\n",
       "      <td>BX</td>\n",
       "      <td>NaN</td>\n",
       "      <td>V</td>\n",
       "      <td>2016-08-23 14:33:00</td>\n",
       "    </tr>\n",
       "  </tbody>\n",
       "</table>\n",
       "</div>"
      ],
      "text/plain": [
       "  Registration State Plate Type  ...  Issuing Agency  Issue Date and Time\n",
       "0                 NY        PAS  ...               V  2016-07-10 01:43:00\n",
       "1                 NY        PAS  ...               V  2016-07-08 16:00:00\n",
       "2                 NY        PAS  ...               V  2016-08-23 14:33:00\n",
       "\n",
       "[3 rows x 11 columns]"
      ]
     },
     "execution_count": 25,
     "metadata": {
      "tags": []
     },
     "output_type": "execute_result"
    }
   ],
   "source": [
    "df.drop(['Violation Time', 'Issue Date'], axis=1, inplace=True)\n",
    "df.head(3)"
   ]
  },
  {
   "cell_type": "markdown",
   "metadata": {
    "id": "jbyJ2YklmPg1"
   },
   "source": [
    "### Now let us clean up the violation county column\n",
    "- There are only 5 counties in NYC -- let us group all of these"
   ]
  },
  {
   "cell_type": "code",
   "execution_count": 26,
   "metadata": {
    "colab": {
     "base_uri": "https://localhost:8080/"
    },
    "executionInfo": {
     "elapsed": 268,
     "status": "ok",
     "timestamp": 1626643563197,
     "user": {
      "displayName": "Samantha Roberts",
      "photoUrl": "",
      "userId": "12336021266384650140"
     },
     "user_tz": 240
    },
    "id": "UyGLbg04l-Rt",
    "outputId": "ac5dfe5e-1887-4a66-c5a5-8b6524b05564"
   },
   "outputs": [
    {
     "data": {
      "text/plain": [
       "array(['BX', 'NY', 'QN', 'K', 'Q', 'R', 'BK', 'ST', 'MN', nan, 'BRONX',\n",
       "       'QNS', 'KINGS'], dtype=object)"
      ]
     },
     "execution_count": 26,
     "metadata": {
      "tags": []
     },
     "output_type": "execute_result"
    }
   ],
   "source": [
    "df['Violation County'].unique()"
   ]
  },
  {
   "cell_type": "code",
   "execution_count": 27,
   "metadata": {
    "colab": {
     "base_uri": "https://localhost:8080/"
    },
    "executionInfo": {
     "elapsed": 523,
     "status": "ok",
     "timestamp": 1626643564483,
     "user": {
      "displayName": "Samantha Roberts",
      "photoUrl": "",
      "userId": "12336021266384650140"
     },
     "user_tz": 240
    },
    "id": "5YIuTd6NmkF2",
    "outputId": "550bda12-7f9d-4130-a7da-a21cad4bd6c9"
   },
   "outputs": [
    {
     "data": {
      "text/plain": [
       "NY       3433026\n",
       "K        2218843\n",
       "Q        1838985\n",
       "BX       1362463\n",
       "BK        880657\n",
       "QN        674245\n",
       "ST        137542\n",
       "R         121416\n",
       "MN         96298\n",
       "KINGS          2\n",
       "BRONX          2\n",
       "QNS            2\n",
       "Name: Violation County, dtype: int64"
      ]
     },
     "execution_count": 27,
     "metadata": {
      "tags": []
     },
     "output_type": "execute_result"
    }
   ],
   "source": [
    "df['Violation County'].value_counts()"
   ]
  },
  {
   "cell_type": "code",
   "execution_count": 28,
   "metadata": {
    "colab": {
     "base_uri": "https://localhost:8080/",
     "height": 235
    },
    "executionInfo": {
     "elapsed": 485,
     "status": "ok",
     "timestamp": 1626643564964,
     "user": {
      "displayName": "Samantha Roberts",
      "photoUrl": "",
      "userId": "12336021266384650140"
     },
     "user_tz": 240
    },
    "id": "DJ5B4qz1moZ1",
    "outputId": "59274813-221e-425f-c806-cd1589cddfbe"
   },
   "outputs": [
    {
     "data": {
      "text/html": [
       "<div>\n",
       "<style scoped>\n",
       "    .dataframe tbody tr th:only-of-type {\n",
       "        vertical-align: middle;\n",
       "    }\n",
       "\n",
       "    .dataframe tbody tr th {\n",
       "        vertical-align: top;\n",
       "    }\n",
       "\n",
       "    .dataframe thead th {\n",
       "        text-align: right;\n",
       "    }\n",
       "</style>\n",
       "<table border=\"1\" class=\"dataframe\">\n",
       "  <thead>\n",
       "    <tr style=\"text-align: right;\">\n",
       "      <th></th>\n",
       "      <th>Registration State</th>\n",
       "      <th>Plate Type</th>\n",
       "      <th>Violation Location</th>\n",
       "      <th>Issuer Precinct</th>\n",
       "      <th>Issuer Code</th>\n",
       "      <th>Violation Code</th>\n",
       "      <th>Meter Number</th>\n",
       "      <th>Violation County</th>\n",
       "      <th>Issuer Squad</th>\n",
       "      <th>Issuing Agency</th>\n",
       "      <th>Issue Date and Time</th>\n",
       "    </tr>\n",
       "  </thead>\n",
       "  <tbody>\n",
       "    <tr>\n",
       "      <th>1294039</th>\n",
       "      <td>NY</td>\n",
       "      <td>PAS</td>\n",
       "      <td>41.0</td>\n",
       "      <td>67</td>\n",
       "      <td>311404</td>\n",
       "      <td>14</td>\n",
       "      <td>-</td>\n",
       "      <td>BRONX</td>\n",
       "      <td>0000</td>\n",
       "      <td>P</td>\n",
       "      <td>2017-03-02 21:35:00</td>\n",
       "    </tr>\n",
       "    <tr>\n",
       "      <th>3853217</th>\n",
       "      <td>NY</td>\n",
       "      <td>PAS</td>\n",
       "      <td>108.0</td>\n",
       "      <td>0</td>\n",
       "      <td>568677</td>\n",
       "      <td>40</td>\n",
       "      <td>-</td>\n",
       "      <td>QNS</td>\n",
       "      <td>0000</td>\n",
       "      <td>X</td>\n",
       "      <td>2016-10-07 07:45:00</td>\n",
       "    </tr>\n",
       "    <tr>\n",
       "      <th>4684445</th>\n",
       "      <td>NY</td>\n",
       "      <td>PAS</td>\n",
       "      <td>41.0</td>\n",
       "      <td>67</td>\n",
       "      <td>311404</td>\n",
       "      <td>14</td>\n",
       "      <td>-</td>\n",
       "      <td>BRONX</td>\n",
       "      <td>0000</td>\n",
       "      <td>P</td>\n",
       "      <td>2016-09-20 13:40:00</td>\n",
       "    </tr>\n",
       "    <tr>\n",
       "      <th>9904658</th>\n",
       "      <td>NY</td>\n",
       "      <td>COM</td>\n",
       "      <td>84.0</td>\n",
       "      <td>674</td>\n",
       "      <td>944552</td>\n",
       "      <td>14</td>\n",
       "      <td>-</td>\n",
       "      <td>KINGS</td>\n",
       "      <td>0000</td>\n",
       "      <td>P</td>\n",
       "      <td>2016-09-29 13:45:00</td>\n",
       "    </tr>\n",
       "    <tr>\n",
       "      <th>10213529</th>\n",
       "      <td>NY</td>\n",
       "      <td>PAS</td>\n",
       "      <td>NaN</td>\n",
       "      <td>820</td>\n",
       "      <td>920348</td>\n",
       "      <td>40</td>\n",
       "      <td>-</td>\n",
       "      <td>QNS</td>\n",
       "      <td>0000</td>\n",
       "      <td>F</td>\n",
       "      <td>2017-02-24 10:57:00</td>\n",
       "    </tr>\n",
       "    <tr>\n",
       "      <th>10538928</th>\n",
       "      <td>NY</td>\n",
       "      <td>PAS</td>\n",
       "      <td>84.0</td>\n",
       "      <td>674</td>\n",
       "      <td>944552</td>\n",
       "      <td>20</td>\n",
       "      <td>-</td>\n",
       "      <td>KINGS</td>\n",
       "      <td>0000</td>\n",
       "      <td>P</td>\n",
       "      <td>2016-10-19 13:21:00</td>\n",
       "    </tr>\n",
       "  </tbody>\n",
       "</table>\n",
       "</div>"
      ],
      "text/plain": [
       "         Registration State Plate Type  ...  Issuing Agency  Issue Date and Time\n",
       "1294039                  NY        PAS  ...               P  2017-03-02 21:35:00\n",
       "3853217                  NY        PAS  ...               X  2016-10-07 07:45:00\n",
       "4684445                  NY        PAS  ...               P  2016-09-20 13:40:00\n",
       "9904658                  NY        COM  ...               P  2016-09-29 13:45:00\n",
       "10213529                 NY        PAS  ...               F  2017-02-24 10:57:00\n",
       "10538928                 NY        PAS  ...               P  2016-10-19 13:21:00\n",
       "\n",
       "[6 rows x 11 columns]"
      ]
     },
     "execution_count": 28,
     "metadata": {
      "tags": []
     },
     "output_type": "execute_result"
    }
   ],
   "source": [
    "df[df['Violation County'].isin(['KINGS', 'QNS', 'BRONX'])]"
   ]
  },
  {
   "cell_type": "code",
   "execution_count": 29,
   "metadata": {
    "colab": {
     "base_uri": "https://localhost:8080/",
     "height": 142
    },
    "executionInfo": {
     "elapsed": 1356,
     "status": "ok",
     "timestamp": 1626643566587,
     "user": {
      "displayName": "Samantha Roberts",
      "photoUrl": "",
      "userId": "12336021266384650140"
     },
     "user_tz": 240
    },
    "id": "G1O9qk5Ko8ae",
    "outputId": "562501c3-1397-49c2-e3eb-f15c5fa7c866"
   },
   "outputs": [
    {
     "data": {
      "text/html": [
       "<div>\n",
       "<style scoped>\n",
       "    .dataframe tbody tr th:only-of-type {\n",
       "        vertical-align: middle;\n",
       "    }\n",
       "\n",
       "    .dataframe tbody tr th {\n",
       "        vertical-align: top;\n",
       "    }\n",
       "\n",
       "    .dataframe thead th {\n",
       "        text-align: right;\n",
       "    }\n",
       "</style>\n",
       "<table border=\"1\" class=\"dataframe\">\n",
       "  <thead>\n",
       "    <tr style=\"text-align: right;\">\n",
       "      <th></th>\n",
       "      <th>Registration State</th>\n",
       "      <th>Plate Type</th>\n",
       "      <th>Violation Location</th>\n",
       "      <th>Issuer Precinct</th>\n",
       "      <th>Issuer Code</th>\n",
       "      <th>Violation Code</th>\n",
       "      <th>Meter Number</th>\n",
       "      <th>Violation County</th>\n",
       "      <th>Issuer Squad</th>\n",
       "      <th>Issuing Agency</th>\n",
       "      <th>Issue Date and Time</th>\n",
       "    </tr>\n",
       "  </thead>\n",
       "  <tbody>\n",
       "    <tr>\n",
       "      <th>0</th>\n",
       "      <td>NY</td>\n",
       "      <td>PAS</td>\n",
       "      <td>NaN</td>\n",
       "      <td>0</td>\n",
       "      <td>0</td>\n",
       "      <td>7</td>\n",
       "      <td>NaN</td>\n",
       "      <td>Bronx</td>\n",
       "      <td>NaN</td>\n",
       "      <td>V</td>\n",
       "      <td>2016-07-10 01:43:00</td>\n",
       "    </tr>\n",
       "    <tr>\n",
       "      <th>1</th>\n",
       "      <td>NY</td>\n",
       "      <td>PAS</td>\n",
       "      <td>NaN</td>\n",
       "      <td>0</td>\n",
       "      <td>0</td>\n",
       "      <td>7</td>\n",
       "      <td>NaN</td>\n",
       "      <td>Bronx</td>\n",
       "      <td>NaN</td>\n",
       "      <td>V</td>\n",
       "      <td>2016-07-08 16:00:00</td>\n",
       "    </tr>\n",
       "    <tr>\n",
       "      <th>2</th>\n",
       "      <td>NY</td>\n",
       "      <td>PAS</td>\n",
       "      <td>NaN</td>\n",
       "      <td>0</td>\n",
       "      <td>0</td>\n",
       "      <td>5</td>\n",
       "      <td>NaN</td>\n",
       "      <td>Bronx</td>\n",
       "      <td>NaN</td>\n",
       "      <td>V</td>\n",
       "      <td>2016-08-23 14:33:00</td>\n",
       "    </tr>\n",
       "  </tbody>\n",
       "</table>\n",
       "</div>"
      ],
      "text/plain": [
       "  Registration State Plate Type  ...  Issuing Agency  Issue Date and Time\n",
       "0                 NY        PAS  ...               V  2016-07-10 01:43:00\n",
       "1                 NY        PAS  ...               V  2016-07-08 16:00:00\n",
       "2                 NY        PAS  ...               V  2016-08-23 14:33:00\n",
       "\n",
       "[3 rows x 11 columns]"
      ]
     },
     "execution_count": 29,
     "metadata": {
      "tags": []
     },
     "output_type": "execute_result"
    }
   ],
   "source": [
    "remap_county_dict = {\n",
    "    'K' : 'Brooklyn',\n",
    "    'Q' : 'Queens',\n",
    "    'NY': 'Manhattan',\n",
    "    'QN': 'Queens',\n",
    "    'BK': 'Brooklyn',\n",
    "    'R' : 'Staten Island',\n",
    "    'BX': 'Bronx',\n",
    "    'ST': 'Staten Island',\n",
    "    'MN': 'Manhattan',\n",
    "    'KINGS': 'Brooklyn',\n",
    "    'QNS': 'Queens',\n",
    "    'BRONX': 'Bronx'\n",
    "}\n",
    "df['Violation County'] = df['Violation County'].map(remap_county_dict).astype('category')\n",
    "df.head(3)"
   ]
  },
  {
   "cell_type": "markdown",
   "metadata": {
    "id": "He8Fie79qB70"
   },
   "source": [
    "**We have successfully grouped the counties int 5 catagories**"
   ]
  },
  {
   "cell_type": "code",
   "execution_count": 30,
   "metadata": {
    "colab": {
     "base_uri": "https://localhost:8080/"
    },
    "executionInfo": {
     "elapsed": 21,
     "status": "ok",
     "timestamp": 1626643566588,
     "user": {
      "displayName": "Samantha Roberts",
      "photoUrl": "",
      "userId": "12336021266384650140"
     },
     "user_tz": 240
    },
    "id": "xykI7W8__7mJ",
    "outputId": "c72ba237-bd7f-4928-ca2d-8e215434e119"
   },
   "outputs": [
    {
     "data": {
      "text/plain": [
       "39547"
      ]
     },
     "execution_count": 30,
     "metadata": {
      "tags": []
     },
     "output_type": "execute_result"
    }
   ],
   "source": [
    "df['Violation County'].isna().sum()"
   ]
  },
  {
   "cell_type": "code",
   "execution_count": 31,
   "metadata": {
    "colab": {
     "base_uri": "https://localhost:8080/"
    },
    "executionInfo": {
     "elapsed": 14,
     "status": "ok",
     "timestamp": 1626643566590,
     "user": {
      "displayName": "Samantha Roberts",
      "photoUrl": "",
      "userId": "12336021266384650140"
     },
     "user_tz": 240
    },
    "id": "2dKlCQA_pjuf",
    "outputId": "fe82718f-a422-464e-90a7-7635822ef473"
   },
   "outputs": [
    {
     "data": {
      "text/plain": [
       "['Bronx', 'Manhattan', 'Queens', 'Brooklyn', 'Staten Island', NaN]\n",
       "Categories (5, object): ['Bronx', 'Manhattan', 'Queens', 'Brooklyn', 'Staten Island']"
      ]
     },
     "execution_count": 31,
     "metadata": {
      "tags": []
     },
     "output_type": "execute_result"
    }
   ],
   "source": [
    "df['Violation County'].unique()"
   ]
  },
  {
   "cell_type": "markdown",
   "metadata": {
    "id": "_SFuLe3UsTk0"
   },
   "source": [
    "# STEP 3: Ask questions and answer them using EDA and Visualization"
   ]
  },
  {
   "cell_type": "markdown",
   "metadata": {
    "id": "Aw4bIlXas0jK"
   },
   "source": [
    "# Q1 - What is the distribution of tickets across the 5 boroughs for the year?"
   ]
  },
  {
   "cell_type": "code",
   "execution_count": 32,
   "metadata": {
    "executionInfo": {
     "elapsed": 10,
     "status": "ok",
     "timestamp": 1626643566591,
     "user": {
      "displayName": "Samantha Roberts",
      "photoUrl": "",
      "userId": "12336021266384650140"
     },
     "user_tz": 240
    },
    "id": "8WBEHQWB-sad"
   },
   "outputs": [],
   "source": [
    "#jovian.commit(project=project_name)"
   ]
  },
  {
   "cell_type": "code",
   "execution_count": 33,
   "metadata": {
    "colab": {
     "base_uri": "https://localhost:8080/",
     "height": 204
    },
    "executionInfo": {
     "elapsed": 11,
     "status": "ok",
     "timestamp": 1626643566592,
     "user": {
      "displayName": "Samantha Roberts",
      "photoUrl": "",
      "userId": "12336021266384650140"
     },
     "user_tz": 240
    },
    "id": "0kxGHOawtjw1",
    "outputId": "bf8fb9a2-bc19-444b-b2b3-358e559bde31"
   },
   "outputs": [
    {
     "data": {
      "text/html": [
       "<div>\n",
       "<style scoped>\n",
       "    .dataframe tbody tr th:only-of-type {\n",
       "        vertical-align: middle;\n",
       "    }\n",
       "\n",
       "    .dataframe tbody tr th {\n",
       "        vertical-align: top;\n",
       "    }\n",
       "\n",
       "    .dataframe thead th {\n",
       "        text-align: right;\n",
       "    }\n",
       "</style>\n",
       "<table border=\"1\" class=\"dataframe\">\n",
       "  <thead>\n",
       "    <tr style=\"text-align: right;\">\n",
       "      <th></th>\n",
       "      <th>Violation County</th>\n",
       "    </tr>\n",
       "  </thead>\n",
       "  <tbody>\n",
       "    <tr>\n",
       "      <th>Manhattan</th>\n",
       "      <td>3529324</td>\n",
       "    </tr>\n",
       "    <tr>\n",
       "      <th>Brooklyn</th>\n",
       "      <td>3099502</td>\n",
       "    </tr>\n",
       "    <tr>\n",
       "      <th>Queens</th>\n",
       "      <td>2513232</td>\n",
       "    </tr>\n",
       "    <tr>\n",
       "      <th>Bronx</th>\n",
       "      <td>1362465</td>\n",
       "    </tr>\n",
       "    <tr>\n",
       "      <th>Staten Island</th>\n",
       "      <td>258958</td>\n",
       "    </tr>\n",
       "  </tbody>\n",
       "</table>\n",
       "</div>"
      ],
      "text/plain": [
       "               Violation County\n",
       "Manhattan               3529324\n",
       "Brooklyn                3099502\n",
       "Queens                  2513232\n",
       "Bronx                   1362465\n",
       "Staten Island            258958"
      ]
     },
     "execution_count": 33,
     "metadata": {
      "tags": []
     },
     "output_type": "execute_result"
    }
   ],
   "source": [
    "county_totals_df = pd.DataFrame(df['Violation County'].value_counts())\n",
    "county_totals_df"
   ]
  },
  {
   "cell_type": "markdown",
   "metadata": {
    "id": "k4FDSPoNuKhe"
   },
   "source": [
    "**This is less than 1/2% of the total data -- perhaps can later be infered via the precinct**"
   ]
  },
  {
   "cell_type": "code",
   "execution_count": 34,
   "metadata": {
    "colab": {
     "base_uri": "https://localhost:8080/",
     "height": 534
    },
    "executionInfo": {
     "elapsed": 1530,
     "status": "ok",
     "timestamp": 1626643568112,
     "user": {
      "displayName": "Samantha Roberts",
      "photoUrl": "",
      "userId": "12336021266384650140"
     },
     "user_tz": 240
    },
    "id": "ygU34C9-vsWb",
    "outputId": "7c018034-7761-429a-caf2-aafe40cce2b4"
   },
   "outputs": [
    {
     "data": {
      "image/png": "[encoded data removed]",
      "text/plain": [
       "<Figure size 1080x576 with 1 Axes>"
      ]
     },
     "metadata": {
      "needs_background": "light",
      "tags": []
     },
     "output_type": "display_data"
    }
   ],
   "source": [
    "plt.figure(figsize=(15,8))\n",
    "ax = sns.countplot(x=\"Violation County\", data=df)\n",
    "plt.title('Number of tickets issued in 2017 by borough', fontsize=20);\n",
    "plt.xlabel('Violation Borough', fontsize=18)\n",
    "plt.ylabel('Number of tickets issued', fontsize=18);"
   ]
  },
  {
   "cell_type": "code",
   "execution_count": 35,
   "metadata": {
    "colab": {
     "base_uri": "https://localhost:8080/",
     "height": 596
    },
    "executionInfo": {
     "elapsed": 18,
     "status": "ok",
     "timestamp": 1626643568113,
     "user": {
      "displayName": "Samantha Roberts",
      "photoUrl": "",
      "userId": "12336021266384650140"
     },
     "user_tz": 240
    },
    "id": "kjqhWYMQxk2L",
    "outputId": "5a1e902e-ade7-4829-cc0d-24d7ee21c529"
   },
   "outputs": [
    {
     "data": {
      "image/png": "[encoded data removed]",
      "text/plain": [
       "<Figure size 720x720 with 1 Axes>"
      ]
     },
     "metadata": {
      "tags": []
     },
     "output_type": "display_data"
    }
   ],
   "source": [
    "pie, ax = plt.subplots(figsize=[10,10])\n",
    "plt.pie(x=county_totals_df['Violation County'], autopct=\"%.1f%%\", explode=[0.05]*5, labels=county_totals_df.index, pctdistance=0.5)\n",
    "plt.title(\"Percentage of tickets by borough\", fontsize=20);"
   ]
  },
  {
   "cell_type": "markdown",
   "metadata": {
    "id": "FZyMGuAnrogf"
   },
   "source": [
    "## The largest ticket issuer is Manhattan and the lowest is Staten Island  \n",
    "- Manhattan is one of the most densly populated areas of NYC with over 71,000 people per square mile and private parking garages costing several hundered and even thousands per month\n",
    "- Staten Island is a more rural borough of NYC, with a population density of just over 8,000 people per square mile.  Many of the homes are houses with driveways and garages and shopping centers often have parking lots -- all features whih are absent in the other boroughs of NYC"
   ]
  },
  {
   "cell_type": "markdown",
   "metadata": {
    "id": "dVDGKrmPEeUU"
   },
   "source": [
    "\n",
    "\n",
    "---\n",
    "\n"
   ]
  },
  {
   "cell_type": "markdown",
   "metadata": {
    "id": "EMla91d0wF5G"
   },
   "source": [
    "#Q2 - What is the distribution of tickets across the precincts? \n",
    "\n",
    "For each county lets check the Violation Location and see if that matches the data I have from the NYT\n",
    "https://www.nytimes.com/2017/03/17/nyregion/nypd-precincts.html\n",
    "According to the New York Police Department’s public information office, the current range of precinct numbers for each borough is as follows:\n",
    "- **1-34 Manhattan**\n",
    "- **40-52 Bronx**\n",
    "- **60-94 Brooklyn**  \n",
    "- **100-115 Queens**  \n",
    "- **120-123 Staten Island**\n",
    "\n",
    "\n",
    ">And not all precincts have numbers:   \n",
    "The 22nd Precinct is now the Central Park Precinct;   \n",
    "the 14th Precinct is now Midtown South;   \n",
    "and the 18th Precinct is now Midtown North.  \n",
    "\n",
    "### We will now:\n",
    "- Make a list of the counties to loop over\n",
    "- print out the prencincts associated with those counties\n",
    "- see that they are appropriate for the above list"
   ]
  },
  {
   "cell_type": "code",
   "execution_count": 36,
   "metadata": {
    "executionInfo": {
     "elapsed": 17,
     "status": "ok",
     "timestamp": 1626643568114,
     "user": {
      "displayName": "Samantha Roberts",
      "photoUrl": "",
      "userId": "12336021266384650140"
     },
     "user_tz": 240
    },
    "id": "1HSEp-bzwHFR"
   },
   "outputs": [],
   "source": [
    "#jovian.commit(project=project_name)"
   ]
  },
  {
   "cell_type": "markdown",
   "metadata": {
    "id": "fayclUgvDnDb"
   },
   "source": [
    "**There are over 2 Million NaN entries for the Precinct info**"
   ]
  },
  {
   "cell_type": "code",
   "execution_count": 37,
   "metadata": {
    "colab": {
     "base_uri": "https://localhost:8080/"
    },
    "executionInfo": {
     "elapsed": 17,
     "status": "ok",
     "timestamp": 1626643568115,
     "user": {
      "displayName": "Samantha Roberts",
      "photoUrl": "",
      "userId": "12336021266384650140"
     },
     "user_tz": 240
    },
    "id": "cPYJ6NoPDf9S",
    "outputId": "9c1dd97d-136f-47ff-8c91-3cb3d8ea832b"
   },
   "outputs": [
    {
     "data": {
      "text/plain": [
       "2072400"
      ]
     },
     "execution_count": 37,
     "metadata": {
      "tags": []
     },
     "output_type": "execute_result"
    }
   ],
   "source": [
    "df['Violation Location'].isna().sum()"
   ]
  },
  {
   "cell_type": "markdown",
   "metadata": {
    "id": "VL5kl7FoD1k2"
   },
   "source": [
    "**We can also see that there are a lot of precincts in each county that are not valid numbers**"
   ]
  },
  {
   "cell_type": "code",
   "execution_count": 38,
   "metadata": {
    "colab": {
     "base_uri": "https://localhost:8080/"
    },
    "executionInfo": {
     "elapsed": 661,
     "status": "ok",
     "timestamp": 1626643568767,
     "user": {
      "displayName": "Samantha Roberts",
      "photoUrl": "",
      "userId": "12336021266384650140"
     },
     "user_tz": 240
    },
    "id": "AKB4v_akwHH_",
    "outputId": "9ae533c6-a9a4-4a4c-ee54-509e670ed968"
   },
   "outputs": [
    {
     "name": "stdout",
     "output_type": "stream",
     "text": [
      "The number of precints in Bronx data are: 109\n",
      "The number of precints in Manhattan data are: 145\n",
      "The number of precints in Queens data are: 98\n",
      "The number of precints in Brooklyn data are: 131\n",
      "The number of precints in Staten Island data are: 85\n"
     ]
    }
   ],
   "source": [
    "counties = list(df['Violation County'][~df['Violation County'].isnull()].unique())\n",
    "for county in counties:\n",
    "    print('The number of precints in {} data are: {}'.format(county, \n",
    "                                              #np.sort(df['Violation Location'][df['Violation County'] == county].unique())))\n",
    "                                              df['Violation Location'][df['Violation County'] == county].nunique()))"
   ]
  },
  {
   "cell_type": "markdown",
   "metadata": {
    "id": "OjIM9LcExMnM"
   },
   "source": [
    "**So we have a lot of values that are not standard precinct numbers**\n",
    "- These may be atributed to tickets issued by non-police people, such as MTA or Parking or court departments (with their own codes?)\n",
    "- For now let us get the police precincts that are valid and plot only those\n",
    "- We see below that the majority of the tickets are in valid precincts for the particular borough"
   ]
  },
  {
   "cell_type": "markdown",
   "metadata": {
    "id": "Ukwl9AGe0aVC"
   },
   "source": [
    "**Let us get the precinct GeoJson from the NYC Open Data website and extract all of the valid precinct numbers**\n",
    "- The precinct boundaries are available on NYC open data https://data.cityofnewyork.us/Public-Safety/Police-Precincts/78dh-3ptz\n"
   ]
  },
  {
   "cell_type": "code",
   "execution_count": 39,
   "metadata": {
    "executionInfo": {
     "elapsed": 3448,
     "status": "ok",
     "timestamp": 1626643572213,
     "user": {
      "displayName": "Samantha Roberts",
      "photoUrl": "",
      "userId": "12336021266384650140"
     },
     "user_tz": 240
    },
    "id": "EuwyE59Uz7YT"
   },
   "outputs": [],
   "source": [
    "import json\n",
    "from urllib.request import urlopen\n",
    "\n",
    "precinct_geo = 'https://data.cityofnewyork.us/api/geospatial/78dh-3ptz?method=export&format=GeoJSON'\n",
    "\n",
    "with urlopen(precinct_geo) as response:\n",
    "    precincts = json.load(response)"
   ]
  },
  {
   "cell_type": "code",
   "execution_count": 40,
   "metadata": {
    "colab": {
     "base_uri": "https://localhost:8080/"
    },
    "executionInfo": {
     "elapsed": 22,
     "status": "ok",
     "timestamp": 1626643572214,
     "user": {
      "displayName": "Samantha Roberts",
      "photoUrl": "",
      "userId": "12336021266384650140"
     },
     "user_tz": 240
    },
    "id": "5u4T9Zh63ApM",
    "outputId": "72940912-6ec6-4d32-c590-9dcc66497e6a"
   },
   "outputs": [
    {
     "data": {
      "text/plain": [
       "{'precinct': '1', 'shape_area': '47315893.6803', 'shape_leng': '80969.424461'}"
      ]
     },
     "execution_count": 40,
     "metadata": {
      "tags": []
     },
     "output_type": "execute_result"
    }
   ],
   "source": [
    "precincts['features'][0]['properties']"
   ]
  },
  {
   "cell_type": "markdown",
   "metadata": {
    "id": "5btaPjWc3BTU"
   },
   "source": [
    "**Here is a list of the valid precinct numbers**\n",
    "- They appear to be stored as strings"
   ]
  },
  {
   "cell_type": "code",
   "execution_count": 41,
   "metadata": {
    "colab": {
     "base_uri": "https://localhost:8080/"
    },
    "executionInfo": {
     "elapsed": 13,
     "status": "ok",
     "timestamp": 1626643572214,
     "user": {
      "displayName": "Samantha Roberts",
      "photoUrl": "",
      "userId": "12336021266384650140"
     },
     "user_tz": 240
    },
    "id": "fcfOGmPQz7lx",
    "outputId": "8b7a8563-1f9c-4d42-870d-82d717568dfe"
   },
   "outputs": [
    {
     "data": {
      "text/plain": [
       "array(['1', '10', '100', '101', '102', '103', '104', '105', '106', '107',\n",
       "       '108', '109', '110', '111', '112', '113', '114', '115', '120',\n",
       "       '121', '122', '123', '13', '14', '17', '18', '19', '20', '22',\n",
       "       '23', '24', '25', '26', '28', '30', '32', '33', '34', '40', '41',\n",
       "       '42', '43', '44', '45', '46', '47', '48', '49', '5', '50', '52',\n",
       "       '6', '60', '61', '62', '63', '66', '67', '68', '69', '7', '70',\n",
       "       '71', '72', '73', '75', '76', '77', '78', '79', '81', '83', '84',\n",
       "       '88', '9', '90', '94'], dtype='<U3')"
      ]
     },
     "execution_count": 41,
     "metadata": {
      "tags": []
     },
     "output_type": "execute_result"
    }
   ],
   "source": [
    "feature_id_list = []\n",
    "for index in range(len(precincts['features'])):\n",
    "    feature_id_list.append(precincts['features'][index]['properties']['precinct'])\n",
    "np.sort(feature_id_list)"
   ]
  },
  {
   "cell_type": "markdown",
   "metadata": {
    "id": "yl1rGjpj4Wg1"
   },
   "source": [
    "**So we need to filter out only the valid precincts in the DataFrame that match the precincts on the map**\n",
    "- Let us put this into its own dataframe"
   ]
  },
  {
   "cell_type": "code",
   "execution_count": 42,
   "metadata": {
    "colab": {
     "base_uri": "https://localhost:8080/",
     "height": 419
    },
    "executionInfo": {
     "elapsed": 271,
     "status": "ok",
     "timestamp": 1626643572480,
     "user": {
      "displayName": "Samantha Roberts",
      "photoUrl": "",
      "userId": "12336021266384650140"
     },
     "user_tz": 240
    },
    "id": "A4d_vJuAz7or",
    "outputId": "58b3ffd1-5275-44f8-be4b-656d78489a24"
   },
   "outputs": [
    {
     "data": {
      "text/html": [
       "<div>\n",
       "<style scoped>\n",
       "    .dataframe tbody tr th:only-of-type {\n",
       "        vertical-align: middle;\n",
       "    }\n",
       "\n",
       "    .dataframe tbody tr th {\n",
       "        vertical-align: top;\n",
       "    }\n",
       "\n",
       "    .dataframe thead th {\n",
       "        text-align: right;\n",
       "    }\n",
       "</style>\n",
       "<table border=\"1\" class=\"dataframe\">\n",
       "  <thead>\n",
       "    <tr style=\"text-align: right;\">\n",
       "      <th></th>\n",
       "      <th>Violation Location</th>\n",
       "      <th>counts</th>\n",
       "    </tr>\n",
       "  </thead>\n",
       "  <tbody>\n",
       "    <tr>\n",
       "      <th>0</th>\n",
       "      <td>19</td>\n",
       "      <td>535671</td>\n",
       "    </tr>\n",
       "    <tr>\n",
       "      <th>1</th>\n",
       "      <td>14</td>\n",
       "      <td>352450</td>\n",
       "    </tr>\n",
       "    <tr>\n",
       "      <th>2</th>\n",
       "      <td>1</td>\n",
       "      <td>331810</td>\n",
       "    </tr>\n",
       "    <tr>\n",
       "      <th>3</th>\n",
       "      <td>18</td>\n",
       "      <td>306920</td>\n",
       "    </tr>\n",
       "    <tr>\n",
       "      <th>4</th>\n",
       "      <td>114</td>\n",
       "      <td>296514</td>\n",
       "    </tr>\n",
       "    <tr>\n",
       "      <th>...</th>\n",
       "      <td>...</td>\n",
       "      <td>...</td>\n",
       "    </tr>\n",
       "    <tr>\n",
       "      <th>72</th>\n",
       "      <td>121</td>\n",
       "      <td>27283</td>\n",
       "    </tr>\n",
       "    <tr>\n",
       "      <th>73</th>\n",
       "      <td>100</td>\n",
       "      <td>23556</td>\n",
       "    </tr>\n",
       "    <tr>\n",
       "      <th>74</th>\n",
       "      <td>101</td>\n",
       "      <td>19143</td>\n",
       "    </tr>\n",
       "    <tr>\n",
       "      <th>75</th>\n",
       "      <td>123</td>\n",
       "      <td>11803</td>\n",
       "    </tr>\n",
       "    <tr>\n",
       "      <th>76</th>\n",
       "      <td>22</td>\n",
       "      <td>700</td>\n",
       "    </tr>\n",
       "  </tbody>\n",
       "</table>\n",
       "<p>77 rows × 2 columns</p>\n",
       "</div>"
      ],
      "text/plain": [
       "   Violation Location  counts\n",
       "0                  19  535671\n",
       "1                  14  352450\n",
       "2                   1  331810\n",
       "3                  18  306920\n",
       "4                 114  296514\n",
       "..                ...     ...\n",
       "72                121   27283\n",
       "73                100   23556\n",
       "74                101   19143\n",
       "75                123   11803\n",
       "76                 22     700\n",
       "\n",
       "[77 rows x 2 columns]"
      ]
     },
     "execution_count": 42,
     "metadata": {
      "tags": []
     },
     "output_type": "execute_result"
    }
   ],
   "source": [
    "precinct_numb_df = df['Violation Location'][~(df['Violation Location'].isnull()) ]. \\\n",
    "                     astype('int32').value_counts().reset_index().rename(columns={'index': 'Violation Location',\n",
    "                                                                                  'Violation Location': 'counts'})\n",
    "# the values below need to match the string format of the GeoJson file\n",
    "precinct_numb_df['Violation Location'] = precinct_numb_df['Violation Location'].astype('str')\n",
    "# check the precict number is valid and in the geojso list above -- if it is not in the list exclude it\n",
    "precinct_numb_df = precinct_numb_df[precinct_numb_df['Violation Location'].isin(feature_id_list)]\n",
    "precinct_numb_df"
   ]
  },
  {
   "cell_type": "markdown",
   "metadata": {
    "id": "wgKcqz-kEkLO"
   },
   "source": [
    "**There are over 8.7 Million tickets that exist in valid precinct numbers**"
   ]
  },
  {
   "cell_type": "code",
   "execution_count": 43,
   "metadata": {
    "colab": {
     "base_uri": "https://localhost:8080/"
    },
    "executionInfo": {
     "elapsed": 21,
     "status": "ok",
     "timestamp": 1626643572481,
     "user": {
      "displayName": "Samantha Roberts",
      "photoUrl": "",
      "userId": "12336021266384650140"
     },
     "user_tz": 240
    },
    "id": "9yBFMvZbEc7g",
    "outputId": "11d7e23f-262b-4afd-bbc0-5953931a5888"
   },
   "outputs": [
    {
     "data": {
      "text/plain": [
       "8727906"
      ]
     },
     "execution_count": 43,
     "metadata": {
      "tags": []
     },
     "output_type": "execute_result"
    }
   ],
   "source": [
    "precinct_numb_df['counts'].sum()"
   ]
  },
  {
   "cell_type": "markdown",
   "metadata": {
    "id": "DnsJAozNAuag"
   },
   "source": [
    "**Meanwhile, each borough has a range of valid precincts**\n",
    "- We will enforce that the precinct number should match up as valid for a particular county\n",
    "- we make a dictionary with a range of valid values for each Borough"
   ]
  },
  {
   "cell_type": "code",
   "execution_count": 44,
   "metadata": {
    "executionInfo": {
     "elapsed": 9,
     "status": "ok",
     "timestamp": 1626643572482,
     "user": {
      "displayName": "Samantha Roberts",
      "photoUrl": "",
      "userId": "12336021266384650140"
     },
     "user_tz": 240
    },
    "id": "pMSAS6ioz7uj"
   },
   "outputs": [],
   "source": [
    "precinct_dict = {\n",
    "    'Manhattan': list(range(1,35)),\n",
    "    'Bronx': list(range(40,53)),\n",
    "    'Brooklyn': list(range(60,95)),\n",
    "    'Queens': list(range(100,116)),\n",
    "    'Staten Island': list(range(120,124))\n",
    "}"
   ]
  },
  {
   "cell_type": "code",
   "execution_count": 45,
   "metadata": {
    "colab": {
     "base_uri": "https://localhost:8080/",
     "height": 1000
    },
    "executionInfo": {
     "elapsed": 9366,
     "status": "ok",
     "timestamp": 1626643581840,
     "user": {
      "displayName": "Samantha Roberts",
      "photoUrl": "",
      "userId": "12336021266384650140"
     },
     "user_tz": 240
    },
    "id": "giuaDPe-y0Bk",
    "outputId": "3d980694-e094-4ee8-af33-222cd15f57f8"
   },
   "outputs": [
    {
     "data": {
      "image/png": "[encoded data removed]",
      "text/plain": [
       "<Figure size 576x1800 with 5 Axes>"
      ]
     },
     "metadata": {
      "needs_background": "light",
      "tags": []
     },
     "output_type": "display_data"
    }
   ],
   "source": [
    "fig, ax = plt.subplots(nrows=len(counties), ncols=1, figsize=(8,25))\n",
    "\n",
    "# Each loop creates one subplot\n",
    "for index, county in enumerate(counties):\n",
    "    county_df = df['Violation Location'][(df['Violation County'] == county) & \n",
    "                                         (df['Violation Location'].isin(precinct_dict[county])) &\n",
    "                                         (df['Violation Location'].isin(feature_id_list))]\n",
    "    sns.barplot(\n",
    "        x=county_df.value_counts().index.astype('int32'), \n",
    "        y=county_df.value_counts().values, \n",
    "        palette='Blues_d', \n",
    "        saturation=0.9, \n",
    "        edgecolor='0.2', \n",
    "        ax=ax[index])\n",
    "    ax[index].set_title('Parking Tickets issued in {} in 2017'.format(county))\n",
    "    ax[index].set_xlabel('Precinct Number')\n",
    "    ax[index].set_ylabel('Number of Tickets Issued')\n",
    "    \n",
    "    \n",
    "fig.subplots_adjust(hspace=.5) # puts a space between all plots to allow for the axis labels and titles"
   ]
  },
  {
   "cell_type": "markdown",
   "metadata": {
    "id": "Tk8D-wd2FH8x"
   },
   "source": [
    "**We can count the number of tickets that have valid precinct numbers for each county/borough**"
   ]
  },
  {
   "cell_type": "code",
   "execution_count": 46,
   "metadata": {
    "executionInfo": {
     "elapsed": 6500,
     "status": "ok",
     "timestamp": 1626643588323,
     "user": {
      "displayName": "Samantha Roberts",
      "photoUrl": "",
      "userId": "12336021266384650140"
     },
     "user_tz": 240
    },
    "id": "n9nEIgQsBTJs"
   },
   "outputs": [],
   "source": [
    "count = 0\n",
    "for index, county in enumerate(counties):\n",
    "    count += df['Violation Location'][(df['Violation County'] == county) & \n",
    "                                         (df['Violation Location'].isin(precinct_dict[county])) &\n",
    "                                         (df['Violation Location'].isin(feature_id_list))].count()"
   ]
  },
  {
   "cell_type": "markdown",
   "metadata": {
    "id": "urw9DSZ2CJoq"
   },
   "source": [
    "**By filtering out the valid precincts per county we lost only 44,619 of the tickets**\n",
    "- can come back and see if this number changes once we evaluate the correlation between the precinct and the Issuing Agency\n",
    "- This only fileters out 0.5% of the non-NaN data"
   ]
  },
  {
   "cell_type": "code",
   "execution_count": 47,
   "metadata": {
    "colab": {
     "base_uri": "https://localhost:8080/"
    },
    "executionInfo": {
     "elapsed": 17,
     "status": "ok",
     "timestamp": 1626643588324,
     "user": {
      "displayName": "Samantha Roberts",
      "photoUrl": "",
      "userId": "12336021266384650140"
     },
     "user_tz": 240
    },
    "id": "a8M44x5WBTS2",
    "outputId": "c28083dc-e842-4a51-cab0-ab467e65ef58"
   },
   "outputs": [
    {
     "data": {
      "text/plain": [
       "44619"
      ]
     },
     "execution_count": 47,
     "metadata": {
      "tags": []
     },
     "output_type": "execute_result"
    }
   ],
   "source": [
    "precinct_numb_df['counts'].sum() - count"
   ]
  },
  {
   "cell_type": "code",
   "execution_count": 48,
   "metadata": {
    "colab": {
     "base_uri": "https://localhost:8080/"
    },
    "executionInfo": {
     "elapsed": 9,
     "status": "ok",
     "timestamp": 1626643588324,
     "user": {
      "displayName": "Samantha Roberts",
      "photoUrl": "",
      "userId": "12336021266384650140"
     },
     "user_tz": 240
    },
    "id": "q8nfGH-uBTWE",
    "outputId": "dc14e1eb-de2d-4972-ca84-48fcee035ce8"
   },
   "outputs": [
    {
     "data": {
      "text/plain": [
       "0.5112222794333486"
      ]
     },
     "execution_count": 48,
     "metadata": {
      "tags": []
     },
     "output_type": "execute_result"
    }
   ],
   "source": [
    "(precinct_numb_df['counts'].sum() - count) / precinct_numb_df['counts'].sum() *100"
   ]
  },
  {
   "cell_type": "markdown",
   "metadata": {
    "id": "d4ruJ7F2GHbE"
   },
   "source": [
    "**Additionally we can plot the number of tickets issued in each precinct on a cloropleth map in Folium**\n",
    "- We use the geojson we imported from the opendata website\n",
    "- We also use the grouped df for the precinct info that will match with the json index"
   ]
  },
  {
   "cell_type": "code",
   "execution_count": 49,
   "metadata": {
    "colab": {
     "base_uri": "https://localhost:8080/",
     "height": 915,
     "output_embedded_package_id": "16II9RQEPBdW9Cb0DyeFuKT-9UI6K27B_"
    },
    "executionInfo": {
     "elapsed": 11769,
     "status": "ok",
     "timestamp": 1626643600088,
     "user": {
      "displayName": "Samantha Roberts",
      "photoUrl": "",
      "userId": "12336021266384650140"
     },
     "user_tz": 240
    },
    "id": "mStUZSxOBTaQ",
    "outputId": "513f037d-e54a-496f-fb0e-aa45b65bcffe"
   },
   "outputs": [
    {
     "data": {
      "text/plain": [
       "Output hidden; open in https://colab.research.google.com to view."
      ]
     },
     "metadata": {},
     "output_type": "display_data"
    }
   ],
   "source": [
    "m = folium.Map(location=[40.730610, -73.935242], tiles='CartoDBpositron', zoom_start=10.5)\n",
    "\n",
    "folium.Choropleth(\n",
    "        geo_data=precinct_geo,                       # The geojson files from NYC open data\n",
    "        name=\"choropleth\",\n",
    "        data=precinct_numb_df,                       # our grouped DF\n",
    "        columns=[\"Violation Location\", 'counts'],    # \"Violation Location\" aligns with feature.properties below\n",
    "        key_on='feature.properties.precinct',        #  location that aligns with precinct\n",
    "        fill_color=\"YlGnBu\",\n",
    "        fill_opacity=0.9,\n",
    "        line_opacity=0.2,\n",
    "        legend_name=\"Tickets issued 2017\",\n",
    "       \n",
    "    ).add_to(m)\n",
    "\n",
    "folium.LayerControl().add_to(m)\n",
    "m"
   ]
  },
  {
   "cell_type": "code",
   "execution_count": 50,
   "metadata": {
    "colab": {
     "base_uri": "https://localhost:8080/",
     "height": 390
    },
    "executionInfo": {
     "elapsed": 31,
     "status": "ok",
     "timestamp": 1626643600089,
     "user": {
      "displayName": "Samantha Roberts",
      "photoUrl": "",
      "userId": "12336021266384650140"
     },
     "user_tz": 240
    },
    "id": "FZ7mOH5V73T0",
    "outputId": "ef10dfc6-b603-43e7-b77e-fd3afe60404a"
   },
   "outputs": [
    {
     "data": {
      "text/html": [
       "<div>\n",
       "<style scoped>\n",
       "    .dataframe tbody tr th:only-of-type {\n",
       "        vertical-align: middle;\n",
       "    }\n",
       "\n",
       "    .dataframe tbody tr th {\n",
       "        vertical-align: top;\n",
       "    }\n",
       "\n",
       "    .dataframe thead th {\n",
       "        text-align: right;\n",
       "    }\n",
       "</style>\n",
       "<table border=\"1\" class=\"dataframe\">\n",
       "  <thead>\n",
       "    <tr style=\"text-align: right;\">\n",
       "      <th></th>\n",
       "      <th></th>\n",
       "      <th>0</th>\n",
       "    </tr>\n",
       "    <tr>\n",
       "      <th>Violation Location</th>\n",
       "      <th>Violation County</th>\n",
       "      <th></th>\n",
       "    </tr>\n",
       "  </thead>\n",
       "  <tbody>\n",
       "    <tr>\n",
       "      <th>19.0</th>\n",
       "      <th>Manhattan</th>\n",
       "      <td>532980</td>\n",
       "    </tr>\n",
       "    <tr>\n",
       "      <th>14.0</th>\n",
       "      <th>Manhattan</th>\n",
       "      <td>350592</td>\n",
       "    </tr>\n",
       "    <tr>\n",
       "      <th>1.0</th>\n",
       "      <th>Manhattan</th>\n",
       "      <td>329807</td>\n",
       "    </tr>\n",
       "    <tr>\n",
       "      <th>18.0</th>\n",
       "      <th>Manhattan</th>\n",
       "      <td>305438</td>\n",
       "    </tr>\n",
       "    <tr>\n",
       "      <th>114.0</th>\n",
       "      <th>Queens</th>\n",
       "      <td>295465</td>\n",
       "    </tr>\n",
       "    <tr>\n",
       "      <th>13.0</th>\n",
       "      <th>Manhattan</th>\n",
       "      <td>245902</td>\n",
       "    </tr>\n",
       "    <tr>\n",
       "      <th>109.0</th>\n",
       "      <th>Queens</th>\n",
       "      <td>217486</td>\n",
       "    </tr>\n",
       "    <tr>\n",
       "      <th>17.0</th>\n",
       "      <th>Manhattan</th>\n",
       "      <td>192550</td>\n",
       "    </tr>\n",
       "    <tr>\n",
       "      <th>70.0</th>\n",
       "      <th>Brooklyn</th>\n",
       "      <td>192160</td>\n",
       "    </tr>\n",
       "    <tr>\n",
       "      <th>115.0</th>\n",
       "      <th>Queens</th>\n",
       "      <td>173773</td>\n",
       "    </tr>\n",
       "  </tbody>\n",
       "</table>\n",
       "</div>"
      ],
      "text/plain": [
       "                                          0\n",
       "Violation Location Violation County        \n",
       "19.0               Manhattan         532980\n",
       "14.0               Manhattan         350592\n",
       "1.0                Manhattan         329807\n",
       "18.0               Manhattan         305438\n",
       "114.0              Queens            295465\n",
       "13.0               Manhattan         245902\n",
       "109.0              Queens            217486\n",
       "17.0               Manhattan         192550\n",
       "70.0               Brooklyn          192160\n",
       "115.0              Queens            173773"
      ]
     },
     "execution_count": 50,
     "metadata": {
      "tags": []
     },
     "output_type": "execute_result"
    }
   ],
   "source": [
    "rank = pd.DataFrame(df[df['Violation Location'].isin(feature_id_list)][['Violation Location', 'Violation County']].value_counts()).head(10)\n",
    "rank"
   ]
  },
  {
   "cell_type": "markdown",
   "metadata": {
    "id": "5zYvC-lOHkZc"
   },
   "source": [
    "## We can see 6 out of top ticket issuing precincts are in Manhattan\n",
    "- Precinct 19 far outshines all other precincts -- it is an area called the \"Upper East Side\" with over 532,000 tickets issued in 2017 alone\n",
    "- [xxx] We can return to this point and explore what this is about and what the distribution of tickets are for this precinct 19 location\n",
    "- The lowest distribution of tickets is also in Manhattan - precinct 22, with only 700 tickets issues for the year.  This makes sense as it is a park, and cars are not allowed in the park -- so tickets here would be rare.  \n",
    "- [xxx] Something to improve her would be to get a pop-up when mousing over each precinct with the precinct number and the corresponding number of tickets"
   ]
  },
  {
   "cell_type": "markdown",
   "metadata": {
    "id": "oJDPTaXM-xHO"
   },
   "source": [
    "\n",
    "\n",
    "---\n",
    "\n"
   ]
  },
  {
   "cell_type": "markdown",
   "metadata": {
    "id": "ilOgm8ffKNEs"
   },
   "source": [
    "# Q3 - Is there a particular month that more tickets are issued in?\n",
    "- Could potentially use violation county as well so will include those columns\n",
    "- Will have to filter the datetime nature of the 'Issue Date and Time' column\n"
   ]
  },
  {
   "cell_type": "code",
   "execution_count": 51,
   "metadata": {
    "executionInfo": {
     "elapsed": 29,
     "status": "ok",
     "timestamp": 1626643600090,
     "user": {
      "displayName": "Samantha Roberts",
      "photoUrl": "",
      "userId": "12336021266384650140"
     },
     "user_tz": 240
    },
    "id": "Xo1LDbQ5BTiy"
   },
   "outputs": [],
   "source": [
    "#jovian.commit(project=project_name)"
   ]
  },
  {
   "cell_type": "code",
   "execution_count": 52,
   "metadata": {
    "colab": {
     "base_uri": "https://localhost:8080/",
     "height": 419
    },
    "executionInfo": {
     "elapsed": 30,
     "status": "ok",
     "timestamp": 1626643600091,
     "user": {
      "displayName": "Samantha Roberts",
      "photoUrl": "",
      "userId": "12336021266384650140"
     },
     "user_tz": 240
    },
    "id": "Sz32jMJE_ucq",
    "outputId": "3e46bf48-85d8-48b1-c4df-eb5e06ff90b0"
   },
   "outputs": [
    {
     "data": {
      "text/html": [
       "<div>\n",
       "<style scoped>\n",
       "    .dataframe tbody tr th:only-of-type {\n",
       "        vertical-align: middle;\n",
       "    }\n",
       "\n",
       "    .dataframe tbody tr th {\n",
       "        vertical-align: top;\n",
       "    }\n",
       "\n",
       "    .dataframe thead th {\n",
       "        text-align: right;\n",
       "    }\n",
       "</style>\n",
       "<table border=\"1\" class=\"dataframe\">\n",
       "  <thead>\n",
       "    <tr style=\"text-align: right;\">\n",
       "      <th></th>\n",
       "      <th>Issue Date and Time</th>\n",
       "      <th>Violation County</th>\n",
       "      <th>Violation Location</th>\n",
       "      <th>Violation Code</th>\n",
       "    </tr>\n",
       "  </thead>\n",
       "  <tbody>\n",
       "    <tr>\n",
       "      <th>0</th>\n",
       "      <td>2016-07-10 01:43:00</td>\n",
       "      <td>Bronx</td>\n",
       "      <td>NaN</td>\n",
       "      <td>7</td>\n",
       "    </tr>\n",
       "    <tr>\n",
       "      <th>1</th>\n",
       "      <td>2016-07-08 16:00:00</td>\n",
       "      <td>Bronx</td>\n",
       "      <td>NaN</td>\n",
       "      <td>7</td>\n",
       "    </tr>\n",
       "    <tr>\n",
       "      <th>2</th>\n",
       "      <td>2016-08-23 14:33:00</td>\n",
       "      <td>Bronx</td>\n",
       "      <td>NaN</td>\n",
       "      <td>5</td>\n",
       "    </tr>\n",
       "    <tr>\n",
       "      <th>3</th>\n",
       "      <td>2017-06-14 11:20:00</td>\n",
       "      <td>Manhattan</td>\n",
       "      <td>14.0</td>\n",
       "      <td>47</td>\n",
       "    </tr>\n",
       "    <tr>\n",
       "      <th>4</th>\n",
       "      <td>2016-11-21 17:55:00</td>\n",
       "      <td>Manhattan</td>\n",
       "      <td>13.0</td>\n",
       "      <td>69</td>\n",
       "    </tr>\n",
       "    <tr>\n",
       "      <th>...</th>\n",
       "      <td>...</td>\n",
       "      <td>...</td>\n",
       "      <td>...</td>\n",
       "      <td>...</td>\n",
       "    </tr>\n",
       "    <tr>\n",
       "      <th>10803023</th>\n",
       "      <td>2068-11-02 12:07:00</td>\n",
       "      <td>Brooklyn</td>\n",
       "      <td>68.0</td>\n",
       "      <td>21</td>\n",
       "    </tr>\n",
       "    <tr>\n",
       "      <th>10803024</th>\n",
       "      <td>2069-07-12 07:50:00</td>\n",
       "      <td>Brooklyn</td>\n",
       "      <td>71.0</td>\n",
       "      <td>20</td>\n",
       "    </tr>\n",
       "    <tr>\n",
       "      <th>10803025</th>\n",
       "      <td>2069-08-14 11:50:00</td>\n",
       "      <td>Brooklyn</td>\n",
       "      <td>69.0</td>\n",
       "      <td>46</td>\n",
       "    </tr>\n",
       "    <tr>\n",
       "      <th>10803026</th>\n",
       "      <td>2069-11-15 03:19:00</td>\n",
       "      <td>Brooklyn</td>\n",
       "      <td>69.0</td>\n",
       "      <td>40</td>\n",
       "    </tr>\n",
       "    <tr>\n",
       "      <th>10803027</th>\n",
       "      <td>2069-11-19 08:43:00</td>\n",
       "      <td>Brooklyn</td>\n",
       "      <td>69.0</td>\n",
       "      <td>21</td>\n",
       "    </tr>\n",
       "  </tbody>\n",
       "</table>\n",
       "<p>10803028 rows × 4 columns</p>\n",
       "</div>"
      ],
      "text/plain": [
       "         Issue Date and Time  ... Violation Code\n",
       "0        2016-07-10 01:43:00  ...              7\n",
       "1        2016-07-08 16:00:00  ...              7\n",
       "2        2016-08-23 14:33:00  ...              5\n",
       "3        2017-06-14 11:20:00  ...             47\n",
       "4        2016-11-21 17:55:00  ...             69\n",
       "...                      ...  ...            ...\n",
       "10803023 2068-11-02 12:07:00  ...             21\n",
       "10803024 2069-07-12 07:50:00  ...             20\n",
       "10803025 2069-08-14 11:50:00  ...             46\n",
       "10803026 2069-11-15 03:19:00  ...             40\n",
       "10803027 2069-11-19 08:43:00  ...             21\n",
       "\n",
       "[10803028 rows x 4 columns]"
      ]
     },
     "execution_count": 52,
     "metadata": {
      "tags": []
     },
     "output_type": "execute_result"
    }
   ],
   "source": [
    "time_df = df[['Issue Date and Time', 'Violation County', 'Violation Location', 'Violation Code']].copy()\n",
    "time_df "
   ]
  },
  {
   "cell_type": "markdown",
   "metadata": {
    "id": "VLQz7HFYLibg"
   },
   "source": [
    "**Let us now look at the range of dates that are valid for the fscal year of 2017**\n",
    "- The year runs from July 1st 2016 throught June 30th 2017"
   ]
  },
  {
   "cell_type": "code",
   "execution_count": 53,
   "metadata": {
    "colab": {
     "base_uri": "https://localhost:8080/"
    },
    "executionInfo": {
     "elapsed": 30,
     "status": "ok",
     "timestamp": 1626643600092,
     "user": {
      "displayName": "Samantha Roberts",
      "photoUrl": "",
      "userId": "12336021266384650140"
     },
     "user_tz": 240
    },
    "id": "KxCuSMmkK3Wf",
    "outputId": "b51756bb-79a2-45be-f8d3-856768916fb1"
   },
   "outputs": [
    {
     "data": {
      "text/plain": [
       "count                         10744190\n",
       "mean     2016-12-30 14:38:43.664040704\n",
       "min                1972-03-30 17:55:00\n",
       "25%                2016-09-30 11:09:00\n",
       "50%                2017-01-03 14:18:00\n",
       "75%                2017-04-03 13:06:00\n",
       "max                2069-11-19 08:43:00\n",
       "Name: Issue Date and Time, dtype: object"
      ]
     },
     "execution_count": 53,
     "metadata": {
      "tags": []
     },
     "output_type": "execute_result"
    }
   ],
   "source": [
    "time_df['Issue Date and Time'].describe(datetime_is_numeric=True).T"
   ]
  },
  {
   "cell_type": "markdown",
   "metadata": {
    "id": "L3QaeXxcMTnl"
   },
   "source": [
    "**The range of dates is totally off so let us fiter them using a mask**"
   ]
  },
  {
   "cell_type": "code",
   "execution_count": 54,
   "metadata": {
    "colab": {
     "base_uri": "https://localhost:8080/"
    },
    "executionInfo": {
     "elapsed": 21,
     "status": "ok",
     "timestamp": 1626643600092,
     "user": {
      "displayName": "Samantha Roberts",
      "photoUrl": "",
      "userId": "12336021266384650140"
     },
     "user_tz": 240
    },
    "id": "nuSNs56QK3Zc",
    "outputId": "724fb85a-3022-4c17-ff5b-3ad16eeb7bee"
   },
   "outputs": [
    {
     "data": {
      "text/plain": [
       "min    2016-07-01 00:00:00\n",
       "max    2017-06-30 20:40:00\n",
       "Name: Issue Date and Time, dtype: object"
      ]
     },
     "execution_count": 54,
     "metadata": {
      "tags": []
     },
     "output_type": "execute_result"
    }
   ],
   "source": [
    "mask = (time_df['Issue Date and Time'] >= '2016-07-01') & (time_df['Issue Date and Time'] < '2017-07-01')\n",
    "time_df = time_df.loc[mask].copy()\n",
    "time_df['Issue Date and Time'].describe(datetime_is_numeric=True)[['min', 'max']].T"
   ]
  },
  {
   "cell_type": "markdown",
   "metadata": {
    "id": "s4vegHb5MmOA"
   },
   "source": [
    "**Now let us use the datetime stamp as an index and sort it**"
   ]
  },
  {
   "cell_type": "code",
   "execution_count": 55,
   "metadata": {
    "executionInfo": {
     "elapsed": 17,
     "status": "ok",
     "timestamp": 1626643600093,
     "user": {
      "displayName": "Samantha Roberts",
      "photoUrl": "",
      "userId": "12336021266384650140"
     },
     "user_tz": 240
    },
    "id": "NE6oT-SwK3cD"
   },
   "outputs": [],
   "source": [
    "time_df = time_df.set_index('Issue Date and Time', drop=True, append=False, inplace=False, verify_integrity=False).sort_index()"
   ]
  },
  {
   "cell_type": "code",
   "execution_count": 56,
   "metadata": {
    "colab": {
     "base_uri": "https://localhost:8080/",
     "height": 450
    },
    "executionInfo": {
     "elapsed": 17,
     "status": "ok",
     "timestamp": 1626643600093,
     "user": {
      "displayName": "Samantha Roberts",
      "photoUrl": "",
      "userId": "12336021266384650140"
     },
     "user_tz": 240
    },
    "id": "wx12a8gPK3fJ",
    "outputId": "4eac1756-e497-4d14-9c14-e1de05337918"
   },
   "outputs": [
    {
     "data": {
      "text/html": [
       "<div>\n",
       "<style scoped>\n",
       "    .dataframe tbody tr th:only-of-type {\n",
       "        vertical-align: middle;\n",
       "    }\n",
       "\n",
       "    .dataframe tbody tr th {\n",
       "        vertical-align: top;\n",
       "    }\n",
       "\n",
       "    .dataframe thead th {\n",
       "        text-align: right;\n",
       "    }\n",
       "</style>\n",
       "<table border=\"1\" class=\"dataframe\">\n",
       "  <thead>\n",
       "    <tr style=\"text-align: right;\">\n",
       "      <th></th>\n",
       "      <th>Violation County</th>\n",
       "      <th>Violation Location</th>\n",
       "      <th>Violation Code</th>\n",
       "    </tr>\n",
       "    <tr>\n",
       "      <th>Issue Date and Time</th>\n",
       "      <th></th>\n",
       "      <th></th>\n",
       "      <th></th>\n",
       "    </tr>\n",
       "  </thead>\n",
       "  <tbody>\n",
       "    <tr>\n",
       "      <th>2016-07-01 00:00:00</th>\n",
       "      <td>Manhattan</td>\n",
       "      <td>23.0</td>\n",
       "      <td>46</td>\n",
       "    </tr>\n",
       "    <tr>\n",
       "      <th>2016-07-01 00:01:00</th>\n",
       "      <td>Queens</td>\n",
       "      <td>110.0</td>\n",
       "      <td>91</td>\n",
       "    </tr>\n",
       "    <tr>\n",
       "      <th>2016-07-01 00:01:00</th>\n",
       "      <td>Queens</td>\n",
       "      <td>NaN</td>\n",
       "      <td>7</td>\n",
       "    </tr>\n",
       "    <tr>\n",
       "      <th>2016-07-01 00:03:00</th>\n",
       "      <td>Brooklyn</td>\n",
       "      <td>NaN</td>\n",
       "      <td>7</td>\n",
       "    </tr>\n",
       "    <tr>\n",
       "      <th>2016-07-01 00:03:00</th>\n",
       "      <td>Manhattan</td>\n",
       "      <td>NaN</td>\n",
       "      <td>7</td>\n",
       "    </tr>\n",
       "    <tr>\n",
       "      <th>...</th>\n",
       "      <td>...</td>\n",
       "      <td>...</td>\n",
       "      <td>...</td>\n",
       "    </tr>\n",
       "    <tr>\n",
       "      <th>2017-06-30 12:27:00</th>\n",
       "      <td>Brooklyn</td>\n",
       "      <td>83.0</td>\n",
       "      <td>21</td>\n",
       "    </tr>\n",
       "    <tr>\n",
       "      <th>2017-06-30 12:29:00</th>\n",
       "      <td>Brooklyn</td>\n",
       "      <td>83.0</td>\n",
       "      <td>21</td>\n",
       "    </tr>\n",
       "    <tr>\n",
       "      <th>2017-06-30 16:06:00</th>\n",
       "      <td>Manhattan</td>\n",
       "      <td>13.0</td>\n",
       "      <td>40</td>\n",
       "    </tr>\n",
       "    <tr>\n",
       "      <th>2017-06-30 18:15:00</th>\n",
       "      <td>Queens</td>\n",
       "      <td>105.0</td>\n",
       "      <td>20</td>\n",
       "    </tr>\n",
       "    <tr>\n",
       "      <th>2017-06-30 20:40:00</th>\n",
       "      <td>Bronx</td>\n",
       "      <td>50.0</td>\n",
       "      <td>46</td>\n",
       "    </tr>\n",
       "  </tbody>\n",
       "</table>\n",
       "<p>10481563 rows × 3 columns</p>\n",
       "</div>"
      ],
      "text/plain": [
       "                    Violation County  Violation Location  Violation Code\n",
       "Issue Date and Time                                                     \n",
       "2016-07-01 00:00:00        Manhattan                23.0              46\n",
       "2016-07-01 00:01:00           Queens               110.0              91\n",
       "2016-07-01 00:01:00           Queens                 NaN               7\n",
       "2016-07-01 00:03:00         Brooklyn                 NaN               7\n",
       "2016-07-01 00:03:00        Manhattan                 NaN               7\n",
       "...                              ...                 ...             ...\n",
       "2017-06-30 12:27:00         Brooklyn                83.0              21\n",
       "2017-06-30 12:29:00         Brooklyn                83.0              21\n",
       "2017-06-30 16:06:00        Manhattan                13.0              40\n",
       "2017-06-30 18:15:00           Queens               105.0              20\n",
       "2017-06-30 20:40:00            Bronx                50.0              46\n",
       "\n",
       "[10481563 rows x 3 columns]"
      ]
     },
     "execution_count": 56,
     "metadata": {
      "tags": []
     },
     "output_type": "execute_result"
    }
   ],
   "source": [
    "time_df"
   ]
  },
  {
   "cell_type": "markdown",
   "metadata": {
    "id": "0UUiKzElNwea"
   },
   "source": [
    "**We can use resample to look at the tickets issued by month** \n",
    "\n",
    "\n"
   ]
  },
  {
   "cell_type": "code",
   "execution_count": 57,
   "metadata": {
    "colab": {
     "base_uri": "https://localhost:8080/",
     "height": 452
    },
    "executionInfo": {
     "elapsed": 252,
     "status": "ok",
     "timestamp": 1626643600329,
     "user": {
      "displayName": "Samantha Roberts",
      "photoUrl": "",
      "userId": "12336021266384650140"
     },
     "user_tz": 240
    },
    "id": "wYm5TT5XMtXg",
    "outputId": "b2f7795d-2542-410a-f102-ea60d2397dc5"
   },
   "outputs": [
    {
     "data": {
      "text/html": [
       "<div>\n",
       "<style scoped>\n",
       "    .dataframe tbody tr th:only-of-type {\n",
       "        vertical-align: middle;\n",
       "    }\n",
       "\n",
       "    .dataframe tbody tr th {\n",
       "        vertical-align: top;\n",
       "    }\n",
       "\n",
       "    .dataframe thead th {\n",
       "        text-align: right;\n",
       "    }\n",
       "</style>\n",
       "<table border=\"1\" class=\"dataframe\">\n",
       "  <thead>\n",
       "    <tr style=\"text-align: right;\">\n",
       "      <th></th>\n",
       "      <th>Violation Code</th>\n",
       "    </tr>\n",
       "    <tr>\n",
       "      <th>Issue Date and Time</th>\n",
       "      <th></th>\n",
       "    </tr>\n",
       "  </thead>\n",
       "  <tbody>\n",
       "    <tr>\n",
       "      <th>2016-07-31</th>\n",
       "      <td>695164</td>\n",
       "    </tr>\n",
       "    <tr>\n",
       "      <th>2016-08-31</th>\n",
       "      <td>796125</td>\n",
       "    </tr>\n",
       "    <tr>\n",
       "      <th>2016-09-30</th>\n",
       "      <td>955493</td>\n",
       "    </tr>\n",
       "    <tr>\n",
       "      <th>2016-10-31</th>\n",
       "      <td>964427</td>\n",
       "    </tr>\n",
       "    <tr>\n",
       "      <th>2016-11-30</th>\n",
       "      <td>895068</td>\n",
       "    </tr>\n",
       "    <tr>\n",
       "      <th>2016-12-31</th>\n",
       "      <td>774056</td>\n",
       "    </tr>\n",
       "    <tr>\n",
       "      <th>2017-01-31</th>\n",
       "      <td>872972</td>\n",
       "    </tr>\n",
       "    <tr>\n",
       "      <th>2017-02-28</th>\n",
       "      <td>822401</td>\n",
       "    </tr>\n",
       "    <tr>\n",
       "      <th>2017-03-31</th>\n",
       "      <td>959749</td>\n",
       "    </tr>\n",
       "    <tr>\n",
       "      <th>2017-04-30</th>\n",
       "      <td>883455</td>\n",
       "    </tr>\n",
       "    <tr>\n",
       "      <th>2017-05-31</th>\n",
       "      <td>1014894</td>\n",
       "    </tr>\n",
       "    <tr>\n",
       "      <th>2017-06-30</th>\n",
       "      <td>847759</td>\n",
       "    </tr>\n",
       "  </tbody>\n",
       "</table>\n",
       "</div>"
      ],
      "text/plain": [
       "                     Violation Code\n",
       "Issue Date and Time                \n",
       "2016-07-31                   695164\n",
       "2016-08-31                   796125\n",
       "2016-09-30                   955493\n",
       "2016-10-31                   964427\n",
       "2016-11-30                   895068\n",
       "2016-12-31                   774056\n",
       "2017-01-31                   872972\n",
       "2017-02-28                   822401\n",
       "2017-03-31                   959749\n",
       "2017-04-30                   883455\n",
       "2017-05-31                  1014894\n",
       "2017-06-30                   847759"
      ]
     },
     "execution_count": 57,
     "metadata": {
      "tags": []
     },
     "output_type": "execute_result"
    }
   ],
   "source": [
    "month_df = pd.DataFrame(time_df.resample('M').count()['Violation Code']) #it does not matter which column we count... \n",
    "month_df"
   ]
  },
  {
   "cell_type": "code",
   "execution_count": 58,
   "metadata": {
    "colab": {
     "base_uri": "https://localhost:8080/",
     "height": 605
    },
    "executionInfo": {
     "elapsed": 511,
     "status": "ok",
     "timestamp": 1626643600834,
     "user": {
      "displayName": "Samantha Roberts",
      "photoUrl": "",
      "userId": "12336021266384650140"
     },
     "user_tz": 240
    },
    "id": "eCkhiDpmMtaD",
    "outputId": "9f161705-c26a-4a57-ff12-b9bf548d7778"
   },
   "outputs": [
    {
     "data": {
      "image/png": "[encoded data removed]",
      "text/plain": [
       "<Figure size 1080x576 with 1 Axes>"
      ]
     },
     "metadata": {
      "needs_background": "light",
      "tags": []
     },
     "output_type": "display_data"
    }
   ],
   "source": [
    "plt.figure(figsize=(15, 8))\n",
    "ax = sns.barplot(x=month_df.index,\n",
    "                  y='Violation Code',\n",
    "                  data=month_df,\n",
    "                  palette= 'rocket_r', #Color Brewer color schemes\n",
    "                 )\n",
    "ax.set_xticklabels(labels= ['July-2016', 'Aug-2016', 'Sept-2016','Oct-2016', 'Nov-2016', 'Dec-2016',\n",
    "                             'Jan-2017','Feb-2017','Mar-2017','Apr-2017','May-2017','Jun-2017'])\n",
    "plt.xticks(rotation=-65)\n",
    "plt.xlabel('Issue Date [Fiscal year 2017]', fontsize=16)\n",
    "plt.ylabel('Number of Tickets Issued', fontsize=16)\n",
    "plt.title('NYC Parking Tickets Issued by Month', fontsize=20);\n",
    "sns.despine(top=True, right=True, left=True, bottom=True)"
   ]
  },
  {
   "cell_type": "markdown",
   "metadata": {
    "id": "zo6oTksdOoab"
   },
   "source": [
    "## There is not a hugely dominant month that stands out in this data\n",
    "- We see that May has highest value with just over 1 Million tickets issued for the month.\n",
    "- July has the lowest number, with nearly 700,000 tickets issued  - Perhaps as a result of people vacationing"
   ]
  },
  {
   "cell_type": "markdown",
   "metadata": {
    "id": "oSoffxS5Aicq"
   },
   "source": [
    "\n",
    "\n",
    "---\n",
    "\n"
   ]
  },
  {
   "cell_type": "markdown",
   "metadata": {
    "id": "AZUKds21O_sT"
   },
   "source": [
    "# Q4 - What days of the week are most tickets issued?  \n",
    "- We will continue to use the time_df dataframe and create grouped a day-of-week dataframe"
   ]
  },
  {
   "cell_type": "code",
   "execution_count": 102,
   "metadata": {
    "colab": {
     "base_uri": "https://localhost:8080/",
     "height": 86
    },
    "executionInfo": {
     "elapsed": 3460,
     "status": "ok",
     "timestamp": 1626644213645,
     "user": {
      "displayName": "Samantha Roberts",
      "photoUrl": "",
      "userId": "12336021266384650140"
     },
     "user_tz": 240
    },
    "id": "lv5tP2a-QZ9A",
    "outputId": "c15aedbc-1a9b-48cd-e016-eede6f106261"
   },
   "outputs": [
    {
     "name": "stdout",
     "output_type": "stream",
     "text": [
      "[jovian] Detected Colab notebook...\u001b[0m\n",
      "[jovian] Uploading colab notebook to Jovian...\u001b[0m\n",
      "Committed successfully! https://jovian.ai/samantha-roberts/nyc-parking-2017-final\n"
     ]
    },
    {
     "data": {
      "application/vnd.google.colaboratory.intrinsic+json": {
       "type": "string"
      },
      "text/plain": [
       "'https://jovian.ai/samantha-roberts/nyc-parking-2017-final'"
      ]
     },
     "execution_count": 102,
     "metadata": {
      "tags": []
     },
     "output_type": "execute_result"
    }
   ],
   "source": [
    "#jovian.commit(project=project_name)"
   ]
  },
  {
   "cell_type": "code",
   "execution_count": 60,
   "metadata": {
    "executionInfo": {
     "elapsed": 560,
     "status": "ok",
     "timestamp": 1626643601389,
     "user": {
      "displayName": "Samantha Roberts",
      "photoUrl": "",
      "userId": "12336021266384650140"
     },
     "user_tz": 240
    },
    "id": "nQRprfG2Mtc4"
   },
   "outputs": [],
   "source": [
    "day_df = (time_df.groupby(by= time_df.index.floor('D')) # Retain date row but floor index to day\n",
    "                         .agg(number_of_tickets = ('Violation Code', lambda x: x.count())))"
   ]
  },
  {
   "cell_type": "code",
   "execution_count": 61,
   "metadata": {
    "colab": {
     "base_uri": "https://localhost:8080/",
     "height": 450
    },
    "executionInfo": {
     "elapsed": 14,
     "status": "ok",
     "timestamp": 1626643601390,
     "user": {
      "displayName": "Samantha Roberts",
      "photoUrl": "",
      "userId": "12336021266384650140"
     },
     "user_tz": 240
    },
    "id": "HQDtUYhsMtfR",
    "outputId": "b35f66d9-3c97-4736-e631-43541023b6c4"
   },
   "outputs": [
    {
     "data": {
      "text/html": [
       "<div>\n",
       "<style scoped>\n",
       "    .dataframe tbody tr th:only-of-type {\n",
       "        vertical-align: middle;\n",
       "    }\n",
       "\n",
       "    .dataframe tbody tr th {\n",
       "        vertical-align: top;\n",
       "    }\n",
       "\n",
       "    .dataframe thead th {\n",
       "        text-align: right;\n",
       "    }\n",
       "</style>\n",
       "<table border=\"1\" class=\"dataframe\">\n",
       "  <thead>\n",
       "    <tr style=\"text-align: right;\">\n",
       "      <th></th>\n",
       "      <th>number_of_tickets</th>\n",
       "    </tr>\n",
       "    <tr>\n",
       "      <th>Issue Date and Time</th>\n",
       "      <th></th>\n",
       "    </tr>\n",
       "  </thead>\n",
       "  <tbody>\n",
       "    <tr>\n",
       "      <th>2016-07-01</th>\n",
       "      <td>31154</td>\n",
       "    </tr>\n",
       "    <tr>\n",
       "      <th>2016-07-02</th>\n",
       "      <td>19079</td>\n",
       "    </tr>\n",
       "    <tr>\n",
       "      <th>2016-07-03</th>\n",
       "      <td>7147</td>\n",
       "    </tr>\n",
       "    <tr>\n",
       "      <th>2016-07-04</th>\n",
       "      <td>5055</td>\n",
       "    </tr>\n",
       "    <tr>\n",
       "      <th>2016-07-05</th>\n",
       "      <td>23757</td>\n",
       "    </tr>\n",
       "    <tr>\n",
       "      <th>...</th>\n",
       "      <td>...</td>\n",
       "    </tr>\n",
       "    <tr>\n",
       "      <th>2017-06-26</th>\n",
       "      <td>19839</td>\n",
       "    </tr>\n",
       "    <tr>\n",
       "      <th>2017-06-27</th>\n",
       "      <td>31329</td>\n",
       "    </tr>\n",
       "    <tr>\n",
       "      <th>2017-06-28</th>\n",
       "      <td>8</td>\n",
       "    </tr>\n",
       "    <tr>\n",
       "      <th>2017-06-29</th>\n",
       "      <td>8</td>\n",
       "    </tr>\n",
       "    <tr>\n",
       "      <th>2017-06-30</th>\n",
       "      <td>16</td>\n",
       "    </tr>\n",
       "  </tbody>\n",
       "</table>\n",
       "<p>365 rows × 1 columns</p>\n",
       "</div>"
      ],
      "text/plain": [
       "                     number_of_tickets\n",
       "Issue Date and Time                   \n",
       "2016-07-01                       31154\n",
       "2016-07-02                       19079\n",
       "2016-07-03                        7147\n",
       "2016-07-04                        5055\n",
       "2016-07-05                       23757\n",
       "...                                ...\n",
       "2017-06-26                       19839\n",
       "2017-06-27                       31329\n",
       "2017-06-28                           8\n",
       "2017-06-29                           8\n",
       "2017-06-30                          16\n",
       "\n",
       "[365 rows x 1 columns]"
      ]
     },
     "execution_count": 61,
     "metadata": {
      "tags": []
     },
     "output_type": "execute_result"
    }
   ],
   "source": [
    "day_df"
   ]
  },
  {
   "cell_type": "markdown",
   "metadata": {
    "id": "zjP3ciaZQFKp"
   },
   "source": [
    "**Now use the \"DayofWeek\" timestamp property to see how tickets are distributed over a 7 day week**"
   ]
  },
  {
   "cell_type": "code",
   "execution_count": 62,
   "metadata": {
    "colab": {
     "base_uri": "https://localhost:8080/",
     "height": 544
    },
    "executionInfo": {
     "elapsed": 675,
     "status": "ok",
     "timestamp": 1626643602053,
     "user": {
      "displayName": "Samantha Roberts",
      "photoUrl": "",
      "userId": "12336021266384650140"
     },
     "user_tz": 240
    },
    "id": "qO1d9XW0Mth0",
    "outputId": "35ae7311-09b4-4dba-e566-e9c47057f3e8"
   },
   "outputs": [
    {
     "data": {
      "text/plain": [
       "Text(0.5, 1.0, 'Average tickets issued by day of the week')"
      ]
     },
     "execution_count": 62,
     "metadata": {
      "tags": []
     },
     "output_type": "execute_result"
    },
    {
     "data": {
      "image/png": "[encoded data removed]",
      "text/plain": [
       "<Figure size 1080x576 with 1 Axes>"
      ]
     },
     "metadata": {
      "needs_background": "light",
      "tags": []
     },
     "output_type": "display_data"
    }
   ],
   "source": [
    "plt.figure(figsize=(15, 8))\n",
    "sns.set_style({'axes.linewidth': 2, 'axes.edgecolor':'black'}) #this adds the black line box (spine) around the plot\n",
    "ax = sns.boxplot(x=day_df.index.dayofweek, y= 'number_of_tickets', data= day_df)\n",
    "ax.set_xticklabels(labels=['Monday','Tuesday','Wednesday','Thursday','Friday','Saturday','Sunday'], fontsize=14)\n",
    "ax.set_xlabel('Day of the week', fontsize=16)\n",
    "ax.set_ylabel('Number of tickets Issued', fontsize=16)\n",
    "ax.set_title('Average tickets issued by day of the week', fontsize=20)"
   ]
  },
  {
   "cell_type": "markdown",
   "metadata": {
    "id": "o_f8V1-rUj_h"
   },
   "source": [
    "## In the plot we see that Monday through Friday there are approximately 35,000 tickets issued daily\n",
    "- Thursday takes the lead with a mean value of over 40,000 ticklets issued throughout the city\n",
    "- Both weekend days have onsideable less tickets issued\n",
    "- On Sundays there is an average of less than 10,000 tickets issued "
   ]
  },
  {
   "cell_type": "markdown",
   "metadata": {
    "id": "KGwzOCZhA6aH"
   },
   "source": [
    "\n",
    "\n",
    "---\n",
    "\n"
   ]
  },
  {
   "cell_type": "markdown",
   "metadata": {
    "id": "jeNnRT1qpWRk"
   },
   "source": [
    "# Q5 - What hours of the day are most tickets issued?\n",
    "- Seperate results by violation county\n",
    "- Display results in a heatmap\n",
    "- Use unstack after groupby operation to get equilivalent of a pivot table"
   ]
  },
  {
   "cell_type": "code",
   "execution_count": 63,
   "metadata": {
    "executionInfo": {
     "elapsed": 7,
     "status": "ok",
     "timestamp": 1626643602054,
     "user": {
      "displayName": "Samantha Roberts",
      "photoUrl": "",
      "userId": "12336021266384650140"
     },
     "user_tz": 240
    },
    "id": "6EQ2ZH14tdM0"
   },
   "outputs": [],
   "source": [
    "#jovian.commit(project=project_name)"
   ]
  },
  {
   "cell_type": "code",
   "execution_count": 64,
   "metadata": {
    "colab": {
     "base_uri": "https://localhost:8080/",
     "height": 252
    },
    "executionInfo": {
     "elapsed": 1060,
     "status": "ok",
     "timestamp": 1626643603108,
     "user": {
      "displayName": "Samantha Roberts",
      "photoUrl": "",
      "userId": "12336021266384650140"
     },
     "user_tz": 240
    },
    "id": "qljnAEW7MuC8",
    "outputId": "09349a68-fe02-416f-e444-3f056b803426"
   },
   "outputs": [
    {
     "data": {
      "text/html": [
       "<div>\n",
       "<style scoped>\n",
       "    .dataframe tbody tr th:only-of-type {\n",
       "        vertical-align: middle;\n",
       "    }\n",
       "\n",
       "    .dataframe tbody tr th {\n",
       "        vertical-align: top;\n",
       "    }\n",
       "\n",
       "    .dataframe thead th {\n",
       "        text-align: right;\n",
       "    }\n",
       "</style>\n",
       "<table border=\"1\" class=\"dataframe\">\n",
       "  <thead>\n",
       "    <tr style=\"text-align: right;\">\n",
       "      <th>Issue Date and Time</th>\n",
       "      <th>0</th>\n",
       "      <th>1</th>\n",
       "      <th>2</th>\n",
       "      <th>3</th>\n",
       "      <th>4</th>\n",
       "      <th>5</th>\n",
       "      <th>6</th>\n",
       "      <th>7</th>\n",
       "      <th>8</th>\n",
       "      <th>9</th>\n",
       "      <th>10</th>\n",
       "      <th>11</th>\n",
       "      <th>12</th>\n",
       "      <th>13</th>\n",
       "      <th>14</th>\n",
       "      <th>15</th>\n",
       "      <th>16</th>\n",
       "      <th>17</th>\n",
       "      <th>18</th>\n",
       "      <th>19</th>\n",
       "      <th>20</th>\n",
       "      <th>21</th>\n",
       "      <th>22</th>\n",
       "      <th>23</th>\n",
       "    </tr>\n",
       "    <tr>\n",
       "      <th>Violation County</th>\n",
       "      <th></th>\n",
       "      <th></th>\n",
       "      <th></th>\n",
       "      <th></th>\n",
       "      <th></th>\n",
       "      <th></th>\n",
       "      <th></th>\n",
       "      <th></th>\n",
       "      <th></th>\n",
       "      <th></th>\n",
       "      <th></th>\n",
       "      <th></th>\n",
       "      <th></th>\n",
       "      <th></th>\n",
       "      <th></th>\n",
       "      <th></th>\n",
       "      <th></th>\n",
       "      <th></th>\n",
       "      <th></th>\n",
       "      <th></th>\n",
       "      <th></th>\n",
       "      <th></th>\n",
       "      <th></th>\n",
       "      <th></th>\n",
       "    </tr>\n",
       "  </thead>\n",
       "  <tbody>\n",
       "    <tr>\n",
       "      <th>Bronx</th>\n",
       "      <td>5434</td>\n",
       "      <td>17110</td>\n",
       "      <td>14732</td>\n",
       "      <td>12239</td>\n",
       "      <td>6368</td>\n",
       "      <td>23759</td>\n",
       "      <td>41728</td>\n",
       "      <td>67925</td>\n",
       "      <td>124225</td>\n",
       "      <td>131048</td>\n",
       "      <td>110582</td>\n",
       "      <td>137540</td>\n",
       "      <td>132097</td>\n",
       "      <td>130225</td>\n",
       "      <td>94636</td>\n",
       "      <td>60162</td>\n",
       "      <td>72058</td>\n",
       "      <td>41311</td>\n",
       "      <td>17031</td>\n",
       "      <td>7701</td>\n",
       "      <td>15932</td>\n",
       "      <td>19560</td>\n",
       "      <td>17805</td>\n",
       "      <td>13423</td>\n",
       "    </tr>\n",
       "    <tr>\n",
       "      <th>Brooklyn</th>\n",
       "      <td>11241</td>\n",
       "      <td>36671</td>\n",
       "      <td>27694</td>\n",
       "      <td>23773</td>\n",
       "      <td>8273</td>\n",
       "      <td>12833</td>\n",
       "      <td>44605</td>\n",
       "      <td>126834</td>\n",
       "      <td>297054</td>\n",
       "      <td>355878</td>\n",
       "      <td>276032</td>\n",
       "      <td>377781</td>\n",
       "      <td>332775</td>\n",
       "      <td>278995</td>\n",
       "      <td>232003</td>\n",
       "      <td>153839</td>\n",
       "      <td>135572</td>\n",
       "      <td>93817</td>\n",
       "      <td>49449</td>\n",
       "      <td>14340</td>\n",
       "      <td>21529</td>\n",
       "      <td>31369</td>\n",
       "      <td>27311</td>\n",
       "      <td>15432</td>\n",
       "    </tr>\n",
       "    <tr>\n",
       "      <th>Manhattan</th>\n",
       "      <td>9690</td>\n",
       "      <td>18868</td>\n",
       "      <td>13454</td>\n",
       "      <td>8937</td>\n",
       "      <td>5073</td>\n",
       "      <td>24913</td>\n",
       "      <td>83257</td>\n",
       "      <td>207274</td>\n",
       "      <td>302138</td>\n",
       "      <td>375879</td>\n",
       "      <td>325023</td>\n",
       "      <td>331325</td>\n",
       "      <td>267028</td>\n",
       "      <td>377201</td>\n",
       "      <td>316638</td>\n",
       "      <td>225483</td>\n",
       "      <td>188727</td>\n",
       "      <td>161926</td>\n",
       "      <td>92544</td>\n",
       "      <td>13178</td>\n",
       "      <td>36716</td>\n",
       "      <td>31232</td>\n",
       "      <td>20496</td>\n",
       "      <td>16704</td>\n",
       "    </tr>\n",
       "    <tr>\n",
       "      <th>Queens</th>\n",
       "      <td>8024</td>\n",
       "      <td>18461</td>\n",
       "      <td>21697</td>\n",
       "      <td>17075</td>\n",
       "      <td>7491</td>\n",
       "      <td>19794</td>\n",
       "      <td>60463</td>\n",
       "      <td>103755</td>\n",
       "      <td>234565</td>\n",
       "      <td>257996</td>\n",
       "      <td>207801</td>\n",
       "      <td>237042</td>\n",
       "      <td>212223</td>\n",
       "      <td>242412</td>\n",
       "      <td>223587</td>\n",
       "      <td>144518</td>\n",
       "      <td>161799</td>\n",
       "      <td>102978</td>\n",
       "      <td>48110</td>\n",
       "      <td>18556</td>\n",
       "      <td>28454</td>\n",
       "      <td>31532</td>\n",
       "      <td>20011</td>\n",
       "      <td>13362</td>\n",
       "    </tr>\n",
       "    <tr>\n",
       "      <th>Staten Island</th>\n",
       "      <td>840</td>\n",
       "      <td>975</td>\n",
       "      <td>779</td>\n",
       "      <td>682</td>\n",
       "      <td>549</td>\n",
       "      <td>531</td>\n",
       "      <td>1463</td>\n",
       "      <td>11268</td>\n",
       "      <td>26277</td>\n",
       "      <td>32284</td>\n",
       "      <td>32651</td>\n",
       "      <td>26051</td>\n",
       "      <td>21678</td>\n",
       "      <td>23521</td>\n",
       "      <td>19218</td>\n",
       "      <td>15735</td>\n",
       "      <td>13223</td>\n",
       "      <td>9843</td>\n",
       "      <td>5482</td>\n",
       "      <td>2061</td>\n",
       "      <td>1399</td>\n",
       "      <td>1232</td>\n",
       "      <td>1187</td>\n",
       "      <td>809</td>\n",
       "    </tr>\n",
       "  </tbody>\n",
       "</table>\n",
       "</div>"
      ],
      "text/plain": [
       "Issue Date and Time     0      1      2      3   ...     20     21     22     23\n",
       "Violation County                                 ...                            \n",
       "Bronx                 5434  17110  14732  12239  ...  15932  19560  17805  13423\n",
       "Brooklyn             11241  36671  27694  23773  ...  21529  31369  27311  15432\n",
       "Manhattan             9690  18868  13454   8937  ...  36716  31232  20496  16704\n",
       "Queens                8024  18461  21697  17075  ...  28454  31532  20011  13362\n",
       "Staten Island          840    975    779    682  ...   1399   1232   1187    809\n",
       "\n",
       "[5 rows x 24 columns]"
      ]
     },
     "execution_count": 64,
     "metadata": {
      "tags": []
     },
     "output_type": "execute_result"
    }
   ],
   "source": [
    "hour_df = time_df.groupby([time_df.index.hour, 'Violation County'])['Violation Code'].count().unstack().T\n",
    "hour_df.head(10)"
   ]
  },
  {
   "cell_type": "code",
   "execution_count": 65,
   "metadata": {
    "colab": {
     "base_uri": "https://localhost:8080/",
     "height": 542
    },
    "executionInfo": {
     "elapsed": 284,
     "status": "ok",
     "timestamp": 1626643603387,
     "user": {
      "displayName": "Samantha Roberts",
      "photoUrl": "",
      "userId": "12336021266384650140"
     },
     "user_tz": 240
    },
    "id": "bROL5lTUSs1W",
    "outputId": "2d23387f-887a-4706-f938-6fe2324fb3b3"
   },
   "outputs": [
    {
     "data": {
      "text/html": [
       "<html>\n",
       "<head><meta charset=\"utf-8\" /></head>\n",
       "<body>\n",
       "    <div>            <script src=\"https://cdnjs.cloudflare.com/ajax/libs/mathjax/2.7.5/MathJax.js?config=TeX-AMS-MML_SVG\"></script><script type=\"text/javascript\">if (window.MathJax) {MathJax.Hub.Config({SVG: {font: \"STIX-Web\"}});}</script>                <script type=\"text/javascript\">window.PlotlyConfig = {MathJaxConfig: 'local'};</script>\n",
       "        <script src=\"https://cdn.plot.ly/plotly-2.2.0.min.js\"></script>                <div id=\"2e7cfda5-7f3e-4ce0-a9a1-039eae779003\" class=\"plotly-graph-div\" style=\"height:525px; width:100%;\"></div>            <script type=\"text/javascript\">                                    window.PLOTLYENV=window.PLOTLYENV || {};                                    if (document.getElementById(\"2e7cfda5-7f3e-4ce0-a9a1-039eae779003\")) {                    Plotly.newPlot(                        \"2e7cfda5-7f3e-4ce0-a9a1-039eae779003\",                        [{\"coloraxis\":\"coloraxis\",\"hovertemplate\":\"Issue Date and Time: %{x}<br>Violation County: %{y}<br>color: %{z}<extra></extra>\",\"name\":\"0\",\"type\":\"heatmap\",\"x\":[0,1,2,3,4,5,6,7,8,9,10,11,12,13,14,15,16,17,18,19,20,21,22,23],\"xaxis\":\"x\",\"y\":[\"Bronx\",\"Brooklyn\",\"Manhattan\",\"Queens\",\"Staten Island\"],\"yaxis\":\"y\",\"z\":[[5434,17110,14732,12239,6368,23759,41728,67925,124225,131048,110582,137540,132097,130225,94636,60162,72058,41311,17031,7701,15932,19560,17805,13423],[11241,36671,27694,23773,8273,12833,44605,126834,297054,355878,276032,377781,332775,278995,232003,153839,135572,93817,49449,14340,21529,31369,27311,15432],[9690,18868,13454,8937,5073,24913,83257,207274,302138,375879,325023,331325,267028,377201,316638,225483,188727,161926,92544,13178,36716,31232,20496,16704],[8024,18461,21697,17075,7491,19794,60463,103755,234565,257996,207801,237042,212223,242412,223587,144518,161799,102978,48110,18556,28454,31532,20011,13362],[840,975,779,682,549,531,1463,11268,26277,32284,32651,26051,21678,23521,19218,15735,13223,9843,5482,2061,1399,1232,1187,809]]}],                        {\"coloraxis\":{\"cmax\":375000,\"cmin\":-50000,\"colorscale\":[[0.0,\"#440154\"],[0.1111111111111111,\"#482878\"],[0.2222222222222222,\"#3e4989\"],[0.3333333333333333,\"#31688e\"],[0.4444444444444444,\"#26828e\"],[0.5555555555555556,\"#1f9e89\"],[0.6666666666666666,\"#35b779\"],[0.7777777777777778,\"#6ece58\"],[0.8888888888888888,\"#b5de2b\"],[1.0,\"#fde725\"]]},\"font\":{\"color\":\"RebeccaPurple\",\"family\":\"ariel\",\"size\":16},\"margin\":{\"t\":60},\"template\":{\"data\":{\"bar\":[{\"error_x\":{\"color\":\"#2a3f5f\"},\"error_y\":{\"color\":\"#2a3f5f\"},\"marker\":{\"line\":{\"color\":\"#E5ECF6\",\"width\":0.5},\"pattern\":{\"fillmode\":\"overlay\",\"size\":10,\"solidity\":0.2}},\"type\":\"bar\"}],\"barpolar\":[{\"marker\":{\"line\":{\"color\":\"#E5ECF6\",\"width\":0.5},\"pattern\":{\"fillmode\":\"overlay\",\"size\":10,\"solidity\":0.2}},\"type\":\"barpolar\"}],\"carpet\":[{\"aaxis\":{\"endlinecolor\":\"#2a3f5f\",\"gridcolor\":\"white\",\"linecolor\":\"white\",\"minorgridcolor\":\"white\",\"startlinecolor\":\"#2a3f5f\"},\"baxis\":{\"endlinecolor\":\"#2a3f5f\",\"gridcolor\":\"white\",\"linecolor\":\"white\",\"minorgridcolor\":\"white\",\"startlinecolor\":\"#2a3f5f\"},\"type\":\"carpet\"}],\"choropleth\":[{\"colorbar\":{\"outlinewidth\":0,\"ticks\":\"\"},\"type\":\"choropleth\"}],\"contour\":[{\"colorbar\":{\"outlinewidth\":0,\"ticks\":\"\"},\"colorscale\":[[0.0,\"#0d0887\"],[0.1111111111111111,\"#46039f\"],[0.2222222222222222,\"#7201a8\"],[0.3333333333333333,\"#9c179e\"],[0.4444444444444444,\"#bd3786\"],[0.5555555555555556,\"#d8576b\"],[0.6666666666666666,\"#ed7953\"],[0.7777777777777778,\"#fb9f3a\"],[0.8888888888888888,\"#fdca26\"],[1.0,\"#f0f921\"]],\"type\":\"contour\"}],\"contourcarpet\":[{\"colorbar\":{\"outlinewidth\":0,\"ticks\":\"\"},\"type\":\"contourcarpet\"}],\"heatmap\":[{\"colorbar\":{\"outlinewidth\":0,\"ticks\":\"\"},\"colorscale\":[[0.0,\"#0d0887\"],[0.1111111111111111,\"#46039f\"],[0.2222222222222222,\"#7201a8\"],[0.3333333333333333,\"#9c179e\"],[0.4444444444444444,\"#bd3786\"],[0.5555555555555556,\"#d8576b\"],[0.6666666666666666,\"#ed7953\"],[0.7777777777777778,\"#fb9f3a\"],[0.8888888888888888,\"#fdca26\"],[1.0,\"#f0f921\"]],\"type\":\"heatmap\"}],\"heatmapgl\":[{\"colorbar\":{\"outlinewidth\":0,\"ticks\":\"\"},\"colorscale\":[[0.0,\"#0d0887\"],[0.1111111111111111,\"#46039f\"],[0.2222222222222222,\"#7201a8\"],[0.3333333333333333,\"#9c179e\"],[0.4444444444444444,\"#bd3786\"],[0.5555555555555556,\"#d8576b\"],[0.6666666666666666,\"#ed7953\"],[0.7777777777777778,\"#fb9f3a\"],[0.8888888888888888,\"#fdca26\"],[1.0,\"#f0f921\"]],\"type\":\"heatmapgl\"}],\"histogram\":[{\"marker\":{\"pattern\":{\"fillmode\":\"overlay\",\"size\":10,\"solidity\":0.2}},\"type\":\"histogram\"}],\"histogram2d\":[{\"colorbar\":{\"outlinewidth\":0,\"ticks\":\"\"},\"colorscale\":[[0.0,\"#0d0887\"],[0.1111111111111111,\"#46039f\"],[0.2222222222222222,\"#7201a8\"],[0.3333333333333333,\"#9c179e\"],[0.4444444444444444,\"#bd3786\"],[0.5555555555555556,\"#d8576b\"],[0.6666666666666666,\"#ed7953\"],[0.7777777777777778,\"#fb9f3a\"],[0.8888888888888888,\"#fdca26\"],[1.0,\"#f0f921\"]],\"type\":\"histogram2d\"}],\"histogram2dcontour\":[{\"colorbar\":{\"outlinewidth\":0,\"ticks\":\"\"},\"colorscale\":[[0.0,\"#0d0887\"],[0.1111111111111111,\"#46039f\"],[0.2222222222222222,\"#7201a8\"],[0.3333333333333333,\"#9c179e\"],[0.4444444444444444,\"#bd3786\"],[0.5555555555555556,\"#d8576b\"],[0.6666666666666666,\"#ed7953\"],[0.7777777777777778,\"#fb9f3a\"],[0.8888888888888888,\"#fdca26\"],[1.0,\"#f0f921\"]],\"type\":\"histogram2dcontour\"}],\"mesh3d\":[{\"colorbar\":{\"outlinewidth\":0,\"ticks\":\"\"},\"type\":\"mesh3d\"}],\"parcoords\":[{\"line\":{\"colorbar\":{\"outlinewidth\":0,\"ticks\":\"\"}},\"type\":\"parcoords\"}],\"pie\":[{\"automargin\":true,\"type\":\"pie\"}],\"scatter\":[{\"marker\":{\"colorbar\":{\"outlinewidth\":0,\"ticks\":\"\"}},\"type\":\"scatter\"}],\"scatter3d\":[{\"line\":{\"colorbar\":{\"outlinewidth\":0,\"ticks\":\"\"}},\"marker\":{\"colorbar\":{\"outlinewidth\":0,\"ticks\":\"\"}},\"type\":\"scatter3d\"}],\"scattercarpet\":[{\"marker\":{\"colorbar\":{\"outlinewidth\":0,\"ticks\":\"\"}},\"type\":\"scattercarpet\"}],\"scattergeo\":[{\"marker\":{\"colorbar\":{\"outlinewidth\":0,\"ticks\":\"\"}},\"type\":\"scattergeo\"}],\"scattergl\":[{\"marker\":{\"colorbar\":{\"outlinewidth\":0,\"ticks\":\"\"}},\"type\":\"scattergl\"}],\"scattermapbox\":[{\"marker\":{\"colorbar\":{\"outlinewidth\":0,\"ticks\":\"\"}},\"type\":\"scattermapbox\"}],\"scatterpolar\":[{\"marker\":{\"colorbar\":{\"outlinewidth\":0,\"ticks\":\"\"}},\"type\":\"scatterpolar\"}],\"scatterpolargl\":[{\"marker\":{\"colorbar\":{\"outlinewidth\":0,\"ticks\":\"\"}},\"type\":\"scatterpolargl\"}],\"scatterternary\":[{\"marker\":{\"colorbar\":{\"outlinewidth\":0,\"ticks\":\"\"}},\"type\":\"scatterternary\"}],\"surface\":[{\"colorbar\":{\"outlinewidth\":0,\"ticks\":\"\"},\"colorscale\":[[0.0,\"#0d0887\"],[0.1111111111111111,\"#46039f\"],[0.2222222222222222,\"#7201a8\"],[0.3333333333333333,\"#9c179e\"],[0.4444444444444444,\"#bd3786\"],[0.5555555555555556,\"#d8576b\"],[0.6666666666666666,\"#ed7953\"],[0.7777777777777778,\"#fb9f3a\"],[0.8888888888888888,\"#fdca26\"],[1.0,\"#f0f921\"]],\"type\":\"surface\"}],\"table\":[{\"cells\":{\"fill\":{\"color\":\"#EBF0F8\"},\"line\":{\"color\":\"white\"}},\"header\":{\"fill\":{\"color\":\"#C8D4E3\"},\"line\":{\"color\":\"white\"}},\"type\":\"table\"}]},\"layout\":{\"annotationdefaults\":{\"arrowcolor\":\"#2a3f5f\",\"arrowhead\":0,\"arrowwidth\":1},\"autotypenumbers\":\"strict\",\"coloraxis\":{\"colorbar\":{\"outlinewidth\":0,\"ticks\":\"\"}},\"colorscale\":{\"diverging\":[[0,\"#8e0152\"],[0.1,\"#c51b7d\"],[0.2,\"#de77ae\"],[0.3,\"#f1b6da\"],[0.4,\"#fde0ef\"],[0.5,\"#f7f7f7\"],[0.6,\"#e6f5d0\"],[0.7,\"#b8e186\"],[0.8,\"#7fbc41\"],[0.9,\"#4d9221\"],[1,\"#276419\"]],\"sequential\":[[0.0,\"#0d0887\"],[0.1111111111111111,\"#46039f\"],[0.2222222222222222,\"#7201a8\"],[0.3333333333333333,\"#9c179e\"],[0.4444444444444444,\"#bd3786\"],[0.5555555555555556,\"#d8576b\"],[0.6666666666666666,\"#ed7953\"],[0.7777777777777778,\"#fb9f3a\"],[0.8888888888888888,\"#fdca26\"],[1.0,\"#f0f921\"]],\"sequentialminus\":[[0.0,\"#0d0887\"],[0.1111111111111111,\"#46039f\"],[0.2222222222222222,\"#7201a8\"],[0.3333333333333333,\"#9c179e\"],[0.4444444444444444,\"#bd3786\"],[0.5555555555555556,\"#d8576b\"],[0.6666666666666666,\"#ed7953\"],[0.7777777777777778,\"#fb9f3a\"],[0.8888888888888888,\"#fdca26\"],[1.0,\"#f0f921\"]]},\"colorway\":[\"#636efa\",\"#EF553B\",\"#00cc96\",\"#ab63fa\",\"#FFA15A\",\"#19d3f3\",\"#FF6692\",\"#B6E880\",\"#FF97FF\",\"#FECB52\"],\"font\":{\"color\":\"#2a3f5f\"},\"geo\":{\"bgcolor\":\"white\",\"lakecolor\":\"white\",\"landcolor\":\"#E5ECF6\",\"showlakes\":true,\"showland\":true,\"subunitcolor\":\"white\"},\"hoverlabel\":{\"align\":\"left\"},\"hovermode\":\"closest\",\"mapbox\":{\"style\":\"light\"},\"paper_bgcolor\":\"white\",\"plot_bgcolor\":\"#E5ECF6\",\"polar\":{\"angularaxis\":{\"gridcolor\":\"white\",\"linecolor\":\"white\",\"ticks\":\"\"},\"bgcolor\":\"#E5ECF6\",\"radialaxis\":{\"gridcolor\":\"white\",\"linecolor\":\"white\",\"ticks\":\"\"}},\"scene\":{\"xaxis\":{\"backgroundcolor\":\"#E5ECF6\",\"gridcolor\":\"white\",\"gridwidth\":2,\"linecolor\":\"white\",\"showbackground\":true,\"ticks\":\"\",\"zerolinecolor\":\"white\"},\"yaxis\":{\"backgroundcolor\":\"#E5ECF6\",\"gridcolor\":\"white\",\"gridwidth\":2,\"linecolor\":\"white\",\"showbackground\":true,\"ticks\":\"\",\"zerolinecolor\":\"white\"},\"zaxis\":{\"backgroundcolor\":\"#E5ECF6\",\"gridcolor\":\"white\",\"gridwidth\":2,\"linecolor\":\"white\",\"showbackground\":true,\"ticks\":\"\",\"zerolinecolor\":\"white\"}},\"shapedefaults\":{\"line\":{\"color\":\"#2a3f5f\"}},\"ternary\":{\"aaxis\":{\"gridcolor\":\"white\",\"linecolor\":\"white\",\"ticks\":\"\"},\"baxis\":{\"gridcolor\":\"white\",\"linecolor\":\"white\",\"ticks\":\"\"},\"bgcolor\":\"#E5ECF6\",\"caxis\":{\"gridcolor\":\"white\",\"linecolor\":\"white\",\"ticks\":\"\"}},\"title\":{\"x\":0.05},\"xaxis\":{\"automargin\":true,\"gridcolor\":\"white\",\"linecolor\":\"white\",\"ticks\":\"\",\"title\":{\"standoff\":15},\"zerolinecolor\":\"white\",\"zerolinewidth\":2},\"yaxis\":{\"automargin\":true,\"gridcolor\":\"white\",\"linecolor\":\"white\",\"ticks\":\"\",\"title\":{\"standoff\":15},\"zerolinecolor\":\"white\",\"zerolinewidth\":2}}},\"title\":{\"text\":\"Parking tickets issued in NYC by time of day\",\"x\":0.5,\"xanchor\":\"center\",\"y\":0.97,\"yanchor\":\"top\"},\"xaxis\":{\"anchor\":\"y\",\"constrain\":\"domain\",\"domain\":[0.0,1.0],\"scaleanchor\":\"y\",\"ticktext\":[\"12 AM\",\"1 AM\",\"2 AM\",\"3 AM\",\"4 AM\",\"5 AM\",\"6 AM\",\"7 AM\",\"8 AM\",\"9 AM\",\"10 AM\",\"11 AM\",\"12 PM\",\"1 PM\",\"2 PM\",\"3 PM\",\"4 PM\",\"5 PM\",\"6 PM\",\"7 PM\",\"8 PM\",\"9 PM\",\"10 PM\",\"11 PM\"],\"tickvals\":[\"0\",\"1\",\"2\",\"3\",\"4\",\"5\",\"6\",\"7\",\"8\",\"9\",\"10\",\"11\",\"12\",\"13\",\"14\",\"15\",\"16\",\"17\",\"18\",\"19\",\"20\",\"21\",\"22\",\"23\"],\"title\":{\"text\":\"Violation Time\"}},\"yaxis\":{\"anchor\":\"x\",\"autorange\":\"reversed\",\"constrain\":\"domain\",\"domain\":[0.0,1.0],\"ticktext\":[\"Bronx\",\"Brooklyn\",\"Manhattan\",\"Queens\",\"Staten Island\"],\"tickvals\":[0,1,2,3,4],\"title\":{\"text\":\"Violation Borough\"}}},                        {\"responsive\": true}                    ).then(function(){\n",
       "                            \n",
       "var gd = document.getElementById('2e7cfda5-7f3e-4ce0-a9a1-039eae779003');\n",
       "var x = new MutationObserver(function (mutations, observer) {{\n",
       "        var display = window.getComputedStyle(gd).display;\n",
       "        if (!display || display === 'none') {{\n",
       "            console.log([gd, 'removed!']);\n",
       "            Plotly.purge(gd);\n",
       "            observer.disconnect();\n",
       "        }}\n",
       "}});\n",
       "\n",
       "// Listen for the removal of the full notebook cells\n",
       "var notebookContainer = gd.closest('#notebook-container');\n",
       "if (notebookContainer) {{\n",
       "    x.observe(notebookContainer, {childList: true});\n",
       "}}\n",
       "\n",
       "// Listen for the clearing of the current output cell\n",
       "var outputEl = gd.closest('.output');\n",
       "if (outputEl) {{\n",
       "    x.observe(outputEl, {childList: true});\n",
       "}}\n",
       "\n",
       "                        })                };                            </script>        </div>\n",
       "</body>\n",
       "</html>"
      ]
     },
     "metadata": {
      "tags": []
     },
     "output_type": "display_data"
    }
   ],
   "source": [
    "fig = px.imshow(hour_df, \n",
    "                color_continuous_scale='Viridis', \n",
    "                zmin=-50000, \n",
    "                zmax=375000)\n",
    "fig.update_layout(\n",
    "    title={\n",
    "          'text': 'Parking tickets issued in NYC by time of day',\n",
    "          'y':0.97,\n",
    "          'x':0.5,\n",
    "          'xanchor': 'center',\n",
    "          'yanchor': 'top'\n",
    "    },\n",
    "    yaxis_title='Violation Borough',\n",
    "    xaxis_title='Violation Time',\n",
    "    #xgap=1, \n",
    "    #ygap=1,\n",
    "    #boxgap=1,\n",
    "    #annotations=({'Issue Date and Time': 'Hour of Day'}),\n",
    "    font=dict(\n",
    "        family=\"ariel\", #\"Courier New, monospace\",\n",
    "        size=16,\n",
    "        color=\"RebeccaPurple\"\n",
    "    )\n",
    ")\n",
    "\n",
    "fig.update_xaxes(\n",
    "    ticktext=[str(i)+' AM' if i != 0 else '12 AM' for i in list(range(12))] + \n",
    "             [str(i)+' PM' if i != 0 else '12 PM' for i in list(range(12))],\n",
    "    tickvals=[str(i) for i in list(range(24))])\n",
    "fig.update_yaxes(\n",
    "    ticktext=list(hour_df.index.categories),\n",
    "    tickvals=[0, 1, 2, 3, 4])\n",
    "fig.show()"
   ]
  },
  {
   "cell_type": "markdown",
   "metadata": {
    "id": "loZfJJ5ltmnn"
   },
   "source": [
    "## We see that the hours between 6AM and 6PM are when the most tickets are issued \n",
    "- This trend is consistent across all of the 5 boroughs\n",
    "- In this heatmap Staten Island is outstanding in that it has comparatively few tickets being issued no matter what time of day it is "
   ]
  },
  {
   "cell_type": "markdown",
   "metadata": {
    "id": "AkD8XQLgBonY"
   },
   "source": [
    "\n",
    "\n",
    "---\n",
    "\n"
   ]
  },
  {
   "cell_type": "markdown",
   "metadata": {
    "id": "oy3hCLCHur07"
   },
   "source": [
    "# Q6 - What is the overall income that NYC makes on tickets?\n",
    "- We first need to retrieve a csv file from NYC Open data which has violation descriptions and fines for each of the violation codes in our current data\n",
    "- we will then need to rename the columns and merge the two dataframes\n",
    "- For now we will only use the std fine -- the increased fine (below 96th street) involved finding the locatiion of manhattan tickets which is currently beyond the scope of this EDA\n"
   ]
  },
  {
   "cell_type": "code",
   "execution_count": 66,
   "metadata": {
    "executionInfo": {
     "elapsed": 6,
     "status": "ok",
     "timestamp": 1626643603389,
     "user": {
      "displayName": "Samantha Roberts",
      "photoUrl": "",
      "userId": "12336021266384650140"
     },
     "user_tz": 240
    },
    "id": "XaXtXQESSs4l"
   },
   "outputs": [],
   "source": [
    "#jovian.commit(project=project_name)"
   ]
  },
  {
   "cell_type": "markdown",
   "metadata": {
    "id": "5WkrckDEwqZo"
   },
   "source": [
    "**The file below will have the codes, the definition, and the associated fine**"
   ]
  },
  {
   "cell_type": "code",
   "execution_count": 67,
   "metadata": {
    "colab": {
     "base_uri": "https://localhost:8080/",
     "height": 419
    },
    "executionInfo": {
     "elapsed": 2114,
     "status": "ok",
     "timestamp": 1626643605497,
     "user": {
      "displayName": "Samantha Roberts",
      "photoUrl": "",
      "userId": "12336021266384650140"
     },
     "user_tz": 240
    },
    "id": "0GeXoQZNugLQ",
    "outputId": "9a016827-b275-450f-cd93-31d0a0eb5468"
   },
   "outputs": [
    {
     "data": {
      "text/html": [
       "<div>\n",
       "<style scoped>\n",
       "    .dataframe tbody tr th:only-of-type {\n",
       "        vertical-align: middle;\n",
       "    }\n",
       "\n",
       "    .dataframe tbody tr th {\n",
       "        vertical-align: top;\n",
       "    }\n",
       "\n",
       "    .dataframe thead th {\n",
       "        text-align: right;\n",
       "    }\n",
       "</style>\n",
       "<table border=\"1\" class=\"dataframe\">\n",
       "  <thead>\n",
       "    <tr style=\"text-align: right;\">\n",
       "      <th></th>\n",
       "      <th>CODE</th>\n",
       "      <th>DEFINITION</th>\n",
       "      <th>Manhattan  96th St. &amp; below</th>\n",
       "      <th>All Other Areas</th>\n",
       "    </tr>\n",
       "  </thead>\n",
       "  <tbody>\n",
       "    <tr>\n",
       "      <th>0</th>\n",
       "      <td>1</td>\n",
       "      <td>FAILURE TO DISPLAY BUS PERMIT</td>\n",
       "      <td>515</td>\n",
       "      <td>515</td>\n",
       "    </tr>\n",
       "    <tr>\n",
       "      <th>1</th>\n",
       "      <td>2</td>\n",
       "      <td>NO OPERATOR NAM/ADD/PH DISPLAY</td>\n",
       "      <td>515</td>\n",
       "      <td>515</td>\n",
       "    </tr>\n",
       "    <tr>\n",
       "      <th>2</th>\n",
       "      <td>3</td>\n",
       "      <td>UNAUTHORIZED PASSENGER PICK-UP</td>\n",
       "      <td>515</td>\n",
       "      <td>515</td>\n",
       "    </tr>\n",
       "    <tr>\n",
       "      <th>3</th>\n",
       "      <td>4</td>\n",
       "      <td>BUS PARKING IN LOWER MANHATTAN</td>\n",
       "      <td>115</td>\n",
       "      <td>115</td>\n",
       "    </tr>\n",
       "    <tr>\n",
       "      <th>4</th>\n",
       "      <td>5</td>\n",
       "      <td>BUS LANE VIOLATION</td>\n",
       "      <td>50</td>\n",
       "      <td>50</td>\n",
       "    </tr>\n",
       "    <tr>\n",
       "      <th>...</th>\n",
       "      <td>...</td>\n",
       "      <td>...</td>\n",
       "      <td>...</td>\n",
       "      <td>...</td>\n",
       "    </tr>\n",
       "    <tr>\n",
       "      <th>92</th>\n",
       "      <td>93</td>\n",
       "      <td>REMOVE/REPLACE FLAT TIRE</td>\n",
       "      <td>65</td>\n",
       "      <td>65</td>\n",
       "    </tr>\n",
       "    <tr>\n",
       "      <th>93</th>\n",
       "      <td>96</td>\n",
       "      <td>RAILROAD CROSSING</td>\n",
       "      <td>95</td>\n",
       "      <td>95</td>\n",
       "    </tr>\n",
       "    <tr>\n",
       "      <th>94</th>\n",
       "      <td>97</td>\n",
       "      <td>VACANT LOT</td>\n",
       "      <td>65</td>\n",
       "      <td>45</td>\n",
       "    </tr>\n",
       "    <tr>\n",
       "      <th>95</th>\n",
       "      <td>98</td>\n",
       "      <td>OBSTRUCTING DRIVEWAY</td>\n",
       "      <td>95</td>\n",
       "      <td>95</td>\n",
       "    </tr>\n",
       "    <tr>\n",
       "      <th>96</th>\n",
       "      <td>99</td>\n",
       "      <td>OTHER</td>\n",
       "      <td>105</td>\n",
       "      <td>105</td>\n",
       "    </tr>\n",
       "  </tbody>\n",
       "</table>\n",
       "<p>97 rows × 4 columns</p>\n",
       "</div>"
      ],
      "text/plain": [
       "    CODE  ... All Other Areas\n",
       "0      1  ...             515\n",
       "1      2  ...             515\n",
       "2      3  ...             515\n",
       "3      4  ...             115\n",
       "4      5  ...              50\n",
       "..   ...  ...             ...\n",
       "92    93  ...              65\n",
       "93    96  ...              95\n",
       "94    97  ...              45\n",
       "95    98  ...              95\n",
       "96    99  ...             105\n",
       "\n",
       "[97 rows x 4 columns]"
      ]
     },
     "execution_count": 67,
     "metadata": {
      "tags": []
     },
     "output_type": "execute_result"
    }
   ],
   "source": [
    "violation_defs_and_fines = pd.read_csv('https://data.cityofnewyork.us/api/views/ncbg-6agr/rows.csv?accessType=DOWNLOAD')\n",
    "violation_defs_and_fines"
   ]
  },
  {
   "cell_type": "markdown",
   "metadata": {
    "id": "Jt6xzJoK05dR"
   },
   "source": [
    "**We see we also have up to 99 violation code values in the Tickets issued DF**\n",
    "- This appears to include 0, not a valid violation code"
   ]
  },
  {
   "cell_type": "code",
   "execution_count": 68,
   "metadata": {
    "colab": {
     "base_uri": "https://localhost:8080/"
    },
    "executionInfo": {
     "elapsed": 30,
     "status": "ok",
     "timestamp": 1626643605498,
     "user": {
      "displayName": "Samantha Roberts",
      "photoUrl": "",
      "userId": "12336021266384650140"
     },
     "user_tz": 240
    },
    "id": "aA-fuSuK0rfM",
    "outputId": "f2d1384a-cadf-464b-e238-cf244f16c8a3"
   },
   "outputs": [
    {
     "data": {
      "text/plain": [
       "array([ 0,  1,  2,  3,  4,  5,  6,  7,  8,  9, 10, 11, 12, 13, 14, 15, 16,\n",
       "       17, 18, 19, 20, 21, 22, 23, 24, 25, 26, 27, 28, 29, 30, 31, 32, 33,\n",
       "       34, 35, 36, 37, 38, 39, 40, 41, 42, 43, 44, 45, 46, 47, 48, 49, 50,\n",
       "       51, 52, 53, 54, 55, 56, 57, 58, 59, 60, 61, 62, 63, 64, 65, 66, 67,\n",
       "       68, 69, 70, 71, 72, 73, 74, 75, 76, 77, 78, 79, 80, 81, 82, 83, 84,\n",
       "       85, 86, 87, 88, 89, 90, 91, 92, 93, 94, 95, 96, 97, 98, 99])"
      ]
     },
     "execution_count": 68,
     "metadata": {
      "tags": []
     },
     "output_type": "execute_result"
    }
   ],
   "source": [
    "np.sort(df['Violation Code'].unique())"
   ]
  },
  {
   "cell_type": "code",
   "execution_count": 69,
   "metadata": {
    "colab": {
     "base_uri": "https://localhost:8080/"
    },
    "executionInfo": {
     "elapsed": 16,
     "status": "ok",
     "timestamp": 1626643605500,
     "user": {
      "displayName": "Samantha Roberts",
      "photoUrl": "",
      "userId": "12336021266384650140"
     },
     "user_tz": 240
    },
    "id": "gy_BiXR40seK",
    "outputId": "2f3bd5c8-ad02-49a6-c54f-206a09c3a474"
   },
   "outputs": [
    {
     "data": {
      "text/plain": [
       "0"
      ]
     },
     "execution_count": 69,
     "metadata": {
      "tags": []
     },
     "output_type": "execute_result"
    }
   ],
   "source": [
    "df[\"Violation Code\"].isna().sum()"
   ]
  },
  {
   "cell_type": "code",
   "execution_count": 70,
   "metadata": {
    "colab": {
     "base_uri": "https://localhost:8080/",
     "height": 142
    },
    "executionInfo": {
     "elapsed": 12,
     "status": "ok",
     "timestamp": 1626643605501,
     "user": {
      "displayName": "Samantha Roberts",
      "photoUrl": "",
      "userId": "12336021266384650140"
     },
     "user_tz": 240
    },
    "id": "fABiN8R7D_XK",
    "outputId": "1b7e4f0e-54c6-4256-8f63-2a3c0ee3c9a9",
    "scrolled": true
   },
   "outputs": [
    {
     "data": {
      "text/html": [
       "<div>\n",
       "<style scoped>\n",
       "    .dataframe tbody tr th:only-of-type {\n",
       "        vertical-align: middle;\n",
       "    }\n",
       "\n",
       "    .dataframe tbody tr th {\n",
       "        vertical-align: top;\n",
       "    }\n",
       "\n",
       "    .dataframe thead th {\n",
       "        text-align: right;\n",
       "    }\n",
       "</style>\n",
       "<table border=\"1\" class=\"dataframe\">\n",
       "  <thead>\n",
       "    <tr style=\"text-align: right;\">\n",
       "      <th></th>\n",
       "      <th>Registration State</th>\n",
       "      <th>Plate Type</th>\n",
       "      <th>Violation Location</th>\n",
       "      <th>Issuer Precinct</th>\n",
       "      <th>Issuer Code</th>\n",
       "      <th>Violation Code</th>\n",
       "      <th>Meter Number</th>\n",
       "      <th>Violation County</th>\n",
       "      <th>Issuer Squad</th>\n",
       "      <th>Issuing Agency</th>\n",
       "      <th>Issue Date and Time</th>\n",
       "    </tr>\n",
       "  </thead>\n",
       "  <tbody>\n",
       "    <tr>\n",
       "      <th>0</th>\n",
       "      <td>NY</td>\n",
       "      <td>PAS</td>\n",
       "      <td>NaN</td>\n",
       "      <td>0</td>\n",
       "      <td>0</td>\n",
       "      <td>7</td>\n",
       "      <td>NaN</td>\n",
       "      <td>Bronx</td>\n",
       "      <td>NaN</td>\n",
       "      <td>V</td>\n",
       "      <td>2016-07-10 01:43:00</td>\n",
       "    </tr>\n",
       "    <tr>\n",
       "      <th>1</th>\n",
       "      <td>NY</td>\n",
       "      <td>PAS</td>\n",
       "      <td>NaN</td>\n",
       "      <td>0</td>\n",
       "      <td>0</td>\n",
       "      <td>7</td>\n",
       "      <td>NaN</td>\n",
       "      <td>Bronx</td>\n",
       "      <td>NaN</td>\n",
       "      <td>V</td>\n",
       "      <td>2016-07-08 16:00:00</td>\n",
       "    </tr>\n",
       "    <tr>\n",
       "      <th>2</th>\n",
       "      <td>NY</td>\n",
       "      <td>PAS</td>\n",
       "      <td>NaN</td>\n",
       "      <td>0</td>\n",
       "      <td>0</td>\n",
       "      <td>5</td>\n",
       "      <td>NaN</td>\n",
       "      <td>Bronx</td>\n",
       "      <td>NaN</td>\n",
       "      <td>V</td>\n",
       "      <td>2016-08-23 14:33:00</td>\n",
       "    </tr>\n",
       "  </tbody>\n",
       "</table>\n",
       "</div>"
      ],
      "text/plain": [
       "  Registration State Plate Type  ...  Issuing Agency  Issue Date and Time\n",
       "0                 NY        PAS  ...               V  2016-07-10 01:43:00\n",
       "1                 NY        PAS  ...               V  2016-07-08 16:00:00\n",
       "2                 NY        PAS  ...               V  2016-08-23 14:33:00\n",
       "\n",
       "[3 rows x 11 columns]"
      ]
     },
     "execution_count": 70,
     "metadata": {
      "tags": []
     },
     "output_type": "execute_result"
    }
   ],
   "source": [
    "df.head(3)"
   ]
  },
  {
   "cell_type": "markdown",
   "metadata": {
    "id": "WeaQjnNYxFM0"
   },
   "source": [
    "**We rename the column of the new 'Violation Code' dataframe**\n",
    "- Make certain the the 'Violation Code' column matches the header of our 2017 tickets issued dataframe"
   ]
  },
  {
   "cell_type": "code",
   "execution_count": 71,
   "metadata": {
    "colab": {
     "base_uri": "https://localhost:8080/"
    },
    "executionInfo": {
     "elapsed": 251,
     "status": "ok",
     "timestamp": 1626643605741,
     "user": {
      "displayName": "Samantha Roberts",
      "photoUrl": "",
      "userId": "12336021266384650140"
     },
     "user_tz": 240
    },
    "id": "nUR0Ecf3D_XK",
    "outputId": "9b72fabb-6c0b-49a4-ea80-549d1bc85a1b"
   },
   "outputs": [
    {
     "data": {
      "text/plain": [
       "Index(['Violation Code', 'Violation Description', 'Fine (below 96th)', 'Fine'], dtype='object')"
      ]
     },
     "execution_count": 71,
     "metadata": {
      "tags": []
     },
     "output_type": "execute_result"
    }
   ],
   "source": [
    "violation_defs_and_fines.columns = ['Violation Code', 'Violation Description', 'Fine (below 96th)', 'Fine']\n",
    "violation_defs_and_fines.columns"
   ]
  },
  {
   "cell_type": "code",
   "execution_count": 72,
   "metadata": {
    "executionInfo": {
     "elapsed": 2595,
     "status": "ok",
     "timestamp": 1626643608333,
     "user": {
      "displayName": "Samantha Roberts",
      "photoUrl": "",
      "userId": "12336021266384650140"
     },
     "user_tz": 240
    },
    "id": "MNHl-NlJ3Dwa"
   },
   "outputs": [],
   "source": [
    "merged_df = pd.merge(df, violation_defs_and_fines, on='Violation Code', how='left')"
   ]
  },
  {
   "cell_type": "code",
   "execution_count": 73,
   "metadata": {
    "colab": {
     "base_uri": "https://localhost:8080/",
     "height": 306
    },
    "executionInfo": {
     "elapsed": 1870,
     "status": "ok",
     "timestamp": 1626643610200,
     "user": {
      "displayName": "Samantha Roberts",
      "photoUrl": "",
      "userId": "12336021266384650140"
     },
     "user_tz": 240
    },
    "id": "tvKgfP7vD_XK",
    "outputId": "cfccb4b7-454b-4b1a-f34d-b3fca5bb8557"
   },
   "outputs": [
    {
     "data": {
      "text/html": [
       "<div>\n",
       "<style scoped>\n",
       "    .dataframe tbody tr th:only-of-type {\n",
       "        vertical-align: middle;\n",
       "    }\n",
       "\n",
       "    .dataframe tbody tr th {\n",
       "        vertical-align: top;\n",
       "    }\n",
       "\n",
       "    .dataframe thead th {\n",
       "        text-align: right;\n",
       "    }\n",
       "</style>\n",
       "<table border=\"1\" class=\"dataframe\">\n",
       "  <thead>\n",
       "    <tr style=\"text-align: right;\">\n",
       "      <th></th>\n",
       "      <th>Registration State</th>\n",
       "      <th>Plate Type</th>\n",
       "      <th>Violation Location</th>\n",
       "      <th>Issuer Precinct</th>\n",
       "      <th>Issuer Code</th>\n",
       "      <th>Violation Code</th>\n",
       "      <th>Meter Number</th>\n",
       "      <th>Violation County</th>\n",
       "      <th>Issuer Squad</th>\n",
       "      <th>Issuing Agency</th>\n",
       "      <th>Issue Date and Time</th>\n",
       "      <th>Violation Description</th>\n",
       "      <th>Fine (below 96th)</th>\n",
       "      <th>Fine</th>\n",
       "    </tr>\n",
       "  </thead>\n",
       "  <tbody>\n",
       "    <tr>\n",
       "      <th>9499950</th>\n",
       "      <td>NY</td>\n",
       "      <td>SRF</td>\n",
       "      <td>NaN</td>\n",
       "      <td>0</td>\n",
       "      <td>0</td>\n",
       "      <td>7</td>\n",
       "      <td>NaN</td>\n",
       "      <td>Queens</td>\n",
       "      <td>NaN</td>\n",
       "      <td>V</td>\n",
       "      <td>2017-04-03 07:11:00</td>\n",
       "      <td>FAILURE TO STOP AT RED LIGHT</td>\n",
       "      <td>50.0</td>\n",
       "      <td>50.0</td>\n",
       "    </tr>\n",
       "    <tr>\n",
       "      <th>1756446</th>\n",
       "      <td>NY</td>\n",
       "      <td>PAS</td>\n",
       "      <td>NaN</td>\n",
       "      <td>0</td>\n",
       "      <td>0</td>\n",
       "      <td>36</td>\n",
       "      <td>NaN</td>\n",
       "      <td>Bronx</td>\n",
       "      <td>NaN</td>\n",
       "      <td>V</td>\n",
       "      <td>2016-12-20 14:59:00</td>\n",
       "      <td>PHTO SCHOOL ZN SPEED VIOLATION</td>\n",
       "      <td>50.0</td>\n",
       "      <td>50.0</td>\n",
       "    </tr>\n",
       "    <tr>\n",
       "      <th>511724</th>\n",
       "      <td>PA</td>\n",
       "      <td>PAS</td>\n",
       "      <td>61.0</td>\n",
       "      <td>61</td>\n",
       "      <td>361096</td>\n",
       "      <td>37</td>\n",
       "      <td>334-3038</td>\n",
       "      <td>Brooklyn</td>\n",
       "      <td>B</td>\n",
       "      <td>T</td>\n",
       "      <td>2016-09-07 11:43:00</td>\n",
       "      <td>EXPIRED MUNI METER</td>\n",
       "      <td>65.0</td>\n",
       "      <td>35.0</td>\n",
       "    </tr>\n",
       "    <tr>\n",
       "      <th>9670329</th>\n",
       "      <td>VA</td>\n",
       "      <td>PAS</td>\n",
       "      <td>30.0</td>\n",
       "      <td>30</td>\n",
       "      <td>361889</td>\n",
       "      <td>40</td>\n",
       "      <td>NaN</td>\n",
       "      <td>Manhattan</td>\n",
       "      <td>AA</td>\n",
       "      <td>T</td>\n",
       "      <td>2017-02-21 06:06:00</td>\n",
       "      <td>FIRE HYDRANT</td>\n",
       "      <td>115.0</td>\n",
       "      <td>115.0</td>\n",
       "    </tr>\n",
       "    <tr>\n",
       "      <th>631955</th>\n",
       "      <td>NY</td>\n",
       "      <td>PAS</td>\n",
       "      <td>NaN</td>\n",
       "      <td>0</td>\n",
       "      <td>0</td>\n",
       "      <td>7</td>\n",
       "      <td>NaN</td>\n",
       "      <td>Bronx</td>\n",
       "      <td>NaN</td>\n",
       "      <td>V</td>\n",
       "      <td>2017-05-13 15:26:00</td>\n",
       "      <td>FAILURE TO STOP AT RED LIGHT</td>\n",
       "      <td>50.0</td>\n",
       "      <td>50.0</td>\n",
       "    </tr>\n",
       "  </tbody>\n",
       "</table>\n",
       "</div>"
      ],
      "text/plain": [
       "        Registration State Plate Type  ...  Fine (below 96th)   Fine\n",
       "9499950                 NY        SRF  ...               50.0   50.0\n",
       "1756446                 NY        PAS  ...               50.0   50.0\n",
       "511724                  PA        PAS  ...               65.0   35.0\n",
       "9670329                 VA        PAS  ...              115.0  115.0\n",
       "631955                  NY        PAS  ...               50.0   50.0\n",
       "\n",
       "[5 rows x 14 columns]"
      ]
     },
     "execution_count": 73,
     "metadata": {
      "tags": []
     },
     "output_type": "execute_result"
    }
   ],
   "source": [
    "merged_df.sample(5)"
   ]
  },
  {
   "cell_type": "code",
   "execution_count": 74,
   "metadata": {
    "colab": {
     "base_uri": "https://localhost:8080/"
    },
    "executionInfo": {
     "elapsed": 5,
     "status": "ok",
     "timestamp": 1626643610201,
     "user": {
      "displayName": "Samantha Roberts",
      "photoUrl": "",
      "userId": "12336021266384650140"
     },
     "user_tz": 240
    },
    "id": "mkddr-Bf0aSb",
    "outputId": "030bd51b-e607-498b-c052-681c0a79b99e"
   },
   "outputs": [
    {
     "data": {
      "text/plain": [
       "742255665.0"
      ]
     },
     "execution_count": 74,
     "metadata": {
      "tags": []
     },
     "output_type": "execute_result"
    }
   ],
   "source": [
    "merged_df.Fine.sum()"
   ]
  },
  {
   "cell_type": "markdown",
   "metadata": {
    "id": "NBWAEt9r0a9y"
   },
   "source": [
    "## The total fines ticketed amount to $742 million dollars across all 5 boroughs!"
   ]
  },
  {
   "cell_type": "markdown",
   "metadata": {
    "id": "4LB6aa8w1Cc9"
   },
   "source": [
    "\n",
    "\n",
    "---\n",
    "\n",
    "\n",
    "\n"
   ]
  },
  {
   "cell_type": "markdown",
   "metadata": {
    "id": "5h-Bv5doyyDk"
   },
   "source": [
    "# Q7 What is the breakdown of fines across boroughs and precincts?\n",
    "- first we get a DF with the borough, precinct, violation description, and the fine\n",
    "- create a pie chart with dollars and percentages\n",
    "- create a treemap with city/boroughs/precincts"
   ]
  },
  {
   "cell_type": "code",
   "execution_count": 75,
   "metadata": {
    "executionInfo": {
     "elapsed": 251,
     "status": "ok",
     "timestamp": 1626643610448,
     "user": {
      "displayName": "Samantha Roberts",
      "photoUrl": "",
      "userId": "12336021266384650140"
     },
     "user_tz": 240
    },
    "id": "lJtH4HMR2W52"
   },
   "outputs": [],
   "source": [
    "fine_df = merged_df[['Violation Location', 'Violation County', 'Violation Description', 'Fine']].copy()"
   ]
  },
  {
   "cell_type": "code",
   "execution_count": 76,
   "metadata": {
    "colab": {
     "base_uri": "https://localhost:8080/",
     "height": 419
    },
    "executionInfo": {
     "elapsed": 6,
     "status": "ok",
     "timestamp": 1626643610449,
     "user": {
      "displayName": "Samantha Roberts",
      "photoUrl": "",
      "userId": "12336021266384650140"
     },
     "user_tz": 240
    },
    "id": "eGW5eF4Y2Y-q",
    "outputId": "5f7d9c54-6372-4f06-bdf2-98d156d3a820"
   },
   "outputs": [
    {
     "data": {
      "text/html": [
       "<div>\n",
       "<style scoped>\n",
       "    .dataframe tbody tr th:only-of-type {\n",
       "        vertical-align: middle;\n",
       "    }\n",
       "\n",
       "    .dataframe tbody tr th {\n",
       "        vertical-align: top;\n",
       "    }\n",
       "\n",
       "    .dataframe thead th {\n",
       "        text-align: right;\n",
       "    }\n",
       "</style>\n",
       "<table border=\"1\" class=\"dataframe\">\n",
       "  <thead>\n",
       "    <tr style=\"text-align: right;\">\n",
       "      <th></th>\n",
       "      <th>Violation Location</th>\n",
       "      <th>Violation County</th>\n",
       "      <th>Violation Description</th>\n",
       "      <th>Fine</th>\n",
       "    </tr>\n",
       "  </thead>\n",
       "  <tbody>\n",
       "    <tr>\n",
       "      <th>0</th>\n",
       "      <td>NaN</td>\n",
       "      <td>Bronx</td>\n",
       "      <td>FAILURE TO STOP AT RED LIGHT</td>\n",
       "      <td>50.0</td>\n",
       "    </tr>\n",
       "    <tr>\n",
       "      <th>1</th>\n",
       "      <td>NaN</td>\n",
       "      <td>Bronx</td>\n",
       "      <td>FAILURE TO STOP AT RED LIGHT</td>\n",
       "      <td>50.0</td>\n",
       "    </tr>\n",
       "    <tr>\n",
       "      <th>2</th>\n",
       "      <td>NaN</td>\n",
       "      <td>Bronx</td>\n",
       "      <td>BUS LANE VIOLATION</td>\n",
       "      <td>50.0</td>\n",
       "    </tr>\n",
       "    <tr>\n",
       "      <th>3</th>\n",
       "      <td>14.0</td>\n",
       "      <td>Manhattan</td>\n",
       "      <td>DOUBLE PARKING-MIDTOWN COMML</td>\n",
       "      <td>115.0</td>\n",
       "    </tr>\n",
       "    <tr>\n",
       "      <th>4</th>\n",
       "      <td>13.0</td>\n",
       "      <td>Manhattan</td>\n",
       "      <td>FAIL TO DISP. MUNI METER RECPT</td>\n",
       "      <td>35.0</td>\n",
       "    </tr>\n",
       "    <tr>\n",
       "      <th>...</th>\n",
       "      <td>...</td>\n",
       "      <td>...</td>\n",
       "      <td>...</td>\n",
       "      <td>...</td>\n",
       "    </tr>\n",
       "    <tr>\n",
       "      <th>10803023</th>\n",
       "      <td>68.0</td>\n",
       "      <td>Brooklyn</td>\n",
       "      <td>NO PARKING-STREET CLEANING</td>\n",
       "      <td>45.0</td>\n",
       "    </tr>\n",
       "    <tr>\n",
       "      <th>10803024</th>\n",
       "      <td>71.0</td>\n",
       "      <td>Brooklyn</td>\n",
       "      <td>NO PARKING-DAY/TIME LIMITS</td>\n",
       "      <td>60.0</td>\n",
       "    </tr>\n",
       "    <tr>\n",
       "      <th>10803025</th>\n",
       "      <td>69.0</td>\n",
       "      <td>Brooklyn</td>\n",
       "      <td>DOUBLE PARKING</td>\n",
       "      <td>115.0</td>\n",
       "    </tr>\n",
       "    <tr>\n",
       "      <th>10803026</th>\n",
       "      <td>69.0</td>\n",
       "      <td>Brooklyn</td>\n",
       "      <td>FIRE HYDRANT</td>\n",
       "      <td>115.0</td>\n",
       "    </tr>\n",
       "    <tr>\n",
       "      <th>10803027</th>\n",
       "      <td>69.0</td>\n",
       "      <td>Brooklyn</td>\n",
       "      <td>NO PARKING-STREET CLEANING</td>\n",
       "      <td>45.0</td>\n",
       "    </tr>\n",
       "  </tbody>\n",
       "</table>\n",
       "<p>10803028 rows × 4 columns</p>\n",
       "</div>"
      ],
      "text/plain": [
       "          Violation Location  ...   Fine\n",
       "0                        NaN  ...   50.0\n",
       "1                        NaN  ...   50.0\n",
       "2                        NaN  ...   50.0\n",
       "3                       14.0  ...  115.0\n",
       "4                       13.0  ...   35.0\n",
       "...                      ...  ...    ...\n",
       "10803023                68.0  ...   45.0\n",
       "10803024                71.0  ...   60.0\n",
       "10803025                69.0  ...  115.0\n",
       "10803026                69.0  ...  115.0\n",
       "10803027                69.0  ...   45.0\n",
       "\n",
       "[10803028 rows x 4 columns]"
      ]
     },
     "execution_count": 76,
     "metadata": {
      "tags": []
     },
     "output_type": "execute_result"
    }
   ],
   "source": [
    "fine_df"
   ]
  },
  {
   "cell_type": "code",
   "execution_count": 77,
   "metadata": {
    "colab": {
     "base_uri": "https://localhost:8080/",
     "height": 235
    },
    "executionInfo": {
     "elapsed": 685,
     "status": "ok",
     "timestamp": 1626643611129,
     "user": {
      "displayName": "Samantha Roberts",
      "photoUrl": "",
      "userId": "12336021266384650140"
     },
     "user_tz": 240
    },
    "id": "T38tuIPV6Xqr",
    "outputId": "c6245c6a-a2c7-47a8-952a-292a0a0d155f"
   },
   "outputs": [
    {
     "data": {
      "text/html": [
       "<div>\n",
       "<style scoped>\n",
       "    .dataframe tbody tr th:only-of-type {\n",
       "        vertical-align: middle;\n",
       "    }\n",
       "\n",
       "    .dataframe tbody tr th {\n",
       "        vertical-align: top;\n",
       "    }\n",
       "\n",
       "    .dataframe thead th {\n",
       "        text-align: right;\n",
       "    }\n",
       "</style>\n",
       "<table border=\"1\" class=\"dataframe\">\n",
       "  <thead>\n",
       "    <tr style=\"text-align: right;\">\n",
       "      <th></th>\n",
       "      <th>Fine</th>\n",
       "    </tr>\n",
       "    <tr>\n",
       "      <th>Violation County</th>\n",
       "      <th></th>\n",
       "    </tr>\n",
       "  </thead>\n",
       "  <tbody>\n",
       "    <tr>\n",
       "      <th>Manhattan</th>\n",
       "      <td>284662405.0</td>\n",
       "    </tr>\n",
       "    <tr>\n",
       "      <th>Brooklyn</th>\n",
       "      <td>192412615.0</td>\n",
       "    </tr>\n",
       "    <tr>\n",
       "      <th>Queens</th>\n",
       "      <td>154344590.0</td>\n",
       "    </tr>\n",
       "    <tr>\n",
       "      <th>Bronx</th>\n",
       "      <td>91671815.0</td>\n",
       "    </tr>\n",
       "    <tr>\n",
       "      <th>Staten Island</th>\n",
       "      <td>15490080.0</td>\n",
       "    </tr>\n",
       "  </tbody>\n",
       "</table>\n",
       "</div>"
      ],
      "text/plain": [
       "                         Fine\n",
       "Violation County             \n",
       "Manhattan         284662405.0\n",
       "Brooklyn          192412615.0\n",
       "Queens            154344590.0\n",
       "Bronx              91671815.0\n",
       "Staten Island      15490080.0"
      ]
     },
     "execution_count": 77,
     "metadata": {
      "tags": []
     },
     "output_type": "execute_result"
    }
   ],
   "source": [
    "fine_totals = pd.DataFrame(fine_df.groupby('Violation County')['Fine'].sum().sort_values(ascending=False))\n",
    "fine_totals "
   ]
  },
  {
   "cell_type": "code",
   "execution_count": 78,
   "metadata": {
    "colab": {
     "base_uri": "https://localhost:8080/"
    },
    "executionInfo": {
     "elapsed": 16,
     "status": "ok",
     "timestamp": 1626643611131,
     "user": {
      "displayName": "Samantha Roberts",
      "photoUrl": "",
      "userId": "12336021266384650140"
     },
     "user_tz": 240
    },
    "id": "p14gdtkN6rdI",
    "outputId": "cd168f73-7027-4d75-f4e7-7f971cf35602"
   },
   "outputs": [
    {
     "data": {
      "text/plain": [
       "Fine    738581505.0\n",
       "dtype: float64"
      ]
     },
     "execution_count": 78,
     "metadata": {
      "tags": []
     },
     "output_type": "execute_result"
    }
   ],
   "source": [
    "fine_totals.sum()"
   ]
  },
  {
   "cell_type": "code",
   "execution_count": 79,
   "metadata": {
    "colab": {
     "base_uri": "https://localhost:8080/",
     "height": 592
    },
    "executionInfo": {
     "elapsed": 12,
     "status": "ok",
     "timestamp": 1626643611132,
     "user": {
      "displayName": "Samantha Roberts",
      "photoUrl": "",
      "userId": "12336021266384650140"
     },
     "user_tz": 240
    },
    "id": "96ooYKKV_y2D",
    "outputId": "f4e0c09e-6c44-4410-c3f0-297d32e53db7"
   },
   "outputs": [
    {
     "data": {
      "image/png": "[encoded data removed]",
      "text/plain": [
       "<Figure size 720x720 with 1 Axes>"
      ]
     },
     "metadata": {
      "tags": []
     },
     "output_type": "display_data"
    }
   ],
   "source": [
    "pie, ax = plt.subplots(figsize=[10,10])\n",
    "plt.pie(x=np.array(fine_totals.values).ravel(), autopct=\"%.1f%%\", explode=[0.05]*5, labels=fine_totals.index, pctdistance=0.5)\n",
    "plt.title(\"Delivery Tips by type\", fontsize=14);"
   ]
  },
  {
   "cell_type": "markdown",
   "metadata": {
    "id": "WwqbLVaD27LW"
   },
   "source": [
    "**We now need to drop all the NaN rows because px.treemap can not tolerate them**\n",
    "- Treemap will show the breakdown of fines for each precinct in each borough of NYC\n",
    "- This will take over 2 minutes to run with 24G of RAM"
   ]
  },
  {
   "cell_type": "code",
   "execution_count": 80,
   "metadata": {
    "colab": {
     "base_uri": "https://localhost:8080/",
     "height": 204
    },
    "executionInfo": {
     "elapsed": 8797,
     "status": "ok",
     "timestamp": 1626643619920,
     "user": {
      "displayName": "Samantha Roberts",
      "photoUrl": "",
      "userId": "12336021266384650140"
     },
     "user_tz": 240
    },
    "id": "_mMMuXAJ4hsi",
    "outputId": "55aac85d-ad03-4119-bb4a-7f6177964259"
   },
   "outputs": [
    {
     "data": {
      "text/html": [
       "<div>\n",
       "<style scoped>\n",
       "    .dataframe tbody tr th:only-of-type {\n",
       "        vertical-align: middle;\n",
       "    }\n",
       "\n",
       "    .dataframe tbody tr th {\n",
       "        vertical-align: top;\n",
       "    }\n",
       "\n",
       "    .dataframe thead th {\n",
       "        text-align: right;\n",
       "    }\n",
       "</style>\n",
       "<table border=\"1\" class=\"dataframe\">\n",
       "  <thead>\n",
       "    <tr style=\"text-align: right;\">\n",
       "      <th></th>\n",
       "      <th>Violation Location</th>\n",
       "      <th>Violation County</th>\n",
       "      <th>Violation Description</th>\n",
       "      <th>Fine</th>\n",
       "    </tr>\n",
       "  </thead>\n",
       "  <tbody>\n",
       "    <tr>\n",
       "      <th>4521034</th>\n",
       "      <td>44</td>\n",
       "      <td>Bronx</td>\n",
       "      <td>SIDEWALK</td>\n",
       "      <td>115.0</td>\n",
       "    </tr>\n",
       "    <tr>\n",
       "      <th>5925190</th>\n",
       "      <td>6</td>\n",
       "      <td>Manhattan</td>\n",
       "      <td>EXPIRED MUNI METER</td>\n",
       "      <td>35.0</td>\n",
       "    </tr>\n",
       "    <tr>\n",
       "      <th>7959400</th>\n",
       "      <td>70</td>\n",
       "      <td>Brooklyn</td>\n",
       "      <td>FAIL TO DSPLY MUNI METER RECPT</td>\n",
       "      <td>35.0</td>\n",
       "    </tr>\n",
       "    <tr>\n",
       "      <th>1444146</th>\n",
       "      <td>19</td>\n",
       "      <td>Manhattan</td>\n",
       "      <td>FAIL TO DSPLY MUNI METER RECPT</td>\n",
       "      <td>35.0</td>\n",
       "    </tr>\n",
       "    <tr>\n",
       "      <th>6229846</th>\n",
       "      <td>60</td>\n",
       "      <td>Brooklyn</td>\n",
       "      <td>NO PARKING-STREET CLEANING</td>\n",
       "      <td>45.0</td>\n",
       "    </tr>\n",
       "  </tbody>\n",
       "</table>\n",
       "</div>"
      ],
      "text/plain": [
       "        Violation Location  ...   Fine\n",
       "4521034                 44  ...  115.0\n",
       "5925190                  6  ...   35.0\n",
       "7959400                 70  ...   35.0\n",
       "1444146                 19  ...   35.0\n",
       "6229846                 60  ...   45.0\n",
       "\n",
       "[5 rows x 4 columns]"
      ]
     },
     "execution_count": 80,
     "metadata": {
      "tags": []
     },
     "output_type": "execute_result"
    }
   ],
   "source": [
    "#we need to drop the NaN rows here because px.treemap can not tolerate them\n",
    "fine_precinct_df = fine_df.dropna(subset=['Violation Location', 'Violation County']).copy() \n",
    "#need to make this a string so the values can be compared witht the valied precincts \n",
    "fine_precinct_df['Violation Location'] = fine_precinct_df['Violation Location'].astype('int').astype('str')\n",
    "# we select out only the valid precinct numbers \n",
    "fine_precinct_df = fine_precinct_df[fine_precinct_df['Violation Location'].isin(feature_id_list)] \n",
    "fine_precinct_df.sample(5)"
   ]
  },
  {
   "cell_type": "code",
   "execution_count": 81,
   "metadata": {
    "colab": {
     "base_uri": "https://localhost:8080/",
     "height": 576
    },
    "executionInfo": {
     "elapsed": 126538,
     "status": "ok",
     "timestamp": 1626643746455,
     "user": {
      "displayName": "Samantha Roberts",
      "photoUrl": "",
      "userId": "12336021266384650140"
     },
     "user_tz": 240
    },
    "id": "oVm4sgNevEIX",
    "outputId": "f46de5d4-32c5-4d42-874b-262a5f484fd1"
   },
   "outputs": [
    {
     "data": {
      "text/html": [
       "<html>\n",
       "<head><meta charset=\"utf-8\" /></head>\n",
       "<body>\n",
       "    <div>            <script src=\"https://cdnjs.cloudflare.com/ajax/libs/mathjax/2.7.5/MathJax.js?config=TeX-AMS-MML_SVG\"></script><script type=\"text/javascript\">if (window.MathJax) {MathJax.Hub.Config({SVG: {font: \"STIX-Web\"}});}</script>                <script type=\"text/javascript\">window.PlotlyConfig = {MathJaxConfig: 'local'};</script>\n",
       "        <script src=\"https://cdn.plot.ly/plotly-2.2.0.min.js\"></script>                <div id=\"f2c66438-ac42-49be-892e-379b19c87b8a\" class=\"plotly-graph-div\" style=\"height:525px; width:100%;\"></div>            <script type=\"text/javascript\">                                    window.PLOTLYENV=window.PLOTLYENV || {};                                    if (document.getElementById(\"f2c66438-ac42-49be-892e-379b19c87b8a\")) {                    Plotly.newPlot(                        \"f2c66438-ac42-49be-892e-379b19c87b8a\",                        [{\"branchvalues\":\"total\",\"domain\":{\"x\":[0.0,1.0],\"y\":[0.0,1.0]},\"hovertemplate\":\"labels=%{label}<br>Fine=%{value}<br>parent=%{parent}<br>id=%{id}<extra></extra>\",\"ids\":[\"NYC/Bronx/1\",\"NYC/Brooklyn/1\",\"NYC/Manhattan/1\",\"NYC/Queens/1\",\"NYC/Staten Island/1\",\"NYC/Bronx/10\",\"NYC/Brooklyn/10\",\"NYC/Manhattan/10\",\"NYC/Queens/10\",\"NYC/Staten Island/10\",\"NYC/Bronx/100\",\"NYC/Brooklyn/100\",\"NYC/Manhattan/100\",\"NYC/Queens/100\",\"NYC/Staten Island/100\",\"NYC/Bronx/101\",\"NYC/Brooklyn/101\",\"NYC/Manhattan/101\",\"NYC/Queens/101\",\"NYC/Staten Island/101\",\"NYC/Bronx/102\",\"NYC/Brooklyn/102\",\"NYC/Manhattan/102\",\"NYC/Queens/102\",\"NYC/Staten Island/102\",\"NYC/Bronx/103\",\"NYC/Brooklyn/103\",\"NYC/Manhattan/103\",\"NYC/Queens/103\",\"NYC/Staten Island/103\",\"NYC/Bronx/104\",\"NYC/Brooklyn/104\",\"NYC/Manhattan/104\",\"NYC/Queens/104\",\"NYC/Staten Island/104\",\"NYC/Bronx/105\",\"NYC/Brooklyn/105\",\"NYC/Manhattan/105\",\"NYC/Queens/105\",\"NYC/Staten Island/105\",\"NYC/Bronx/106\",\"NYC/Brooklyn/106\",\"NYC/Manhattan/106\",\"NYC/Queens/106\",\"NYC/Staten Island/106\",\"NYC/Bronx/107\",\"NYC/Brooklyn/107\",\"NYC/Manhattan/107\",\"NYC/Queens/107\",\"NYC/Staten Island/107\",\"NYC/Bronx/108\",\"NYC/Brooklyn/108\",\"NYC/Manhattan/108\",\"NYC/Queens/108\",\"NYC/Staten Island/108\",\"NYC/Bronx/109\",\"NYC/Brooklyn/109\",\"NYC/Manhattan/109\",\"NYC/Queens/109\",\"NYC/Staten Island/109\",\"NYC/Bronx/110\",\"NYC/Brooklyn/110\",\"NYC/Manhattan/110\",\"NYC/Queens/110\",\"NYC/Staten Island/110\",\"NYC/Bronx/111\",\"NYC/Brooklyn/111\",\"NYC/Manhattan/111\",\"NYC/Queens/111\",\"NYC/Staten Island/111\",\"NYC/Bronx/112\",\"NYC/Brooklyn/112\",\"NYC/Manhattan/112\",\"NYC/Queens/112\",\"NYC/Staten Island/112\",\"NYC/Bronx/113\",\"NYC/Brooklyn/113\",\"NYC/Manhattan/113\",\"NYC/Queens/113\",\"NYC/Staten Island/113\",\"NYC/Bronx/114\",\"NYC/Brooklyn/114\",\"NYC/Manhattan/114\",\"NYC/Queens/114\",\"NYC/Staten Island/114\",\"NYC/Bronx/115\",\"NYC/Brooklyn/115\",\"NYC/Manhattan/115\",\"NYC/Queens/115\",\"NYC/Staten Island/115\",\"NYC/Bronx/120\",\"NYC/Brooklyn/120\",\"NYC/Manhattan/120\",\"NYC/Queens/120\",\"NYC/Staten Island/120\",\"NYC/Bronx/121\",\"NYC/Brooklyn/121\",\"NYC/Manhattan/121\",\"NYC/Queens/121\",\"NYC/Staten Island/121\",\"NYC/Bronx/122\",\"NYC/Brooklyn/122\",\"NYC/Manhattan/122\",\"NYC/Queens/122\",\"NYC/Staten Island/122\",\"NYC/Bronx/123\",\"NYC/Brooklyn/123\",\"NYC/Manhattan/123\",\"NYC/Queens/123\",\"NYC/Staten Island/123\",\"NYC/Bronx/13\",\"NYC/Brooklyn/13\",\"NYC/Manhattan/13\",\"NYC/Queens/13\",\"NYC/Staten Island/13\",\"NYC/Bronx/14\",\"NYC/Brooklyn/14\",\"NYC/Manhattan/14\",\"NYC/Queens/14\",\"NYC/Staten Island/14\",\"NYC/Bronx/17\",\"NYC/Brooklyn/17\",\"NYC/Manhattan/17\",\"NYC/Queens/17\",\"NYC/Staten Island/17\",\"NYC/Bronx/18\",\"NYC/Brooklyn/18\",\"NYC/Manhattan/18\",\"NYC/Queens/18\",\"NYC/Staten Island/18\",\"NYC/Bronx/19\",\"NYC/Brooklyn/19\",\"NYC/Manhattan/19\",\"NYC/Queens/19\",\"NYC/Staten Island/19\",\"NYC/Bronx/20\",\"NYC/Brooklyn/20\",\"NYC/Manhattan/20\",\"NYC/Queens/20\",\"NYC/Staten Island/20\",\"NYC/Bronx/22\",\"NYC/Brooklyn/22\",\"NYC/Manhattan/22\",\"NYC/Queens/22\",\"NYC/Staten Island/22\",\"NYC/Bronx/23\",\"NYC/Brooklyn/23\",\"NYC/Manhattan/23\",\"NYC/Queens/23\",\"NYC/Staten Island/23\",\"NYC/Bronx/24\",\"NYC/Brooklyn/24\",\"NYC/Manhattan/24\",\"NYC/Queens/24\",\"NYC/Staten Island/24\",\"NYC/Bronx/25\",\"NYC/Brooklyn/25\",\"NYC/Manhattan/25\",\"NYC/Queens/25\",\"NYC/Staten Island/25\",\"NYC/Bronx/26\",\"NYC/Brooklyn/26\",\"NYC/Manhattan/26\",\"NYC/Queens/26\",\"NYC/Staten Island/26\",\"NYC/Bronx/28\",\"NYC/Brooklyn/28\",\"NYC/Manhattan/28\",\"NYC/Queens/28\",\"NYC/Staten Island/28\",\"NYC/Bronx/30\",\"NYC/Brooklyn/30\",\"NYC/Manhattan/30\",\"NYC/Queens/30\",\"NYC/Staten Island/30\",\"NYC/Bronx/32\",\"NYC/Brooklyn/32\",\"NYC/Manhattan/32\",\"NYC/Queens/32\",\"NYC/Staten Island/32\",\"NYC/Bronx/33\",\"NYC/Brooklyn/33\",\"NYC/Manhattan/33\",\"NYC/Queens/33\",\"NYC/Staten Island/33\",\"NYC/Bronx/34\",\"NYC/Brooklyn/34\",\"NYC/Manhattan/34\",\"NYC/Queens/34\",\"NYC/Staten Island/34\",\"NYC/Bronx/40\",\"NYC/Brooklyn/40\",\"NYC/Manhattan/40\",\"NYC/Queens/40\",\"NYC/Staten Island/40\",\"NYC/Bronx/41\",\"NYC/Brooklyn/41\",\"NYC/Manhattan/41\",\"NYC/Queens/41\",\"NYC/Staten Island/41\",\"NYC/Bronx/42\",\"NYC/Brooklyn/42\",\"NYC/Manhattan/42\",\"NYC/Queens/42\",\"NYC/Staten Island/42\",\"NYC/Bronx/43\",\"NYC/Brooklyn/43\",\"NYC/Manhattan/43\",\"NYC/Queens/43\",\"NYC/Staten Island/43\",\"NYC/Bronx/44\",\"NYC/Brooklyn/44\",\"NYC/Manhattan/44\",\"NYC/Queens/44\",\"NYC/Staten Island/44\",\"NYC/Bronx/45\",\"NYC/Brooklyn/45\",\"NYC/Manhattan/45\",\"NYC/Queens/45\",\"NYC/Staten Island/45\",\"NYC/Bronx/46\",\"NYC/Brooklyn/46\",\"NYC/Manhattan/46\",\"NYC/Queens/46\",\"NYC/Staten Island/46\",\"NYC/Bronx/47\",\"NYC/Brooklyn/47\",\"NYC/Manhattan/47\",\"NYC/Queens/47\",\"NYC/Staten Island/47\",\"NYC/Bronx/48\",\"NYC/Brooklyn/48\",\"NYC/Manhattan/48\",\"NYC/Queens/48\",\"NYC/Staten Island/48\",\"NYC/Bronx/49\",\"NYC/Brooklyn/49\",\"NYC/Manhattan/49\",\"NYC/Queens/49\",\"NYC/Staten Island/49\",\"NYC/Bronx/5\",\"NYC/Brooklyn/5\",\"NYC/Manhattan/5\",\"NYC/Queens/5\",\"NYC/Staten Island/5\",\"NYC/Bronx/50\",\"NYC/Brooklyn/50\",\"NYC/Manhattan/50\",\"NYC/Queens/50\",\"NYC/Staten Island/50\",\"NYC/Bronx/52\",\"NYC/Brooklyn/52\",\"NYC/Manhattan/52\",\"NYC/Queens/52\",\"NYC/Staten Island/52\",\"NYC/Bronx/6\",\"NYC/Brooklyn/6\",\"NYC/Manhattan/6\",\"NYC/Queens/6\",\"NYC/Staten Island/6\",\"NYC/Bronx/60\",\"NYC/Brooklyn/60\",\"NYC/Manhattan/60\",\"NYC/Queens/60\",\"NYC/Staten Island/60\",\"NYC/Bronx/61\",\"NYC/Brooklyn/61\",\"NYC/Manhattan/61\",\"NYC/Queens/61\",\"NYC/Staten Island/61\",\"NYC/Bronx/62\",\"NYC/Brooklyn/62\",\"NYC/Manhattan/62\",\"NYC/Queens/62\",\"NYC/Staten Island/62\",\"NYC/Bronx/63\",\"NYC/Brooklyn/63\",\"NYC/Manhattan/63\",\"NYC/Queens/63\",\"NYC/Staten Island/63\",\"NYC/Bronx/66\",\"NYC/Brooklyn/66\",\"NYC/Manhattan/66\",\"NYC/Queens/66\",\"NYC/Staten Island/66\",\"NYC/Bronx/67\",\"NYC/Brooklyn/67\",\"NYC/Manhattan/67\",\"NYC/Queens/67\",\"NYC/Staten Island/67\",\"NYC/Bronx/68\",\"NYC/Brooklyn/68\",\"NYC/Manhattan/68\",\"NYC/Queens/68\",\"NYC/Staten Island/68\",\"NYC/Bronx/69\",\"NYC/Brooklyn/69\",\"NYC/Manhattan/69\",\"NYC/Queens/69\",\"NYC/Staten Island/69\",\"NYC/Bronx/7\",\"NYC/Brooklyn/7\",\"NYC/Manhattan/7\",\"NYC/Queens/7\",\"NYC/Staten Island/7\",\"NYC/Bronx/70\",\"NYC/Brooklyn/70\",\"NYC/Manhattan/70\",\"NYC/Queens/70\",\"NYC/Staten Island/70\",\"NYC/Bronx/71\",\"NYC/Brooklyn/71\",\"NYC/Manhattan/71\",\"NYC/Queens/71\",\"NYC/Staten Island/71\",\"NYC/Bronx/72\",\"NYC/Brooklyn/72\",\"NYC/Manhattan/72\",\"NYC/Queens/72\",\"NYC/Staten Island/72\",\"NYC/Bronx/73\",\"NYC/Brooklyn/73\",\"NYC/Manhattan/73\",\"NYC/Queens/73\",\"NYC/Staten Island/73\",\"NYC/Bronx/75\",\"NYC/Brooklyn/75\",\"NYC/Manhattan/75\",\"NYC/Queens/75\",\"NYC/Staten Island/75\",\"NYC/Bronx/76\",\"NYC/Brooklyn/76\",\"NYC/Manhattan/76\",\"NYC/Queens/76\",\"NYC/Staten Island/76\",\"NYC/Bronx/77\",\"NYC/Brooklyn/77\",\"NYC/Manhattan/77\",\"NYC/Queens/77\",\"NYC/Staten Island/77\",\"NYC/Bronx/78\",\"NYC/Brooklyn/78\",\"NYC/Manhattan/78\",\"NYC/Queens/78\",\"NYC/Staten Island/78\",\"NYC/Bronx/79\",\"NYC/Brooklyn/79\",\"NYC/Manhattan/79\",\"NYC/Queens/79\",\"NYC/Staten Island/79\",\"NYC/Bronx/81\",\"NYC/Brooklyn/81\",\"NYC/Manhattan/81\",\"NYC/Queens/81\",\"NYC/Staten Island/81\",\"NYC/Bronx/83\",\"NYC/Brooklyn/83\",\"NYC/Manhattan/83\",\"NYC/Queens/83\",\"NYC/Staten Island/83\",\"NYC/Bronx/84\",\"NYC/Brooklyn/84\",\"NYC/Manhattan/84\",\"NYC/Queens/84\",\"NYC/Staten Island/84\",\"NYC/Bronx/88\",\"NYC/Brooklyn/88\",\"NYC/Manhattan/88\",\"NYC/Queens/88\",\"NYC/Staten Island/88\",\"NYC/Bronx/9\",\"NYC/Brooklyn/9\",\"NYC/Manhattan/9\",\"NYC/Queens/9\",\"NYC/Staten Island/9\",\"NYC/Bronx/90\",\"NYC/Brooklyn/90\",\"NYC/Manhattan/90\",\"NYC/Queens/90\",\"NYC/Staten Island/90\",\"NYC/Bronx/94\",\"NYC/Brooklyn/94\",\"NYC/Manhattan/94\",\"NYC/Queens/94\",\"NYC/Staten Island/94\",\"NYC/Bronx\",\"NYC/Brooklyn\",\"NYC/Manhattan\",\"NYC/Queens\",\"NYC/Staten Island\",\"NYC\"],\"labels\":[\"1\",\"1\",\"1\",\"1\",\"1\",\"10\",\"10\",\"10\",\"10\",\"10\",\"100\",\"100\",\"100\",\"100\",\"100\",\"101\",\"101\",\"101\",\"101\",\"101\",\"102\",\"102\",\"102\",\"102\",\"102\",\"103\",\"103\",\"103\",\"103\",\"103\",\"104\",\"104\",\"104\",\"104\",\"104\",\"105\",\"105\",\"105\",\"105\",\"105\",\"106\",\"106\",\"106\",\"106\",\"106\",\"107\",\"107\",\"107\",\"107\",\"107\",\"108\",\"108\",\"108\",\"108\",\"108\",\"109\",\"109\",\"109\",\"109\",\"109\",\"110\",\"110\",\"110\",\"110\",\"110\",\"111\",\"111\",\"111\",\"111\",\"111\",\"112\",\"112\",\"112\",\"112\",\"112\",\"113\",\"113\",\"113\",\"113\",\"113\",\"114\",\"114\",\"114\",\"114\",\"114\",\"115\",\"115\",\"115\",\"115\",\"115\",\"120\",\"120\",\"120\",\"120\",\"120\",\"121\",\"121\",\"121\",\"121\",\"121\",\"122\",\"122\",\"122\",\"122\",\"122\",\"123\",\"123\",\"123\",\"123\",\"123\",\"13\",\"13\",\"13\",\"13\",\"13\",\"14\",\"14\",\"14\",\"14\",\"14\",\"17\",\"17\",\"17\",\"17\",\"17\",\"18\",\"18\",\"18\",\"18\",\"18\",\"19\",\"19\",\"19\",\"19\",\"19\",\"20\",\"20\",\"20\",\"20\",\"20\",\"22\",\"22\",\"22\",\"22\",\"22\",\"23\",\"23\",\"23\",\"23\",\"23\",\"24\",\"24\",\"24\",\"24\",\"24\",\"25\",\"25\",\"25\",\"25\",\"25\",\"26\",\"26\",\"26\",\"26\",\"26\",\"28\",\"28\",\"28\",\"28\",\"28\",\"30\",\"30\",\"30\",\"30\",\"30\",\"32\",\"32\",\"32\",\"32\",\"32\",\"33\",\"33\",\"33\",\"33\",\"33\",\"34\",\"34\",\"34\",\"34\",\"34\",\"40\",\"40\",\"40\",\"40\",\"40\",\"41\",\"41\",\"41\",\"41\",\"41\",\"42\",\"42\",\"42\",\"42\",\"42\",\"43\",\"43\",\"43\",\"43\",\"43\",\"44\",\"44\",\"44\",\"44\",\"44\",\"45\",\"45\",\"45\",\"45\",\"45\",\"46\",\"46\",\"46\",\"46\",\"46\",\"47\",\"47\",\"47\",\"47\",\"47\",\"48\",\"48\",\"48\",\"48\",\"48\",\"49\",\"49\",\"49\",\"49\",\"49\",\"5\",\"5\",\"5\",\"5\",\"5\",\"50\",\"50\",\"50\",\"50\",\"50\",\"52\",\"52\",\"52\",\"52\",\"52\",\"6\",\"6\",\"6\",\"6\",\"6\",\"60\",\"60\",\"60\",\"60\",\"60\",\"61\",\"61\",\"61\",\"61\",\"61\",\"62\",\"62\",\"62\",\"62\",\"62\",\"63\",\"63\",\"63\",\"63\",\"63\",\"66\",\"66\",\"66\",\"66\",\"66\",\"67\",\"67\",\"67\",\"67\",\"67\",\"68\",\"68\",\"68\",\"68\",\"68\",\"69\",\"69\",\"69\",\"69\",\"69\",\"7\",\"7\",\"7\",\"7\",\"7\",\"70\",\"70\",\"70\",\"70\",\"70\",\"71\",\"71\",\"71\",\"71\",\"71\",\"72\",\"72\",\"72\",\"72\",\"72\",\"73\",\"73\",\"73\",\"73\",\"73\",\"75\",\"75\",\"75\",\"75\",\"75\",\"76\",\"76\",\"76\",\"76\",\"76\",\"77\",\"77\",\"77\",\"77\",\"77\",\"78\",\"78\",\"78\",\"78\",\"78\",\"79\",\"79\",\"79\",\"79\",\"79\",\"81\",\"81\",\"81\",\"81\",\"81\",\"83\",\"83\",\"83\",\"83\",\"83\",\"84\",\"84\",\"84\",\"84\",\"84\",\"88\",\"88\",\"88\",\"88\",\"88\",\"9\",\"9\",\"9\",\"9\",\"9\",\"90\",\"90\",\"90\",\"90\",\"90\",\"94\",\"94\",\"94\",\"94\",\"94\",\"Bronx\",\"Brooklyn\",\"Manhattan\",\"Queens\",\"Staten Island\",\"NYC\"],\"name\":\"\",\"parents\":[\"NYC/Bronx\",\"NYC/Brooklyn\",\"NYC/Manhattan\",\"NYC/Queens\",\"NYC/Staten Island\",\"NYC/Bronx\",\"NYC/Brooklyn\",\"NYC/Manhattan\",\"NYC/Queens\",\"NYC/Staten Island\",\"NYC/Bronx\",\"NYC/Brooklyn\",\"NYC/Manhattan\",\"NYC/Queens\",\"NYC/Staten Island\",\"NYC/Bronx\",\"NYC/Brooklyn\",\"NYC/Manhattan\",\"NYC/Queens\",\"NYC/Staten Island\",\"NYC/Bronx\",\"NYC/Brooklyn\",\"NYC/Manhattan\",\"NYC/Queens\",\"NYC/Staten Island\",\"NYC/Bronx\",\"NYC/Brooklyn\",\"NYC/Manhattan\",\"NYC/Queens\",\"NYC/Staten Island\",\"NYC/Bronx\",\"NYC/Brooklyn\",\"NYC/Manhattan\",\"NYC/Queens\",\"NYC/Staten Island\",\"NYC/Bronx\",\"NYC/Brooklyn\",\"NYC/Manhattan\",\"NYC/Queens\",\"NYC/Staten Island\",\"NYC/Bronx\",\"NYC/Brooklyn\",\"NYC/Manhattan\",\"NYC/Queens\",\"NYC/Staten Island\",\"NYC/Bronx\",\"NYC/Brooklyn\",\"NYC/Manhattan\",\"NYC/Queens\",\"NYC/Staten Island\",\"NYC/Bronx\",\"NYC/Brooklyn\",\"NYC/Manhattan\",\"NYC/Queens\",\"NYC/Staten Island\",\"NYC/Bronx\",\"NYC/Brooklyn\",\"NYC/Manhattan\",\"NYC/Queens\",\"NYC/Staten Island\",\"NYC/Bronx\",\"NYC/Brooklyn\",\"NYC/Manhattan\",\"NYC/Queens\",\"NYC/Staten Island\",\"NYC/Bronx\",\"NYC/Brooklyn\",\"NYC/Manhattan\",\"NYC/Queens\",\"NYC/Staten Island\",\"NYC/Bronx\",\"NYC/Brooklyn\",\"NYC/Manhattan\",\"NYC/Queens\",\"NYC/Staten Island\",\"NYC/Bronx\",\"NYC/Brooklyn\",\"NYC/Manhattan\",\"NYC/Queens\",\"NYC/Staten Island\",\"NYC/Bronx\",\"NYC/Brooklyn\",\"NYC/Manhattan\",\"NYC/Queens\",\"NYC/Staten Island\",\"NYC/Bronx\",\"NYC/Brooklyn\",\"NYC/Manhattan\",\"NYC/Queens\",\"NYC/Staten Island\",\"NYC/Bronx\",\"NYC/Brooklyn\",\"NYC/Manhattan\",\"NYC/Queens\",\"NYC/Staten Island\",\"NYC/Bronx\",\"NYC/Brooklyn\",\"NYC/Manhattan\",\"NYC/Queens\",\"NYC/Staten Island\",\"NYC/Bronx\",\"NYC/Brooklyn\",\"NYC/Manhattan\",\"NYC/Queens\",\"NYC/Staten Island\",\"NYC/Bronx\",\"NYC/Brooklyn\",\"NYC/Manhattan\",\"NYC/Queens\",\"NYC/Staten Island\",\"NYC/Bronx\",\"NYC/Brooklyn\",\"NYC/Manhattan\",\"NYC/Queens\",\"NYC/Staten Island\",\"NYC/Bronx\",\"NYC/Brooklyn\",\"NYC/Manhattan\",\"NYC/Queens\",\"NYC/Staten Island\",\"NYC/Bronx\",\"NYC/Brooklyn\",\"NYC/Manhattan\",\"NYC/Queens\",\"NYC/Staten Island\",\"NYC/Bronx\",\"NYC/Brooklyn\",\"NYC/Manhattan\",\"NYC/Queens\",\"NYC/Staten Island\",\"NYC/Bronx\",\"NYC/Brooklyn\",\"NYC/Manhattan\",\"NYC/Queens\",\"NYC/Staten Island\",\"NYC/Bronx\",\"NYC/Brooklyn\",\"NYC/Manhattan\",\"NYC/Queens\",\"NYC/Staten Island\",\"NYC/Bronx\",\"NYC/Brooklyn\",\"NYC/Manhattan\",\"NYC/Queens\",\"NYC/Staten Island\",\"NYC/Bronx\",\"NYC/Brooklyn\",\"NYC/Manhattan\",\"NYC/Queens\",\"NYC/Staten Island\",\"NYC/Bronx\",\"NYC/Brooklyn\",\"NYC/Manhattan\",\"NYC/Queens\",\"NYC/Staten Island\",\"NYC/Bronx\",\"NYC/Brooklyn\",\"NYC/Manhattan\",\"NYC/Queens\",\"NYC/Staten Island\",\"NYC/Bronx\",\"NYC/Brooklyn\",\"NYC/Manhattan\",\"NYC/Queens\",\"NYC/Staten Island\",\"NYC/Bronx\",\"NYC/Brooklyn\",\"NYC/Manhattan\",\"NYC/Queens\",\"NYC/Staten Island\",\"NYC/Bronx\",\"NYC/Brooklyn\",\"NYC/Manhattan\",\"NYC/Queens\",\"NYC/Staten Island\",\"NYC/Bronx\",\"NYC/Brooklyn\",\"NYC/Manhattan\",\"NYC/Queens\",\"NYC/Staten Island\",\"NYC/Bronx\",\"NYC/Brooklyn\",\"NYC/Manhattan\",\"NYC/Queens\",\"NYC/Staten Island\",\"NYC/Bronx\",\"NYC/Brooklyn\",\"NYC/Manhattan\",\"NYC/Queens\",\"NYC/Staten Island\",\"NYC/Bronx\",\"NYC/Brooklyn\",\"NYC/Manhattan\",\"NYC/Queens\",\"NYC/Staten Island\",\"NYC/Bronx\",\"NYC/Brooklyn\",\"NYC/Manhattan\",\"NYC/Queens\",\"NYC/Staten Island\",\"NYC/Bronx\",\"NYC/Brooklyn\",\"NYC/Manhattan\",\"NYC/Queens\",\"NYC/Staten Island\",\"NYC/Bronx\",\"NYC/Brooklyn\",\"NYC/Manhattan\",\"NYC/Queens\",\"NYC/Staten Island\",\"NYC/Bronx\",\"NYC/Brooklyn\",\"NYC/Manhattan\",\"NYC/Queens\",\"NYC/Staten Island\",\"NYC/Bronx\",\"NYC/Brooklyn\",\"NYC/Manhattan\",\"NYC/Queens\",\"NYC/Staten Island\",\"NYC/Bronx\",\"NYC/Brooklyn\",\"NYC/Manhattan\",\"NYC/Queens\",\"NYC/Staten Island\",\"NYC/Bronx\",\"NYC/Brooklyn\",\"NYC/Manhattan\",\"NYC/Queens\",\"NYC/Staten Island\",\"NYC/Bronx\",\"NYC/Brooklyn\",\"NYC/Manhattan\",\"NYC/Queens\",\"NYC/Staten Island\",\"NYC/Bronx\",\"NYC/Brooklyn\",\"NYC/Manhattan\",\"NYC/Queens\",\"NYC/Staten Island\",\"NYC/Bronx\",\"NYC/Brooklyn\",\"NYC/Manhattan\",\"NYC/Queens\",\"NYC/Staten Island\",\"NYC/Bronx\",\"NYC/Brooklyn\",\"NYC/Manhattan\",\"NYC/Queens\",\"NYC/Staten Island\",\"NYC/Bronx\",\"NYC/Brooklyn\",\"NYC/Manhattan\",\"NYC/Queens\",\"NYC/Staten Island\",\"NYC/Bronx\",\"NYC/Brooklyn\",\"NYC/Manhattan\",\"NYC/Queens\",\"NYC/Staten Island\",\"NYC/Bronx\",\"NYC/Brooklyn\",\"NYC/Manhattan\",\"NYC/Queens\",\"NYC/Staten Island\",\"NYC/Bronx\",\"NYC/Brooklyn\",\"NYC/Manhattan\",\"NYC/Queens\",\"NYC/Staten Island\",\"NYC/Bronx\",\"NYC/Brooklyn\",\"NYC/Manhattan\",\"NYC/Queens\",\"NYC/Staten Island\",\"NYC/Bronx\",\"NYC/Brooklyn\",\"NYC/Manhattan\",\"NYC/Queens\",\"NYC/Staten Island\",\"NYC/Bronx\",\"NYC/Brooklyn\",\"NYC/Manhattan\",\"NYC/Queens\",\"NYC/Staten Island\",\"NYC/Bronx\",\"NYC/Brooklyn\",\"NYC/Manhattan\",\"NYC/Queens\",\"NYC/Staten Island\",\"NYC/Bronx\",\"NYC/Brooklyn\",\"NYC/Manhattan\",\"NYC/Queens\",\"NYC/Staten Island\",\"NYC/Bronx\",\"NYC/Brooklyn\",\"NYC/Manhattan\",\"NYC/Queens\",\"NYC/Staten Island\",\"NYC/Bronx\",\"NYC/Brooklyn\",\"NYC/Manhattan\",\"NYC/Queens\",\"NYC/Staten Island\",\"NYC/Bronx\",\"NYC/Brooklyn\",\"NYC/Manhattan\",\"NYC/Queens\",\"NYC/Staten Island\",\"NYC/Bronx\",\"NYC/Brooklyn\",\"NYC/Manhattan\",\"NYC/Queens\",\"NYC/Staten Island\",\"NYC/Bronx\",\"NYC/Brooklyn\",\"NYC/Manhattan\",\"NYC/Queens\",\"NYC/Staten Island\",\"NYC/Bronx\",\"NYC/Brooklyn\",\"NYC/Manhattan\",\"NYC/Queens\",\"NYC/Staten Island\",\"NYC/Bronx\",\"NYC/Brooklyn\",\"NYC/Manhattan\",\"NYC/Queens\",\"NYC/Staten Island\",\"NYC/Bronx\",\"NYC/Brooklyn\",\"NYC/Manhattan\",\"NYC/Queens\",\"NYC/Staten Island\",\"NYC/Bronx\",\"NYC/Brooklyn\",\"NYC/Manhattan\",\"NYC/Queens\",\"NYC/Staten Island\",\"NYC/Bronx\",\"NYC/Brooklyn\",\"NYC/Manhattan\",\"NYC/Queens\",\"NYC/Staten Island\",\"NYC/Bronx\",\"NYC/Brooklyn\",\"NYC/Manhattan\",\"NYC/Queens\",\"NYC/Staten Island\",\"NYC/Bronx\",\"NYC/Brooklyn\",\"NYC/Manhattan\",\"NYC/Queens\",\"NYC/Staten Island\",\"NYC/Bronx\",\"NYC/Brooklyn\",\"NYC/Manhattan\",\"NYC/Queens\",\"NYC/Staten Island\",\"NYC/Bronx\",\"NYC/Brooklyn\",\"NYC/Manhattan\",\"NYC/Queens\",\"NYC/Staten Island\",\"NYC/Bronx\",\"NYC/Brooklyn\",\"NYC/Manhattan\",\"NYC/Queens\",\"NYC/Staten Island\",\"NYC/Bronx\",\"NYC/Brooklyn\",\"NYC/Manhattan\",\"NYC/Queens\",\"NYC/Staten Island\",\"NYC/Bronx\",\"NYC/Brooklyn\",\"NYC/Manhattan\",\"NYC/Queens\",\"NYC/Staten Island\",\"NYC/Bronx\",\"NYC/Brooklyn\",\"NYC/Manhattan\",\"NYC/Queens\",\"NYC/Staten Island\",\"NYC\",\"NYC\",\"NYC\",\"NYC\",\"NYC\",\"\"],\"root\":{\"color\":\"darkgrey\"},\"type\":\"treemap\",\"values\":[1095.0,2880.0,29238725.0,355.0,1220.0,null,1650.0,10644945.0,2725.0,420.0,240.0,300.0,4480.0,1670440.0,115.0,null,null,5435.0,1368980.0,255.0,600.0,140.0,5905.0,7425955.0,705.0,null,620.0,9460.0,9793860.0,525.0,230.0,760.0,10425.0,8292010.0,160.0,555.0,65.0,8310.0,4393200.0,115.0,45.0,625.0,3405.0,4616515.0,165.0,410.0,265.0,12920.0,5999955.0,210.0,160.0,355.0,8845.0,10558355.0,45.0,690.0,555.0,10650.0,14912055.0,230.0,340.0,365.0,4465.0,8053975.0,765.0,455.0,60.0,5310.0,2979395.0,335.0,230.0,460.0,6860.0,9028680.0,690.0,230.0,295.0,7810.0,2482165.0,65.0,1230.0,220.0,21845.0,17584310.0,615.0,345.0,435.0,9590.0,11307595.0,90.0,115.0,null,2915.0,395.0,3457545.0,null,160.0,3160.0,140.0,2013505.0,null,180.0,2505.0,180.0,2231815.0,null,null,2090.0,140.0,875865.0,965.0,875.0,18916015.0,415.0,345.0,810.0,1915.0,31503270.0,2830.0,460.0,690.0,610.0,17843270.0,115.0,345.0,520.0,1220.0,27545325.0,255.0,1270.0,1735.0,1335.0,40560010.0,560.0,1495.0,115.0,5315.0,11736860.0,null,1245.0,null,1880.0,54800.0,null,245.0,115.0,1605.0,7769855.0,390.0,935.0,null,440.0,8655915.0,null,460.0,180.0,2500.0,4395045.0,160.0,null,400.0,4120.0,4016095.0,115.0,115.0,null,2940.0,6166235.0,60.0,460.0,760.0,275.0,3810395.0,null,null,1300.0,525.0,4555945.0,null,null,405.0,275.0,7178235.0,345.0,575.0,555.0,1540.0,8718445.0,230.0,355.0,5710750.0,3040.0,7900.0,250.0,null,3506875.0,860.0,2920.0,275.0,345.0,3279675.0,1125.0,6825.0,115.0,115.0,7954325.0,2045.0,10100.0,345.0,355.0,7225350.0,1870.0,7065.0,95.0,115.0,5038550.0,365.0,4100.0,45.0,65.0,9311380.0,2890.0,5370.0,115.0,345.0,6369165.0,1020.0,9495.0,65.0,180.0,6325095.0,1415.0,5350.0,115.0,115.0,7542635.0,800.0,8645.0,505.0,115.0,940.0,1335.0,10306595.0,230.0,630.0,4478700.0,495.0,5265.0,350.0,45.0,11099030.0,965.0,9495.0,115.0,345.0,95.0,4965.0,9303430.0,115.0,105.0,890.0,4021525.0,6500.0,280.0,null,425.0,10246575.0,12195.0,45.0,205.0,595.0,8189585.0,6605.0,165.0,null,680.0,4242720.0,16750.0,345.0,60.0,640.0,9478605.0,31645.0,115.0,230.0,885.0,6920445.0,10605.0,140.0,185.0,480.0,7742550.0,4235.0,null,135.0,695.0,2882420.0,5680.0,505.0,null,475.0,5180.0,6222795.0,90.0,460.0,735.0,12113530.0,14380.0,175.0,275.0,1345.0,4869665.0,16510.0,175.0,null,795.0,5817070.0,9250.0,65.0,275.0,390.0,2756085.0,4985.0,2110.0,45.0,340.0,5891245.0,9840.0,23245.0,210.0,740.0,2663540.0,4370.0,45.0,115.0,430.0,5632370.0,6700.0,45.0,115.0,640.0,6575100.0,14015.0,130.0,45.0,765.0,6144855.0,6040.0,null,null,530.0,2731075.0,2450.0,null,null,370.0,4996840.0,7310.0,230.0,115.0,290.0,12745390.0,16675.0,45.0,345.0,705.0,5386510.0,4990.0,null,null,275.0,3440.0,9652860.0,815.0,115.0,885.0,9495485.0,5685.0,null,115.0,3080.0,6564960.0,3980.0,850.0,null,77876165.0,148177715.0,279245375.0,120509205.0,8599680.0,634408140.0]}],                        {\"legend\":{\"tracegroupgap\":0},\"margin\":{\"b\":50,\"l\":50,\"r\":50,\"t\":50},\"template\":{\"data\":{\"bar\":[{\"error_x\":{\"color\":\"#2a3f5f\"},\"error_y\":{\"color\":\"#2a3f5f\"},\"marker\":{\"line\":{\"color\":\"#E5ECF6\",\"width\":0.5},\"pattern\":{\"fillmode\":\"overlay\",\"size\":10,\"solidity\":0.2}},\"type\":\"bar\"}],\"barpolar\":[{\"marker\":{\"line\":{\"color\":\"#E5ECF6\",\"width\":0.5},\"pattern\":{\"fillmode\":\"overlay\",\"size\":10,\"solidity\":0.2}},\"type\":\"barpolar\"}],\"carpet\":[{\"aaxis\":{\"endlinecolor\":\"#2a3f5f\",\"gridcolor\":\"white\",\"linecolor\":\"white\",\"minorgridcolor\":\"white\",\"startlinecolor\":\"#2a3f5f\"},\"baxis\":{\"endlinecolor\":\"#2a3f5f\",\"gridcolor\":\"white\",\"linecolor\":\"white\",\"minorgridcolor\":\"white\",\"startlinecolor\":\"#2a3f5f\"},\"type\":\"carpet\"}],\"choropleth\":[{\"colorbar\":{\"outlinewidth\":0,\"ticks\":\"\"},\"type\":\"choropleth\"}],\"contour\":[{\"colorbar\":{\"outlinewidth\":0,\"ticks\":\"\"},\"colorscale\":[[0.0,\"#0d0887\"],[0.1111111111111111,\"#46039f\"],[0.2222222222222222,\"#7201a8\"],[0.3333333333333333,\"#9c179e\"],[0.4444444444444444,\"#bd3786\"],[0.5555555555555556,\"#d8576b\"],[0.6666666666666666,\"#ed7953\"],[0.7777777777777778,\"#fb9f3a\"],[0.8888888888888888,\"#fdca26\"],[1.0,\"#f0f921\"]],\"type\":\"contour\"}],\"contourcarpet\":[{\"colorbar\":{\"outlinewidth\":0,\"ticks\":\"\"},\"type\":\"contourcarpet\"}],\"heatmap\":[{\"colorbar\":{\"outlinewidth\":0,\"ticks\":\"\"},\"colorscale\":[[0.0,\"#0d0887\"],[0.1111111111111111,\"#46039f\"],[0.2222222222222222,\"#7201a8\"],[0.3333333333333333,\"#9c179e\"],[0.4444444444444444,\"#bd3786\"],[0.5555555555555556,\"#d8576b\"],[0.6666666666666666,\"#ed7953\"],[0.7777777777777778,\"#fb9f3a\"],[0.8888888888888888,\"#fdca26\"],[1.0,\"#f0f921\"]],\"type\":\"heatmap\"}],\"heatmapgl\":[{\"colorbar\":{\"outlinewidth\":0,\"ticks\":\"\"},\"colorscale\":[[0.0,\"#0d0887\"],[0.1111111111111111,\"#46039f\"],[0.2222222222222222,\"#7201a8\"],[0.3333333333333333,\"#9c179e\"],[0.4444444444444444,\"#bd3786\"],[0.5555555555555556,\"#d8576b\"],[0.6666666666666666,\"#ed7953\"],[0.7777777777777778,\"#fb9f3a\"],[0.8888888888888888,\"#fdca26\"],[1.0,\"#f0f921\"]],\"type\":\"heatmapgl\"}],\"histogram\":[{\"marker\":{\"pattern\":{\"fillmode\":\"overlay\",\"size\":10,\"solidity\":0.2}},\"type\":\"histogram\"}],\"histogram2d\":[{\"colorbar\":{\"outlinewidth\":0,\"ticks\":\"\"},\"colorscale\":[[0.0,\"#0d0887\"],[0.1111111111111111,\"#46039f\"],[0.2222222222222222,\"#7201a8\"],[0.3333333333333333,\"#9c179e\"],[0.4444444444444444,\"#bd3786\"],[0.5555555555555556,\"#d8576b\"],[0.6666666666666666,\"#ed7953\"],[0.7777777777777778,\"#fb9f3a\"],[0.8888888888888888,\"#fdca26\"],[1.0,\"#f0f921\"]],\"type\":\"histogram2d\"}],\"histogram2dcontour\":[{\"colorbar\":{\"outlinewidth\":0,\"ticks\":\"\"},\"colorscale\":[[0.0,\"#0d0887\"],[0.1111111111111111,\"#46039f\"],[0.2222222222222222,\"#7201a8\"],[0.3333333333333333,\"#9c179e\"],[0.4444444444444444,\"#bd3786\"],[0.5555555555555556,\"#d8576b\"],[0.6666666666666666,\"#ed7953\"],[0.7777777777777778,\"#fb9f3a\"],[0.8888888888888888,\"#fdca26\"],[1.0,\"#f0f921\"]],\"type\":\"histogram2dcontour\"}],\"mesh3d\":[{\"colorbar\":{\"outlinewidth\":0,\"ticks\":\"\"},\"type\":\"mesh3d\"}],\"parcoords\":[{\"line\":{\"colorbar\":{\"outlinewidth\":0,\"ticks\":\"\"}},\"type\":\"parcoords\"}],\"pie\":[{\"automargin\":true,\"type\":\"pie\"}],\"scatter\":[{\"marker\":{\"colorbar\":{\"outlinewidth\":0,\"ticks\":\"\"}},\"type\":\"scatter\"}],\"scatter3d\":[{\"line\":{\"colorbar\":{\"outlinewidth\":0,\"ticks\":\"\"}},\"marker\":{\"colorbar\":{\"outlinewidth\":0,\"ticks\":\"\"}},\"type\":\"scatter3d\"}],\"scattercarpet\":[{\"marker\":{\"colorbar\":{\"outlinewidth\":0,\"ticks\":\"\"}},\"type\":\"scattercarpet\"}],\"scattergeo\":[{\"marker\":{\"colorbar\":{\"outlinewidth\":0,\"ticks\":\"\"}},\"type\":\"scattergeo\"}],\"scattergl\":[{\"marker\":{\"colorbar\":{\"outlinewidth\":0,\"ticks\":\"\"}},\"type\":\"scattergl\"}],\"scattermapbox\":[{\"marker\":{\"colorbar\":{\"outlinewidth\":0,\"ticks\":\"\"}},\"type\":\"scattermapbox\"}],\"scatterpolar\":[{\"marker\":{\"colorbar\":{\"outlinewidth\":0,\"ticks\":\"\"}},\"type\":\"scatterpolar\"}],\"scatterpolargl\":[{\"marker\":{\"colorbar\":{\"outlinewidth\":0,\"ticks\":\"\"}},\"type\":\"scatterpolargl\"}],\"scatterternary\":[{\"marker\":{\"colorbar\":{\"outlinewidth\":0,\"ticks\":\"\"}},\"type\":\"scatterternary\"}],\"surface\":[{\"colorbar\":{\"outlinewidth\":0,\"ticks\":\"\"},\"colorscale\":[[0.0,\"#0d0887\"],[0.1111111111111111,\"#46039f\"],[0.2222222222222222,\"#7201a8\"],[0.3333333333333333,\"#9c179e\"],[0.4444444444444444,\"#bd3786\"],[0.5555555555555556,\"#d8576b\"],[0.6666666666666666,\"#ed7953\"],[0.7777777777777778,\"#fb9f3a\"],[0.8888888888888888,\"#fdca26\"],[1.0,\"#f0f921\"]],\"type\":\"surface\"}],\"table\":[{\"cells\":{\"fill\":{\"color\":\"#EBF0F8\"},\"line\":{\"color\":\"white\"}},\"header\":{\"fill\":{\"color\":\"#C8D4E3\"},\"line\":{\"color\":\"white\"}},\"type\":\"table\"}]},\"layout\":{\"annotationdefaults\":{\"arrowcolor\":\"#2a3f5f\",\"arrowhead\":0,\"arrowwidth\":1},\"autotypenumbers\":\"strict\",\"coloraxis\":{\"colorbar\":{\"outlinewidth\":0,\"ticks\":\"\"}},\"colorscale\":{\"diverging\":[[0,\"#8e0152\"],[0.1,\"#c51b7d\"],[0.2,\"#de77ae\"],[0.3,\"#f1b6da\"],[0.4,\"#fde0ef\"],[0.5,\"#f7f7f7\"],[0.6,\"#e6f5d0\"],[0.7,\"#b8e186\"],[0.8,\"#7fbc41\"],[0.9,\"#4d9221\"],[1,\"#276419\"]],\"sequential\":[[0.0,\"#0d0887\"],[0.1111111111111111,\"#46039f\"],[0.2222222222222222,\"#7201a8\"],[0.3333333333333333,\"#9c179e\"],[0.4444444444444444,\"#bd3786\"],[0.5555555555555556,\"#d8576b\"],[0.6666666666666666,\"#ed7953\"],[0.7777777777777778,\"#fb9f3a\"],[0.8888888888888888,\"#fdca26\"],[1.0,\"#f0f921\"]],\"sequentialminus\":[[0.0,\"#0d0887\"],[0.1111111111111111,\"#46039f\"],[0.2222222222222222,\"#7201a8\"],[0.3333333333333333,\"#9c179e\"],[0.4444444444444444,\"#bd3786\"],[0.5555555555555556,\"#d8576b\"],[0.6666666666666666,\"#ed7953\"],[0.7777777777777778,\"#fb9f3a\"],[0.8888888888888888,\"#fdca26\"],[1.0,\"#f0f921\"]]},\"colorway\":[\"#636efa\",\"#EF553B\",\"#00cc96\",\"#ab63fa\",\"#FFA15A\",\"#19d3f3\",\"#FF6692\",\"#B6E880\",\"#FF97FF\",\"#FECB52\"],\"font\":{\"color\":\"#2a3f5f\"},\"geo\":{\"bgcolor\":\"white\",\"lakecolor\":\"white\",\"landcolor\":\"#E5ECF6\",\"showlakes\":true,\"showland\":true,\"subunitcolor\":\"white\"},\"hoverlabel\":{\"align\":\"left\"},\"hovermode\":\"closest\",\"mapbox\":{\"style\":\"light\"},\"paper_bgcolor\":\"white\",\"plot_bgcolor\":\"#E5ECF6\",\"polar\":{\"angularaxis\":{\"gridcolor\":\"white\",\"linecolor\":\"white\",\"ticks\":\"\"},\"bgcolor\":\"#E5ECF6\",\"radialaxis\":{\"gridcolor\":\"white\",\"linecolor\":\"white\",\"ticks\":\"\"}},\"scene\":{\"xaxis\":{\"backgroundcolor\":\"#E5ECF6\",\"gridcolor\":\"white\",\"gridwidth\":2,\"linecolor\":\"white\",\"showbackground\":true,\"ticks\":\"\",\"zerolinecolor\":\"white\"},\"yaxis\":{\"backgroundcolor\":\"#E5ECF6\",\"gridcolor\":\"white\",\"gridwidth\":2,\"linecolor\":\"white\",\"showbackground\":true,\"ticks\":\"\",\"zerolinecolor\":\"white\"},\"zaxis\":{\"backgroundcolor\":\"#E5ECF6\",\"gridcolor\":\"white\",\"gridwidth\":2,\"linecolor\":\"white\",\"showbackground\":true,\"ticks\":\"\",\"zerolinecolor\":\"white\"}},\"shapedefaults\":{\"line\":{\"color\":\"#2a3f5f\"}},\"ternary\":{\"aaxis\":{\"gridcolor\":\"white\",\"linecolor\":\"white\",\"ticks\":\"\"},\"baxis\":{\"gridcolor\":\"white\",\"linecolor\":\"white\",\"ticks\":\"\"},\"bgcolor\":\"#E5ECF6\",\"caxis\":{\"gridcolor\":\"white\",\"linecolor\":\"white\",\"ticks\":\"\"}},\"title\":{\"x\":0.05},\"xaxis\":{\"automargin\":true,\"gridcolor\":\"white\",\"linecolor\":\"white\",\"ticks\":\"\",\"title\":{\"standoff\":15},\"zerolinecolor\":\"white\",\"zerolinewidth\":2},\"yaxis\":{\"automargin\":true,\"gridcolor\":\"white\",\"linecolor\":\"white\",\"ticks\":\"\",\"title\":{\"standoff\":15},\"zerolinecolor\":\"white\",\"zerolinewidth\":2}}},\"uniformtext\":{\"minsize\":14,\"mode\":\"hide\"}},                        {\"responsive\": true}                    ).then(function(){\n",
       "                            \n",
       "var gd = document.getElementById('f2c66438-ac42-49be-892e-379b19c87b8a');\n",
       "var x = new MutationObserver(function (mutations, observer) {{\n",
       "        var display = window.getComputedStyle(gd).display;\n",
       "        if (!display || display === 'none') {{\n",
       "            console.log([gd, 'removed!']);\n",
       "            Plotly.purge(gd);\n",
       "            observer.disconnect();\n",
       "        }}\n",
       "}});\n",
       "\n",
       "// Listen for the removal of the full notebook cells\n",
       "var notebookContainer = gd.closest('#notebook-container');\n",
       "if (notebookContainer) {{\n",
       "    x.observe(notebookContainer, {childList: true});\n",
       "}}\n",
       "\n",
       "// Listen for the clearing of the current output cell\n",
       "var outputEl = gd.closest('.output');\n",
       "if (outputEl) {{\n",
       "    x.observe(outputEl, {childList: true});\n",
       "}}\n",
       "\n",
       "                        })                };                            </script>        </div>\n",
       "</body>\n",
       "</html>"
      ]
     },
     "metadata": {
      "tags": []
     },
     "output_type": "display_data"
    },
    {
     "name": "stdout",
     "output_type": "stream",
     "text": [
      "CPU times: user 2min 4s, sys: 2.45 s, total: 2min 7s\n",
      "Wall time: 2min 6s\n"
     ]
    }
   ],
   "source": [
    "%%time\n",
    "fig = px.treemap(fine_precinct_df, \n",
    "                 path=[px.Constant(\"NYC\"), 'Violation County', 'Violation Location'], \n",
    "                 values='Fine',\n",
    "                )\n",
    "fig.update_traces(root_color=\"darkgrey\")\n",
    "fig.update_layout(margin = dict(t=50, l=50, r=50, b=50),\n",
    "                  uniformtext_minsize=14, \n",
    "                  uniformtext_mode='hide')\n",
    "fig.show()"
   ]
  },
  {
   "cell_type": "markdown",
   "metadata": {
    "id": "sFZxcopK44q5"
   },
   "source": [
    "## The pie chart shows the percentage breakdowns of each borough, and hovering over the treemap shows the breakdown for the whole of NYC, for each borough, and for each precinct.\n",
    "- [xxx] Want to be able to put the value for the dollar sum in each wedge of the chart"
   ]
  },
  {
   "cell_type": "markdown",
   "metadata": {
    "id": "LrL5tsuG6E3N"
   },
   "source": [
    "\n",
    "\n",
    "---\n",
    "\n"
   ]
  },
  {
   "cell_type": "markdown",
   "metadata": {
    "id": "s4zvzgVf3gdQ"
   },
   "source": [
    "# Q8 What are the most common reasons tickets are issued?\n",
    "- Will need the merged dataframe with the violation descriptions\n",
    "- Will need to group in a useful way for plotting\n",
    "- Can try to correlate these numbers with the bourough/county"
   ]
  },
  {
   "cell_type": "code",
   "execution_count": 166,
   "metadata": {
    "colab": {
     "base_uri": "https://localhost:8080/",
     "height": 86
    },
    "executionInfo": {
     "elapsed": 3791,
     "status": "ok",
     "timestamp": 1626663372327,
     "user": {
      "displayName": "Samantha Roberts",
      "photoUrl": "",
      "userId": "12336021266384650140"
     },
     "user_tz": 240
    },
    "id": "Gk4-4qbHvEKq",
    "outputId": "ccf68026-e0f4-4a5d-8265-6159878a6b31"
   },
   "outputs": [
    {
     "name": "stdout",
     "output_type": "stream",
     "text": [
      "[jovian] Detected Colab notebook...\u001b[0m\n",
      "[jovian] Uploading colab notebook to Jovian...\u001b[0m\n",
      "Committed successfully! https://jovian.ai/samantha-roberts/nyc-parking-2017-final\n"
     ]
    },
    {
     "data": {
      "application/vnd.google.colaboratory.intrinsic+json": {
       "type": "string"
      },
      "text/plain": [
       "'https://jovian.ai/samantha-roberts/nyc-parking-2017-final'"
      ]
     },
     "execution_count": 166,
     "metadata": {
      "tags": []
     },
     "output_type": "execute_result"
    }
   ],
   "source": [
    "jovian.commit(project=project_name)"
   ]
  },
  {
   "cell_type": "code",
   "execution_count": 83,
   "metadata": {
    "colab": {
     "base_uri": "https://localhost:8080/",
     "height": 204
    },
    "executionInfo": {
     "elapsed": 355,
     "status": "ok",
     "timestamp": 1626643749214,
     "user": {
      "displayName": "Samantha Roberts",
      "photoUrl": "",
      "userId": "12336021266384650140"
     },
     "user_tz": 240
    },
    "id": "wtFo4cJQugQM",
    "outputId": "7d614da9-ce5e-416f-9126-5d8ecbbdf7fb"
   },
   "outputs": [
    {
     "data": {
      "text/html": [
       "<div>\n",
       "<style scoped>\n",
       "    .dataframe tbody tr th:only-of-type {\n",
       "        vertical-align: middle;\n",
       "    }\n",
       "\n",
       "    .dataframe tbody tr th {\n",
       "        vertical-align: top;\n",
       "    }\n",
       "\n",
       "    .dataframe thead th {\n",
       "        text-align: right;\n",
       "    }\n",
       "</style>\n",
       "<table border=\"1\" class=\"dataframe\">\n",
       "  <thead>\n",
       "    <tr style=\"text-align: right;\">\n",
       "      <th></th>\n",
       "      <th>Violation Location</th>\n",
       "      <th>Violation County</th>\n",
       "      <th>Violation Description</th>\n",
       "      <th>Fine</th>\n",
       "    </tr>\n",
       "  </thead>\n",
       "  <tbody>\n",
       "    <tr>\n",
       "      <th>3</th>\n",
       "      <td>14</td>\n",
       "      <td>Manhattan</td>\n",
       "      <td>DOUBLE PARKING-MIDTOWN COMML</td>\n",
       "      <td>115.0</td>\n",
       "    </tr>\n",
       "    <tr>\n",
       "      <th>4</th>\n",
       "      <td>13</td>\n",
       "      <td>Manhattan</td>\n",
       "      <td>FAIL TO DISP. MUNI METER RECPT</td>\n",
       "      <td>35.0</td>\n",
       "    </tr>\n",
       "    <tr>\n",
       "      <th>6</th>\n",
       "      <td>71</td>\n",
       "      <td>Brooklyn</td>\n",
       "      <td>FIRE HYDRANT</td>\n",
       "      <td>115.0</td>\n",
       "    </tr>\n",
       "    <tr>\n",
       "      <th>10</th>\n",
       "      <td>106</td>\n",
       "      <td>Queens</td>\n",
       "      <td>NGHT PKG ON RESID STR-COMM VEH</td>\n",
       "      <td>65.0</td>\n",
       "    </tr>\n",
       "    <tr>\n",
       "      <th>11</th>\n",
       "      <td>18</td>\n",
       "      <td>Manhattan</td>\n",
       "      <td>NO STANDING-BUS STOP</td>\n",
       "      <td>115.0</td>\n",
       "    </tr>\n",
       "  </tbody>\n",
       "</table>\n",
       "</div>"
      ],
      "text/plain": [
       "   Violation Location Violation County           Violation Description   Fine\n",
       "3                  14        Manhattan    DOUBLE PARKING-MIDTOWN COMML  115.0\n",
       "4                  13        Manhattan  FAIL TO DISP. MUNI METER RECPT   35.0\n",
       "6                  71         Brooklyn                    FIRE HYDRANT  115.0\n",
       "10                106           Queens  NGHT PKG ON RESID STR-COMM VEH   65.0\n",
       "11                 18        Manhattan            NO STANDING-BUS STOP  115.0"
      ]
     },
     "execution_count": 83,
     "metadata": {
      "tags": []
     },
     "output_type": "execute_result"
    }
   ],
   "source": [
    "fine_precinct_df.head()"
   ]
  },
  {
   "cell_type": "markdown",
   "metadata": {
    "id": "yOPtd7nyfRal"
   },
   "source": [
    "**Let us group and then unstack back into a dataframe**\n",
    "- note that this just is another way of making a pivot table"
   ]
  },
  {
   "cell_type": "code",
   "execution_count": 84,
   "metadata": {
    "colab": {
     "base_uri": "https://localhost:8080/",
     "height": 235
    },
    "executionInfo": {
     "elapsed": 265,
     "status": "ok",
     "timestamp": 1626643749711,
     "user": {
      "displayName": "Samantha Roberts",
      "photoUrl": "",
      "userId": "12336021266384650140"
     },
     "user_tz": 240
    },
    "id": "IapZ5_ggIAqp",
    "outputId": "0f92b6de-a36b-411b-9a51-75bb70bafd5b"
   },
   "outputs": [
    {
     "data": {
      "text/html": [
       "<div>\n",
       "<style scoped>\n",
       "    .dataframe tbody tr th:only-of-type {\n",
       "        vertical-align: middle;\n",
       "    }\n",
       "\n",
       "    .dataframe tbody tr th {\n",
       "        vertical-align: top;\n",
       "    }\n",
       "\n",
       "    .dataframe thead th {\n",
       "        text-align: right;\n",
       "    }\n",
       "</style>\n",
       "<table border=\"1\" class=\"dataframe\">\n",
       "  <thead>\n",
       "    <tr style=\"text-align: right;\">\n",
       "      <th>Violation County</th>\n",
       "      <th>Bronx</th>\n",
       "      <th>Brooklyn</th>\n",
       "      <th>Manhattan</th>\n",
       "      <th>Queens</th>\n",
       "      <th>Staten Island</th>\n",
       "    </tr>\n",
       "    <tr>\n",
       "      <th>Violation Description</th>\n",
       "      <th></th>\n",
       "      <th></th>\n",
       "      <th></th>\n",
       "      <th></th>\n",
       "      <th></th>\n",
       "    </tr>\n",
       "  </thead>\n",
       "  <tbody>\n",
       "    <tr>\n",
       "      <th>ALTERING INTERCITY BUS PERMIT</th>\n",
       "      <td>5</td>\n",
       "      <td>10</td>\n",
       "      <td>21</td>\n",
       "      <td>9</td>\n",
       "      <td>1</td>\n",
       "    </tr>\n",
       "    <tr>\n",
       "      <th>ANGLE PARKING</th>\n",
       "      <td>1723</td>\n",
       "      <td>1211</td>\n",
       "      <td>2237</td>\n",
       "      <td>1444</td>\n",
       "      <td>54</td>\n",
       "    </tr>\n",
       "    <tr>\n",
       "      <th>ANGLE PARKING-COMM VEHICLE</th>\n",
       "      <td>56</td>\n",
       "      <td>24</td>\n",
       "      <td>133</td>\n",
       "      <td>17</td>\n",
       "      <td>0</td>\n",
       "    </tr>\n",
       "    <tr>\n",
       "      <th>BEYOND MARKED SPACE</th>\n",
       "      <td>843</td>\n",
       "      <td>2151</td>\n",
       "      <td>786</td>\n",
       "      <td>1360</td>\n",
       "      <td>496</td>\n",
       "    </tr>\n",
       "    <tr>\n",
       "      <th>BIKE LANE</th>\n",
       "      <td>13265</td>\n",
       "      <td>13201</td>\n",
       "      <td>50489</td>\n",
       "      <td>6089</td>\n",
       "      <td>170</td>\n",
       "    </tr>\n",
       "  </tbody>\n",
       "</table>\n",
       "</div>"
      ],
      "text/plain": [
       "Violation County               Bronx  Brooklyn  ...  Queens  Staten Island\n",
       "Violation Description                           ...                       \n",
       "ALTERING INTERCITY BUS PERMIT      5        10  ...       9              1\n",
       "ANGLE PARKING                   1723      1211  ...    1444             54\n",
       "ANGLE PARKING-COMM VEHICLE        56        24  ...      17              0\n",
       "BEYOND MARKED SPACE              843      2151  ...    1360            496\n",
       "BIKE LANE                      13265     13201  ...    6089            170\n",
       "\n",
       "[5 rows x 5 columns]"
      ]
     },
     "execution_count": 84,
     "metadata": {
      "tags": []
     },
     "output_type": "execute_result"
    }
   ],
   "source": [
    "violation_df = merged_df.groupby(['Violation Description', 'Violation County'])['Violation Location'].count()\n",
    "violation_df = violation_df.unstack()\n",
    "violation_df.head()"
   ]
  },
  {
   "cell_type": "code",
   "execution_count": 163,
   "metadata": {
    "colab": {
     "base_uri": "https://localhost:8080/"
    },
    "executionInfo": {
     "elapsed": 238,
     "status": "ok",
     "timestamp": 1626663205863,
     "user": {
      "displayName": "Samantha Roberts",
      "photoUrl": "",
      "userId": "12336021266384650140"
     },
     "user_tz": 240
    },
    "id": "69RWI_jsrooK",
    "outputId": "66b57db7-3a58-40b0-bbdf-e1ba9c5f03ca"
   },
   "outputs": [
    {
     "data": {
      "text/plain": [
       "Violation County\n",
       "Bronx            1087653\n",
       "Brooklyn         2217189\n",
       "Manhattan        3428597\n",
       "Queens           1837823\n",
       "Staten Island     121307\n",
       "sum              8692569\n",
       "dtype: int64"
      ]
     },
     "execution_count": 163,
     "metadata": {
      "tags": []
     },
     "output_type": "execute_result"
    }
   ],
   "source": [
    "violation_df.sum()"
   ]
  },
  {
   "cell_type": "code",
   "execution_count": 164,
   "metadata": {
    "colab": {
     "base_uri": "https://localhost:8080/"
    },
    "executionInfo": {
     "elapsed": 242,
     "status": "ok",
     "timestamp": 1626663268835,
     "user": {
      "displayName": "Samantha Roberts",
      "photoUrl": "",
      "userId": "12336021266384650140"
     },
     "user_tz": 240
    },
    "id": "d-yOiFZlr3-8",
    "outputId": "93a2cb04-5515-41f7-fdcd-9bf78728fad8"
   },
   "outputs": [
    {
     "data": {
      "text/plain": [
       "10803028"
      ]
     },
     "execution_count": 164,
     "metadata": {
      "tags": []
     },
     "output_type": "execute_result"
    }
   ],
   "source": [
    "merged_df.shape[0]"
   ]
  },
  {
   "cell_type": "markdown",
   "metadata": {
    "id": "B-Dpmnb6fnM4"
   },
   "source": [
    "**Now we want to sum scross the counties to get the total of each ticket issued \n",
    "- we then sort the dataframe according to this total sum\n",
    "- We do not want to loose the individual county information so we can still deliniate by county in the plot"
   ]
  },
  {
   "cell_type": "code",
   "execution_count": 85,
   "metadata": {
    "colab": {
     "base_uri": "https://localhost:8080/",
     "height": 235
    },
    "executionInfo": {
     "elapsed": 12,
     "status": "ok",
     "timestamp": 1626643749713,
     "user": {
      "displayName": "Samantha Roberts",
      "photoUrl": "",
      "userId": "12336021266384650140"
     },
     "user_tz": 240
    },
    "id": "tQyZAT_iugY7",
    "outputId": "bad221c2-2ada-40b6-c797-d307de9a7bf4"
   },
   "outputs": [
    {
     "data": {
      "text/html": [
       "<div>\n",
       "<style scoped>\n",
       "    .dataframe tbody tr th:only-of-type {\n",
       "        vertical-align: middle;\n",
       "    }\n",
       "\n",
       "    .dataframe tbody tr th {\n",
       "        vertical-align: top;\n",
       "    }\n",
       "\n",
       "    .dataframe thead th {\n",
       "        text-align: right;\n",
       "    }\n",
       "</style>\n",
       "<table border=\"1\" class=\"dataframe\">\n",
       "  <thead>\n",
       "    <tr style=\"text-align: right;\">\n",
       "      <th>Violation County</th>\n",
       "      <th>Bronx</th>\n",
       "      <th>Brooklyn</th>\n",
       "      <th>Manhattan</th>\n",
       "      <th>Queens</th>\n",
       "      <th>Staten Island</th>\n",
       "      <th>sum</th>\n",
       "    </tr>\n",
       "    <tr>\n",
       "      <th>Violation Description</th>\n",
       "      <th></th>\n",
       "      <th></th>\n",
       "      <th></th>\n",
       "      <th></th>\n",
       "      <th></th>\n",
       "      <th></th>\n",
       "    </tr>\n",
       "  </thead>\n",
       "  <tbody>\n",
       "    <tr>\n",
       "      <th>NO PARKING-STREET CLEANING</th>\n",
       "      <td>229009</td>\n",
       "      <td>661076</td>\n",
       "      <td>290891</td>\n",
       "      <td>341281</td>\n",
       "      <td>72</td>\n",
       "      <td>1522329</td>\n",
       "    </tr>\n",
       "    <tr>\n",
       "      <th>FAIL TO DSPLY MUNI METER RECPT</th>\n",
       "      <td>129723</td>\n",
       "      <td>297750</td>\n",
       "      <td>309660</td>\n",
       "      <td>307585</td>\n",
       "      <td>17089</td>\n",
       "      <td>1061807</td>\n",
       "    </tr>\n",
       "    <tr>\n",
       "      <th>NO STANDING-DAY/TIME LIMITS</th>\n",
       "      <td>60601</td>\n",
       "      <td>163224</td>\n",
       "      <td>519579</td>\n",
       "      <td>135356</td>\n",
       "      <td>10177</td>\n",
       "      <td>888937</td>\n",
       "    </tr>\n",
       "    <tr>\n",
       "      <th>NO PARKING-DAY/TIME LIMITS</th>\n",
       "      <td>94707</td>\n",
       "      <td>153716</td>\n",
       "      <td>208465</td>\n",
       "      <td>152375</td>\n",
       "      <td>6051</td>\n",
       "      <td>615314</td>\n",
       "    </tr>\n",
       "    <tr>\n",
       "      <th>EXPIRED MUNI METER</th>\n",
       "      <td>63859</td>\n",
       "      <td>116397</td>\n",
       "      <td>234948</td>\n",
       "      <td>175086</td>\n",
       "      <td>6324</td>\n",
       "      <td>596614</td>\n",
       "    </tr>\n",
       "  </tbody>\n",
       "</table>\n",
       "</div>"
      ],
      "text/plain": [
       "Violation County                 Bronx  Brooklyn  ...  Staten Island      sum\n",
       "Violation Description                             ...                        \n",
       "NO PARKING-STREET CLEANING      229009    661076  ...             72  1522329\n",
       "FAIL TO DSPLY MUNI METER RECPT  129723    297750  ...          17089  1061807\n",
       "NO STANDING-DAY/TIME LIMITS      60601    163224  ...          10177   888937\n",
       "NO PARKING-DAY/TIME LIMITS       94707    153716  ...           6051   615314\n",
       "EXPIRED MUNI METER               63859    116397  ...           6324   596614\n",
       "\n",
       "[5 rows x 6 columns]"
      ]
     },
     "execution_count": 85,
     "metadata": {
      "tags": []
     },
     "output_type": "execute_result"
    }
   ],
   "source": [
    "violation_df.columns = violation_df.columns.add_categories(['sum'])\n",
    "violation_df['sum'] = violation_df.sum(axis=1)\n",
    "violation_df.sort_values(by='sum', ascending=False, axis=0, inplace=True)\n",
    "violation_df.head()"
   ]
  },
  {
   "cell_type": "markdown",
   "metadata": {
    "id": "aFkaDE1WgHSz"
   },
   "source": [
    "**Now that the table is sorted we create a dataframe to plot with the sum excluded**\n",
    "- we only incude the top 30 of 97 types of tickets"
   ]
  },
  {
   "cell_type": "code",
   "execution_count": 86,
   "metadata": {
    "executionInfo": {
     "elapsed": 11,
     "status": "ok",
     "timestamp": 1626643749714,
     "user": {
      "displayName": "Samantha Roberts",
      "photoUrl": "",
      "userId": "12336021266384650140"
     },
     "user_tz": 240
    },
    "id": "GCnVxeajaRzz"
   },
   "outputs": [],
   "source": [
    "plot_df = violation_df.drop(columns='sum')\n",
    "plot_df = plot_df.head(30)"
   ]
  },
  {
   "cell_type": "code",
   "execution_count": 165,
   "metadata": {
    "colab": {
     "base_uri": "https://localhost:8080/",
     "height": 915
    },
    "executionInfo": {
     "elapsed": 1701,
     "status": "ok",
     "timestamp": 1626663359458,
     "user": {
      "displayName": "Samantha Roberts",
      "photoUrl": "",
      "userId": "12336021266384650140"
     },
     "user_tz": 240
    },
    "id": "v4boxi4LIPLm",
    "outputId": "7d830d29-700f-4e4f-a4a0-fb5e7e16009c"
   },
   "outputs": [
    {
     "data": {
      "image/png": "[encoded data removed]",
      "text/plain": [
       "<Figure size 1080x1080 with 1 Axes>"
      ]
     },
     "metadata": {
      "tags": []
     },
     "output_type": "display_data"
    }
   ],
   "source": [
    "from matplotlib.ticker import FuncFormatter\n",
    "\n",
    "def millions_formatter(x, pos):\n",
    "    return f'{x / 1000000}'\n",
    "\n",
    "ax = plot_df.plot.barh(rot=0, stacked=True, sort_columns=True, figsize=(15,15))\n",
    "ax.invert_yaxis()\n",
    "ax.set_title(\"Top 30 Parking Violations\", fontsize=22);\n",
    "ax.set_ylabel(\"Violation Description\", fontsize=18)\n",
    "ax.xaxis.set_major_formatter(FuncFormatter(millions_formatter))\n",
    "ax.set_xlabel('Number of Tickets (in millions)', fontsize=18)\n",
    "ax.legend(loc='center right', bbox_to_anchor=(1, 0.75), frameon=True, fontsize=18)\n",
    "plt.show()"
   ]
  },
  {
   "cell_type": "markdown",
   "metadata": {
    "id": "WJuINRaygh-D"
   },
   "source": [
    "## We see the most common tickets are for street cleaning and are also issued at expired meters\n",
    "- [xxx] One thing I note is in the data before eliminating the NaN for precinct and county there were a high amount of non-parking related tickets - these are issued by cameras set up at different intersections and school zones to monitor speed.  These are noteworthy because they are not parking tickets but are in this data.  \n",
    "- return to this and explore the magnitude of this contribution"
   ]
  },
  {
   "cell_type": "markdown",
   "metadata": {
    "id": "oakrDDpnjZ3z"
   },
   "source": [
    "**However I remember there being camera violations that ranked high in the raw data - Lets go back and check that out**"
   ]
  },
  {
   "cell_type": "code",
   "execution_count": 112,
   "metadata": {
    "executionInfo": {
     "elapsed": 257,
     "status": "ok",
     "timestamp": 1626644733415,
     "user": {
      "displayName": "Samantha Roberts",
      "photoUrl": "",
      "userId": "12336021266384650140"
     },
     "user_tz": 240
    },
    "id": "uhh6sEtvjnuo"
   },
   "outputs": [],
   "source": [
    "temp = merged_df.groupby('Violation Description')['Fine'].sum()"
   ]
  },
  {
   "cell_type": "code",
   "execution_count": 123,
   "metadata": {
    "colab": {
     "base_uri": "https://localhost:8080/"
    },
    "executionInfo": {
     "elapsed": 240,
     "status": "ok",
     "timestamp": 1626645221954,
     "user": {
      "displayName": "Samantha Roberts",
      "photoUrl": "",
      "userId": "12336021266384650140"
     },
     "user_tz": 240
    },
    "id": "Vr3AeNivlO87",
    "outputId": "4b0d0ba7-76e4-4e76-8b1e-1a0db423f3db"
   },
   "outputs": [
    {
     "data": {
      "text/plain": [
       "Violation Description\n",
       "NO STANDING-DAY/TIME LIMITS       102752270.0\n",
       "PHTO SCHOOL ZN SPEED VIOLATION     70030700.0\n",
       "DOUBLE PARKING                     69001380.0\n",
       "NO PARKING-STREET CLEANING         68786460.0\n",
       "FIRE HYDRANT                       59755725.0\n",
       "FAIL TO DSPLY MUNI METER RECPT     37180640.0\n",
       "NO PARKING-DAY/TIME LIMITS         37115580.0\n",
       "INSP. STICKER-EXPIRED/MISSING      33885020.0\n",
       "NO STANDING-BUS STOP               33455800.0\n",
       "FAILURE TO STOP AT RED LIGHT       25819750.0\n",
       "Name: Fine, dtype: float64"
      ]
     },
     "execution_count": 123,
     "metadata": {
      "tags": []
     },
     "output_type": "execute_result"
    }
   ],
   "source": [
    "temp.sort_values(ascending=False)[:10]"
   ]
  },
  {
   "cell_type": "code",
   "execution_count": 120,
   "metadata": {
    "colab": {
     "base_uri": "https://localhost:8080/",
     "height": 419
    },
    "executionInfo": {
     "elapsed": 1062,
     "status": "ok",
     "timestamp": 1626645060146,
     "user": {
      "displayName": "Samantha Roberts",
      "photoUrl": "",
      "userId": "12336021266384650140"
     },
     "user_tz": 240
    },
    "id": "nHk5Y6C4jnoD",
    "outputId": "43a847e4-71a1-4b51-9c3d-d425ddff19ea"
   },
   "outputs": [
    {
     "data": {
      "text/html": [
       "<div>\n",
       "<style scoped>\n",
       "    .dataframe tbody tr th:only-of-type {\n",
       "        vertical-align: middle;\n",
       "    }\n",
       "\n",
       "    .dataframe tbody tr th {\n",
       "        vertical-align: top;\n",
       "    }\n",
       "\n",
       "    .dataframe thead th {\n",
       "        text-align: right;\n",
       "    }\n",
       "</style>\n",
       "<table border=\"1\" class=\"dataframe\">\n",
       "  <thead>\n",
       "    <tr style=\"text-align: right;\">\n",
       "      <th></th>\n",
       "      <th>Violation Code</th>\n",
       "      <th>Violation Description</th>\n",
       "    </tr>\n",
       "  </thead>\n",
       "  <tbody>\n",
       "    <tr>\n",
       "      <th>7</th>\n",
       "      <td>36</td>\n",
       "      <td>PHTO SCHOOL ZN SPEED VIOLATION</td>\n",
       "    </tr>\n",
       "    <tr>\n",
       "      <th>8</th>\n",
       "      <td>36</td>\n",
       "      <td>PHTO SCHOOL ZN SPEED VIOLATION</td>\n",
       "    </tr>\n",
       "    <tr>\n",
       "      <th>12</th>\n",
       "      <td>36</td>\n",
       "      <td>PHTO SCHOOL ZN SPEED VIOLATION</td>\n",
       "    </tr>\n",
       "    <tr>\n",
       "      <th>19</th>\n",
       "      <td>36</td>\n",
       "      <td>PHTO SCHOOL ZN SPEED VIOLATION</td>\n",
       "    </tr>\n",
       "    <tr>\n",
       "      <th>35</th>\n",
       "      <td>36</td>\n",
       "      <td>PHTO SCHOOL ZN SPEED VIOLATION</td>\n",
       "    </tr>\n",
       "    <tr>\n",
       "      <th>...</th>\n",
       "      <td>...</td>\n",
       "      <td>...</td>\n",
       "    </tr>\n",
       "    <tr>\n",
       "      <th>10764507</th>\n",
       "      <td>36</td>\n",
       "      <td>PHTO SCHOOL ZN SPEED VIOLATION</td>\n",
       "    </tr>\n",
       "    <tr>\n",
       "      <th>10764508</th>\n",
       "      <td>36</td>\n",
       "      <td>PHTO SCHOOL ZN SPEED VIOLATION</td>\n",
       "    </tr>\n",
       "    <tr>\n",
       "      <th>10764509</th>\n",
       "      <td>36</td>\n",
       "      <td>PHTO SCHOOL ZN SPEED VIOLATION</td>\n",
       "    </tr>\n",
       "    <tr>\n",
       "      <th>10764510</th>\n",
       "      <td>36</td>\n",
       "      <td>PHTO SCHOOL ZN SPEED VIOLATION</td>\n",
       "    </tr>\n",
       "    <tr>\n",
       "      <th>10764511</th>\n",
       "      <td>36</td>\n",
       "      <td>PHTO SCHOOL ZN SPEED VIOLATION</td>\n",
       "    </tr>\n",
       "  </tbody>\n",
       "</table>\n",
       "<p>1400614 rows × 2 columns</p>\n",
       "</div>"
      ],
      "text/plain": [
       "          Violation Code           Violation Description\n",
       "7                     36  PHTO SCHOOL ZN SPEED VIOLATION\n",
       "8                     36  PHTO SCHOOL ZN SPEED VIOLATION\n",
       "12                    36  PHTO SCHOOL ZN SPEED VIOLATION\n",
       "19                    36  PHTO SCHOOL ZN SPEED VIOLATION\n",
       "35                    36  PHTO SCHOOL ZN SPEED VIOLATION\n",
       "...                  ...                             ...\n",
       "10764507              36  PHTO SCHOOL ZN SPEED VIOLATION\n",
       "10764508              36  PHTO SCHOOL ZN SPEED VIOLATION\n",
       "10764509              36  PHTO SCHOOL ZN SPEED VIOLATION\n",
       "10764510              36  PHTO SCHOOL ZN SPEED VIOLATION\n",
       "10764511              36  PHTO SCHOOL ZN SPEED VIOLATION\n",
       "\n",
       "[1400614 rows x 2 columns]"
      ]
     },
     "execution_count": 120,
     "metadata": {
      "tags": []
     },
     "output_type": "execute_result"
    }
   ],
   "source": [
    "merged_df[['Violation Code', 'Violation Description']][merged_df['Violation Description'] == 'PHTO SCHOOL ZN SPEED VIOLATION']"
   ]
  },
  {
   "cell_type": "code",
   "execution_count": 124,
   "metadata": {
    "colab": {
     "base_uri": "https://localhost:8080/",
     "height": 419
    },
    "executionInfo": {
     "elapsed": 1015,
     "status": "ok",
     "timestamp": 1626645276700,
     "user": {
      "displayName": "Samantha Roberts",
      "photoUrl": "",
      "userId": "12336021266384650140"
     },
     "user_tz": 240
    },
    "id": "TdUKTnIMjnlH",
    "outputId": "a99e42b1-b99d-4b6d-90da-c701e37b15ed"
   },
   "outputs": [
    {
     "data": {
      "text/html": [
       "<div>\n",
       "<style scoped>\n",
       "    .dataframe tbody tr th:only-of-type {\n",
       "        vertical-align: middle;\n",
       "    }\n",
       "\n",
       "    .dataframe tbody tr th {\n",
       "        vertical-align: top;\n",
       "    }\n",
       "\n",
       "    .dataframe thead th {\n",
       "        text-align: right;\n",
       "    }\n",
       "</style>\n",
       "<table border=\"1\" class=\"dataframe\">\n",
       "  <thead>\n",
       "    <tr style=\"text-align: right;\">\n",
       "      <th></th>\n",
       "      <th>Violation Code</th>\n",
       "      <th>Violation Description</th>\n",
       "    </tr>\n",
       "  </thead>\n",
       "  <tbody>\n",
       "    <tr>\n",
       "      <th>0</th>\n",
       "      <td>7</td>\n",
       "      <td>FAILURE TO STOP AT RED LIGHT</td>\n",
       "    </tr>\n",
       "    <tr>\n",
       "      <th>1</th>\n",
       "      <td>7</td>\n",
       "      <td>FAILURE TO STOP AT RED LIGHT</td>\n",
       "    </tr>\n",
       "    <tr>\n",
       "      <th>5</th>\n",
       "      <td>7</td>\n",
       "      <td>FAILURE TO STOP AT RED LIGHT</td>\n",
       "    </tr>\n",
       "    <tr>\n",
       "      <th>16</th>\n",
       "      <td>7</td>\n",
       "      <td>FAILURE TO STOP AT RED LIGHT</td>\n",
       "    </tr>\n",
       "    <tr>\n",
       "      <th>90</th>\n",
       "      <td>7</td>\n",
       "      <td>FAILURE TO STOP AT RED LIGHT</td>\n",
       "    </tr>\n",
       "    <tr>\n",
       "      <th>...</th>\n",
       "      <td>...</td>\n",
       "      <td>...</td>\n",
       "    </tr>\n",
       "    <tr>\n",
       "      <th>10797214</th>\n",
       "      <td>7</td>\n",
       "      <td>FAILURE TO STOP AT RED LIGHT</td>\n",
       "    </tr>\n",
       "    <tr>\n",
       "      <th>10797215</th>\n",
       "      <td>7</td>\n",
       "      <td>FAILURE TO STOP AT RED LIGHT</td>\n",
       "    </tr>\n",
       "    <tr>\n",
       "      <th>10797216</th>\n",
       "      <td>7</td>\n",
       "      <td>FAILURE TO STOP AT RED LIGHT</td>\n",
       "    </tr>\n",
       "    <tr>\n",
       "      <th>10797217</th>\n",
       "      <td>7</td>\n",
       "      <td>FAILURE TO STOP AT RED LIGHT</td>\n",
       "    </tr>\n",
       "    <tr>\n",
       "      <th>10797218</th>\n",
       "      <td>7</td>\n",
       "      <td>FAILURE TO STOP AT RED LIGHT</td>\n",
       "    </tr>\n",
       "  </tbody>\n",
       "</table>\n",
       "<p>516395 rows × 2 columns</p>\n",
       "</div>"
      ],
      "text/plain": [
       "          Violation Code         Violation Description\n",
       "0                      7  FAILURE TO STOP AT RED LIGHT\n",
       "1                      7  FAILURE TO STOP AT RED LIGHT\n",
       "5                      7  FAILURE TO STOP AT RED LIGHT\n",
       "16                     7  FAILURE TO STOP AT RED LIGHT\n",
       "90                     7  FAILURE TO STOP AT RED LIGHT\n",
       "...                  ...                           ...\n",
       "10797214               7  FAILURE TO STOP AT RED LIGHT\n",
       "10797215               7  FAILURE TO STOP AT RED LIGHT\n",
       "10797216               7  FAILURE TO STOP AT RED LIGHT\n",
       "10797217               7  FAILURE TO STOP AT RED LIGHT\n",
       "10797218               7  FAILURE TO STOP AT RED LIGHT\n",
       "\n",
       "[516395 rows x 2 columns]"
      ]
     },
     "execution_count": 124,
     "metadata": {
      "tags": []
     },
     "output_type": "execute_result"
    }
   ],
   "source": [
    "merged_df[['Violation Code', 'Violation Description']][merged_df['Violation Description'] == 'FAILURE TO STOP AT RED LIGHT']"
   ]
  },
  {
   "cell_type": "markdown",
   "metadata": {
    "id": "tBiFbCGvntoM"
   },
   "source": [
    "**so there are two kinds of tickets that are not parking violations but ARE *moving* violations**\n",
    "- 516395 for Failure to stop at red light\n",
    "- 1400614 for Photo School Zone speed violation \n",
    "\n",
    "**Let's look into these two back in the raw df and see what locations they occur at**"
   ]
  },
  {
   "cell_type": "code",
   "execution_count": 139,
   "metadata": {
    "colab": {
     "base_uri": "https://localhost:8080/"
    },
    "executionInfo": {
     "elapsed": 1175,
     "status": "ok",
     "timestamp": 1626646880957,
     "user": {
      "displayName": "Samantha Roberts",
      "photoUrl": "",
      "userId": "12336021266384650140"
     },
     "user_tz": 240
    },
    "id": "gPpgcVVktXPT",
    "outputId": "53f63e6f-0918-4787-ab8d-c38b6f36aad8"
   },
   "outputs": [
    {
     "data": {
      "text/plain": [
       "167"
      ]
     },
     "execution_count": 139,
     "metadata": {
      "tags": []
     },
     "output_type": "execute_result"
    }
   ],
   "source": [
    "raw_df[(raw_df[\"Violation Code\"] == 7)]['Street Name'].nunique()"
   ]
  },
  {
   "cell_type": "code",
   "execution_count": 140,
   "metadata": {
    "colab": {
     "base_uri": "https://localhost:8080/"
    },
    "executionInfo": {
     "elapsed": 1429,
     "status": "ok",
     "timestamp": 1626646905046,
     "user": {
      "displayName": "Samantha Roberts",
      "photoUrl": "",
      "userId": "12336021266384650140"
     },
     "user_tz": 240
    },
    "id": "JDBD0sL0tXEW",
    "outputId": "0f55af69-4d7e-46a2-9a19-6b6883df93cf"
   },
   "outputs": [
    {
     "data": {
      "text/plain": [
       "array(['ALLERTON AVE (W/B) @', 'NORTHERN BLVD (E/B)',\n",
       "       'SO CONDUIT AVE (E/B)', 'ATLANTIC AVE (E/B) @',\n",
       "       'SB OCEAN PKWY @ 18TH', 'ATLANTIC AVE (W/B) @',\n",
       "       'BORDEN AVE (E/B) @ G', 'WILLIAMSBURG ST (S/B',\n",
       "       'BROADWAY (S/B) @ SHE', 'QUEENS BLVD (W/B) @',\n",
       "       'HILLSIDE AVE (W/B) @', 'WOODHAVEN BLVD (N/B)',\n",
       "       'GRAND CONCOURSE (N/B', 'NB OCEAN PKWY @ AVEN',\n",
       "       '86TH ST (E/B) @ 7TH', 'NORTHERN BLVD (W/B)',\n",
       "       '222ND ST (E/B) @ PAU', '23RD AVE (E/B) @ 94T',\n",
       "       'WEST END AVE (S/B) @', 'KINGS HWY (S/B) @ RE',\n",
       "       'VICTORY BLVD (W/B) @', '3RD AVE (N/B) @ 36TH',\n",
       "       'BEACH CHANNEL DR (S/', 'KISSENA BLVD (S/B) @',\n",
       "       'WHITESTONE EXPWY SVC', 'L.I.E. N. SVC ROAD (',\n",
       "       'LINDEN BLVD (E/B) @', 'E 135TH ST (W/B) @ A',\n",
       "       'CONEY ISLAND AVE (S/', '5TH AVE (S/B) @ 40TH',\n",
       "       '39TH ST (N/B) @ NORT', 'VAN WYCK EXP SVC RD',\n",
       "       'FRANCIS LEWIS BLVD (', 'CROSS BRONX EXPWY (W',\n",
       "       'PENNSYLVANIA AVE (N/', 'GUN HILL ROAD (W/B)',\n",
       "       'WB N CONDUIT AVE @ V', 'HAMILTON AVE (N/B) @',\n",
       "       'QUEENS BLVD (E/B) @', 'BOOTH MEMORIAL AVE (',\n",
       "       'ARTHUR KILL RD (W/B)', 'ROCKAWAY BLVD (W/B)',\n",
       "       'WEST ST (N/B) @ W HO', 'CLASSON AVE (N/B) @',\n",
       "       'EASTERN PKWY (W/B) @', 'EB GRAND CENTRAL PKW',\n",
       "       'FLATBUSH AVE (N/B) @', 'ASTORIA BLVD (E/B) @',\n",
       "       'CROSSBAY BLVD (S/B)', 'QUEENS MIDTOWN EXPWY',\n",
       "       'SEAGIRT BLVD (E/B) @', 'PENNSYLVANIA AVE (S/',\n",
       "       'OCEAN PKWY (S/B) @ A', 'STEINWAY ST (S/B) @',\n",
       "       'RICHMOND AVE (N/B) @', 'WB QUEENS BLVD @ 70T',\n",
       "       'ROCKAWAY PKWY (N/B)', 'CADMAN PLAZA (E/B) @',\n",
       "       'GRAND CONCOURSE (S/B', 'BRONX RIVER PKWY OFF',\n",
       "       'N CONDUIT AVE (W/B)', 'OCEAN PKWY (N/B) @ A',\n",
       "       'EASTCHESTER ROAD (S/', 'EASTERN PKWY (E/B) @',\n",
       "       'WEST ST (S/B) @ W HO', 'NB OCEAN PKWY @ 18TH',\n",
       "       'HORACE HARDING EXPWY', 'BEACH CHANNEL DR (W/',\n",
       "       'BAY PKWY (S/B) @ 65T', 'ROCKAWAY BLVD (N/B)',\n",
       "       '12TH AVE (S/B) @ 23R', 'BRUCKNER BLVD (E/B)',\n",
       "       'REMSEN AVE (N/B) @ W', 'SEAGIRT BLVD (W/B) @',\n",
       "       'BRUCKNER BLVD (W/B)', '2ND AVE (S/B) @ 26TH',\n",
       "       'SB OCEAN PKWY @ AVEN', 'EB 65TH ST @ 16TH AV',\n",
       "       '3RD AVE (S/B) @ E 13', 'SB RICHMOND RD @ NAR',\n",
       "       'ASTORIA BLVD S (E/B)', 'HOYT AVE (S/B) @ 31S',\n",
       "       '222ND ST (W/B) @ PAU', 'WEST ST (S/B) @ 14TH',\n",
       "       'CROSSBAY BLVD (N/B)', 'WB QUEENS BLVD @ 58T',\n",
       "       'WB ATLANTIC AVE @ RO', 'WB NORTHERN BLVD @ 4',\n",
       "       '12TH AVE (S/B) @ 34T', 'SB RICHMOND AVE @ AR',\n",
       "       'YORK AVE (N/B) @ E 7', 'CLOVE RD (N/B) @ BAR',\n",
       "       'RICHMOND RD (W/B) @', 'ARTHUR KILL RD (E/B)',\n",
       "       'RICHMOND AVE (S/B) @', 'S CONDUIT AVE (E/B)',\n",
       "       'ASTORIA BLVD (W/B) @', 'EB UNION TPKE @ WOOD',\n",
       "       'AMSTERDAM AVE (N/B)', 'CLOVE RD (N/B) @ CHE',\n",
       "       'REMSEN AVE (N/B) @ L', 'CLOVE RD (S/B) @ CHE',\n",
       "       'VICTORY BLVD (E/B) @', 'SO GANNON AVE (E/B)',\n",
       "       'EB ATLANTIC AVE @ RO', 'LINDEN BLVD (W/B) @',\n",
       "       'W FORDHAM RD (W/B) @', 'WHITE PLAINS RD (S/B',\n",
       "       'BRONXDALE AVE (W/B)', 'SUNRISE HWY (W/B) @',\n",
       "       'JAMAICA AVE (E/B) @', 'SURF AVE (W/B) @ W 5',\n",
       "       'ROCKAWAY BLVD (E/B)', 'GUN HILL RD (E/B) @',\n",
       "       'GUN HILL ROAD (E/B)', 'HOWARD AVE (N/B) @ E',\n",
       "       'RICHMOND RD (E/B) @', 'JAMAICA AVE (W/B) @',\n",
       "       'MCDONALD AVE (S/B) @', 'MADISON AVE (N/B) @',\n",
       "       'NARROWS RD (W/B) @ C', 'BARTOW AVE (E/B) @ C',\n",
       "       'FATHER CAPODANNO BLV', 'FOREST AVE (W/B) @ S',\n",
       "       'MCDONALD AVE (N/B) @', 'EB QUEENS BLVD @ GRA',\n",
       "       'E FORDHAM RD (E/B) @', 'OCEAN PKWY (N/B) @ S',\n",
       "       '12TH AVE (N/B) @ W 5', 'OCEAN PKWY (N/B) @ C',\n",
       "       'KINGS HWY (E/B) @ NO', 'KINGS HWY (N/B) @ BE',\n",
       "       'ALLERTON AVE (E/B) @', 'FLATBUSH AVE (S/B) @',\n",
       "       'E 135TH ST (W/B) @ 3', '4TH AVE (S/B) @ 60TH',\n",
       "       'TILLARY ST (E/B) @ F', 'WB ATLANTIC AVE @ LO',\n",
       "       'NARROWS RD (W/B) @ R', 'MILFORD DR (E/B) @ C',\n",
       "       '12TH AVE (N/B) @ 42N', 'HYLAN BLVD (E/B) @ B',\n",
       "       '4TH AVE (N/B) @ 18TH', 'SB 108TH ST @ HORACE',\n",
       "       'WOODHAVEN BLVD (S/B)', 'EB QUEENS BLVD @ 71S',\n",
       "       'BOSTON RD (E/B) @ PE', 'CROPSEY AVE (W/B) @',\n",
       "       'OCEAN PKWY (S/B) @ S', '10TH AVE (N/B) @ WES',\n",
       "       'ROCKAWAY PKWY (S/B)', 'ROCKAWAY BLVD (S/B)',\n",
       "       '8TH AVE (N/B) @ 57TH', 'NWB REMSEN AVE @ LIN',\n",
       "       'BAY PKWY (E/B) @ STI', 'NB WOODHAVEN BLVD @',\n",
       "       'FOREST AVE (E/B) @ S', 'PARK AVE (W/B) @ WAS',\n",
       "       'NB UTOPIA PKWY @ HOR', 'BEDFORD AVE (N/B) @', '7TH AVE',\n",
       "       'LUTEN AVE (S/B) @ HY', '3 AVE', 'PIKE ST', 'DYCKMAN ST',\n",
       "       '8TH AVE', 'FLATBUSH PL'], dtype=object)"
      ]
     },
     "execution_count": 140,
     "metadata": {
      "tags": []
     },
     "output_type": "execute_result"
    }
   ],
   "source": [
    "raw_df[(raw_df[\"Violation Code\"] == 7)]['Street Name'].unique()"
   ]
  },
  {
   "cell_type": "code",
   "execution_count": 157,
   "metadata": {
    "colab": {
     "base_uri": "https://localhost:8080/"
    },
    "executionInfo": {
     "elapsed": 1082,
     "status": "ok",
     "timestamp": 1626662486609,
     "user": {
      "displayName": "Samantha Roberts",
      "photoUrl": "",
      "userId": "12336021266384650140"
     },
     "user_tz": 240
    },
    "id": "8fCH9VjotWzs",
    "outputId": "bbf979db-8469-4012-ee34-12f7607a2864"
   },
   "outputs": [
    {
     "data": {
      "text/plain": [
       "HORACE HARDING EXPWY    28373\n",
       "ATLANTIC AVE (E/B) @    23486\n",
       "ATLANTIC AVE (W/B) @    18069\n",
       "NORTHERN BLVD (E/B)     17213\n",
       "QUEENS BLVD (W/B) @     15761\n",
       "QUEENS BLVD (E/B) @     12150\n",
       "ASTORIA BLVD S (E/B)    11671\n",
       "FLATBUSH AVE (N/B) @    10338\n",
       "BEACH CHANNEL DR (W/    10268\n",
       "HAMILTON AVE (N/B) @     9511\n",
       "EASTERN PKWY (W/B) @     8802\n",
       "OCEAN PKWY (N/B) @ A     8190\n",
       "EB GRAND CENTRAL PKW     8105\n",
       "WOODHAVEN BLVD (N/B)     8012\n",
       "CONEY ISLAND AVE (S/     7569\n",
       "Name: Street Name, dtype: int64"
      ]
     },
     "execution_count": 157,
     "metadata": {
      "tags": []
     },
     "output_type": "execute_result"
    }
   ],
   "source": [
    "raw_df[(raw_df[\"Violation Code\"] == 7)]['Street Name'].value_counts().head(15)\n"
   ]
  },
  {
   "cell_type": "code",
   "execution_count": 161,
   "metadata": {
    "colab": {
     "base_uri": "https://localhost:8080/"
    },
    "executionInfo": {
     "elapsed": 937,
     "status": "ok",
     "timestamp": 1626662730721,
     "user": {
      "displayName": "Samantha Roberts",
      "photoUrl": "",
      "userId": "12336021266384650140"
     },
     "user_tz": 240
    },
    "id": "fFez2d4Mo_nT",
    "outputId": "9858a0e6-3c14-44e8-990c-40f75a620ddd"
   },
   "outputs": [
    {
     "data": {
      "text/plain": [
       "QN    212340\n",
       "BK    178920\n",
       "BX     53840\n",
       "ST     40678\n",
       "MN     30610\n",
       "NY         6\n",
       "K          1\n",
       "Name: Violation County, dtype: int64"
      ]
     },
     "execution_count": 161,
     "metadata": {
      "tags": []
     },
     "output_type": "execute_result"
    }
   ],
   "source": [
    "raw_df[(raw_df[\"Violation Code\"] == 7)]['Violation County'].value_counts()"
   ]
  },
  {
   "cell_type": "code",
   "execution_count": null,
   "metadata": {
    "id": "Z5STBpPqo_iC"
   },
   "outputs": [],
   "source": []
  },
  {
   "cell_type": "code",
   "execution_count": null,
   "metadata": {
    "id": "ipuOOUGqo_Vm"
   },
   "outputs": [],
   "source": []
  },
  {
   "cell_type": "code",
   "execution_count": 149,
   "metadata": {
    "colab": {
     "base_uri": "https://localhost:8080/"
    },
    "executionInfo": {
     "elapsed": 1970,
     "status": "ok",
     "timestamp": 1626662024070,
     "user": {
      "displayName": "Samantha Roberts",
      "photoUrl": "",
      "userId": "12336021266384650140"
     },
     "user_tz": 240
    },
    "id": "npYZ84n2jniH",
    "outputId": "cc2b3130-8265-4016-d708-06a2a81695f5"
   },
   "outputs": [
    {
     "data": {
      "text/plain": [
       "731"
      ]
     },
     "execution_count": 149,
     "metadata": {
      "tags": []
     },
     "output_type": "execute_result"
    }
   ],
   "source": [
    "raw_df[(raw_df[\"Violation Code\"] == 36)]['Street Name'].nunique()"
   ]
  },
  {
   "cell_type": "code",
   "execution_count": 156,
   "metadata": {
    "colab": {
     "base_uri": "https://localhost:8080/"
    },
    "executionInfo": {
     "elapsed": 1443,
     "status": "ok",
     "timestamp": 1626662213275,
     "user": {
      "displayName": "Samantha Roberts",
      "photoUrl": "",
      "userId": "12336021266384650140"
     },
     "user_tz": 240
    },
    "id": "EZmlh5mVnst_",
    "outputId": "09d854fe-3994-4a6b-f9dd-dd3c759b4ace"
   },
   "outputs": [
    {
     "data": {
      "text/plain": [
       "1400614"
      ]
     },
     "execution_count": 156,
     "metadata": {
      "tags": []
     },
     "output_type": "execute_result"
    }
   ],
   "source": [
    "raw_df[(raw_df[\"Violation Code\"] == 36)]['Street Name'].value_counts().sum()"
   ]
  },
  {
   "cell_type": "code",
   "execution_count": 137,
   "metadata": {
    "executionInfo": {
     "elapsed": 885,
     "status": "ok",
     "timestamp": 1626646495666,
     "user": {
      "displayName": "Samantha Roberts",
      "photoUrl": "",
      "userId": "12336021266384650140"
     },
     "user_tz": 240
    },
    "id": "L-oW2E8onsd5"
   },
   "outputs": [],
   "source": []
  },
  {
   "cell_type": "code",
   "execution_count": null,
   "metadata": {
    "id": "DYnZI29_nsaY"
   },
   "outputs": [],
   "source": []
  },
  {
   "cell_type": "code",
   "execution_count": null,
   "metadata": {
    "id": "sgkmlc9JnsW1"
   },
   "outputs": [],
   "source": []
  },
  {
   "cell_type": "code",
   "execution_count": null,
   "metadata": {
    "id": "X6bnlUuDnsOG"
   },
   "outputs": [],
   "source": []
  },
  {
   "cell_type": "markdown",
   "metadata": {
    "id": "SBgDWASBrzNN"
   },
   "source": [
    "\n",
    "\n",
    "---\n",
    "\n"
   ]
  },
  {
   "cell_type": "markdown",
   "metadata": {
    "id": "gLSwvUetpgle"
   },
   "source": [
    "# Q9 What is the breakdown of 'Issuing Agencies' in the data?  \n",
    "- For This we need to scrape the [NYC Open Data Website](https://data.cityofnewyork.us/City-Government/Parking-Violations-Issued-Fiscal-Year-2021/pvqr-7yc4).  2021 is apparently the only year where the data description lists the agencies and their abbreviations.  (The data CSV's only contain the abreviations)\n",
    "- We will use the BeautifulSoup library to parse the HTML **(Need Selenium)!**\n",
    "\n",
    "- We will then convert the text into a pandas dataframe \n",
    "- We will merge this with our 'Tickets Issued' and 'Violationn Fines' dataframe for analysis"
   ]
  },
  {
   "cell_type": "code",
   "execution_count": 88,
   "metadata": {
    "executionInfo": {
     "elapsed": 12,
     "status": "ok",
     "timestamp": 1626643751618,
     "user": {
      "displayName": "Samantha Roberts",
      "photoUrl": "",
      "userId": "12336021266384650140"
     },
     "user_tz": 240
    },
    "id": "_P2aIkndtmiD"
   },
   "outputs": [],
   "source": [
    "# from bs4 import BeautifulSoup\n",
    "# import requests\n",
    "\n",
    "# parking_violations_url = 'https://data.cityofnewyork.us/City-Government/Parking-Violations-Issued-Fiscal-Year-2021/pvqr-7yc4'\n",
    "# soup = BeautifulSoup(requests.get(parking_violations_url).text)\n",
    "# soup.find_all('table')#, class_='wikitable sortable plainrowheaders')"
   ]
  },
  {
   "cell_type": "markdown",
   "metadata": {
    "id": "grS6xDIf42kS"
   },
   "source": [
    "**For now (until I can scrape the above page with Selenium), I will manually copy pase the text string in**\n",
    "- We can then read it into a pandas dataframe using io.StringIO"
   ]
  },
  {
   "cell_type": "code",
   "execution_count": 89,
   "metadata": {
    "colab": {
     "base_uri": "https://localhost:8080/",
     "height": 1000
    },
    "executionInfo": {
     "elapsed": 12,
     "status": "ok",
     "timestamp": 1626643751620,
     "user": {
      "displayName": "Samantha Roberts",
      "photoUrl": "",
      "userId": "12336021266384650140"
     },
     "user_tz": 240
    },
    "id": "PwNHjgrotmZx",
    "outputId": "fd2decd4-85e9-45e9-9c28-b103524965a8"
   },
   "outputs": [
    {
     "data": {
      "text/html": [
       "<div>\n",
       "<style scoped>\n",
       "    .dataframe tbody tr th:only-of-type {\n",
       "        vertical-align: middle;\n",
       "    }\n",
       "\n",
       "    .dataframe tbody tr th {\n",
       "        vertical-align: top;\n",
       "    }\n",
       "\n",
       "    .dataframe thead th {\n",
       "        text-align: right;\n",
       "    }\n",
       "</style>\n",
       "<table border=\"1\" class=\"dataframe\">\n",
       "  <thead>\n",
       "    <tr style=\"text-align: right;\">\n",
       "      <th></th>\n",
       "      <th>Issuing Agency</th>\n",
       "      <th>Agency Name</th>\n",
       "    </tr>\n",
       "  </thead>\n",
       "  <tbody>\n",
       "    <tr>\n",
       "      <th>0</th>\n",
       "      <td>A</td>\n",
       "      <td>PORT AUTHORITY</td>\n",
       "    </tr>\n",
       "    <tr>\n",
       "      <th>1</th>\n",
       "      <td>B</td>\n",
       "      <td>TRIBOROUGH BRIDGE AND TUNNEL POLICE</td>\n",
       "    </tr>\n",
       "    <tr>\n",
       "      <th>2</th>\n",
       "      <td>C</td>\n",
       "      <td>CON RAIL</td>\n",
       "    </tr>\n",
       "    <tr>\n",
       "      <th>3</th>\n",
       "      <td>D</td>\n",
       "      <td>DEPARTMENT OF BUSINESS SERVICES</td>\n",
       "    </tr>\n",
       "    <tr>\n",
       "      <th>4</th>\n",
       "      <td>E</td>\n",
       "      <td>BOARD OF ESTIMATE</td>\n",
       "    </tr>\n",
       "    <tr>\n",
       "      <th>5</th>\n",
       "      <td>F</td>\n",
       "      <td>FIRE DEPARTMENT</td>\n",
       "    </tr>\n",
       "    <tr>\n",
       "      <th>6</th>\n",
       "      <td>G</td>\n",
       "      <td>TAXI AND LIMOUSINE COMMISSION</td>\n",
       "    </tr>\n",
       "    <tr>\n",
       "      <th>7</th>\n",
       "      <td>H</td>\n",
       "      <td>HOUSING AUTHORITY</td>\n",
       "    </tr>\n",
       "    <tr>\n",
       "      <th>8</th>\n",
       "      <td>I</td>\n",
       "      <td>STATEN ISLAND RAPID TRANSIT POLICE</td>\n",
       "    </tr>\n",
       "    <tr>\n",
       "      <th>9</th>\n",
       "      <td>J</td>\n",
       "      <td>AMTRAK RAILROAD POLICE</td>\n",
       "    </tr>\n",
       "    <tr>\n",
       "      <th>10</th>\n",
       "      <td>K</td>\n",
       "      <td>PARKS DEPARTMENT</td>\n",
       "    </tr>\n",
       "    <tr>\n",
       "      <th>11</th>\n",
       "      <td>L</td>\n",
       "      <td>LONG ISLAND RAILROAD</td>\n",
       "    </tr>\n",
       "    <tr>\n",
       "      <th>12</th>\n",
       "      <td>M</td>\n",
       "      <td>TRANSIT AUTHORITY</td>\n",
       "    </tr>\n",
       "    <tr>\n",
       "      <th>13</th>\n",
       "      <td>N</td>\n",
       "      <td>NYS PARKS POLICE</td>\n",
       "    </tr>\n",
       "    <tr>\n",
       "      <th>14</th>\n",
       "      <td>O</td>\n",
       "      <td>NYS COURT OFFICERS</td>\n",
       "    </tr>\n",
       "    <tr>\n",
       "      <th>15</th>\n",
       "      <td>P</td>\n",
       "      <td>POLICE DEPARTMENT</td>\n",
       "    </tr>\n",
       "    <tr>\n",
       "      <th>16</th>\n",
       "      <td>Q</td>\n",
       "      <td>DEPARTMENT OF CORRECTION</td>\n",
       "    </tr>\n",
       "    <tr>\n",
       "      <th>17</th>\n",
       "      <td>R</td>\n",
       "      <td>NYC TRANSIT AUTHORITY MANAGERS</td>\n",
       "    </tr>\n",
       "    <tr>\n",
       "      <th>18</th>\n",
       "      <td>S</td>\n",
       "      <td>DEPARTMENT OF SANITATION</td>\n",
       "    </tr>\n",
       "    <tr>\n",
       "      <th>19</th>\n",
       "      <td>T</td>\n",
       "      <td>TRAFFIC</td>\n",
       "    </tr>\n",
       "    <tr>\n",
       "      <th>20</th>\n",
       "      <td>U</td>\n",
       "      <td>PARKING CONTROL UNIT</td>\n",
       "    </tr>\n",
       "    <tr>\n",
       "      <th>21</th>\n",
       "      <td>V</td>\n",
       "      <td>DEPARTMENT OF TRANSPORTATION</td>\n",
       "    </tr>\n",
       "    <tr>\n",
       "      <th>22</th>\n",
       "      <td>W</td>\n",
       "      <td>HEALTH DEPARTMENT POLICE</td>\n",
       "    </tr>\n",
       "    <tr>\n",
       "      <th>23</th>\n",
       "      <td>X</td>\n",
       "      <td>OTHER/UNKNOWN AGENCIES</td>\n",
       "    </tr>\n",
       "    <tr>\n",
       "      <th>24</th>\n",
       "      <td>Y</td>\n",
       "      <td>HEALTH AND HOSPITAL CORP. POLICE</td>\n",
       "    </tr>\n",
       "    <tr>\n",
       "      <th>25</th>\n",
       "      <td>Z</td>\n",
       "      <td>METRO NORTH RAILROAD POLICE</td>\n",
       "    </tr>\n",
       "    <tr>\n",
       "      <th>26</th>\n",
       "      <td>1</td>\n",
       "      <td>NYS OFFICE OF MENTAL HEALTH POLICE</td>\n",
       "    </tr>\n",
       "    <tr>\n",
       "      <th>27</th>\n",
       "      <td>2</td>\n",
       "      <td>O M R D D</td>\n",
       "    </tr>\n",
       "    <tr>\n",
       "      <th>28</th>\n",
       "      <td>3</td>\n",
       "      <td>ROOSEVELT ISLAND SECURITY</td>\n",
       "    </tr>\n",
       "    <tr>\n",
       "      <th>29</th>\n",
       "      <td>4</td>\n",
       "      <td>SEA GATE ASSOCIATION POLICE</td>\n",
       "    </tr>\n",
       "    <tr>\n",
       "      <th>30</th>\n",
       "      <td>5</td>\n",
       "      <td>SNUG HARBOR CULTURAL CENTER RANGERS</td>\n",
       "    </tr>\n",
       "    <tr>\n",
       "      <th>31</th>\n",
       "      <td>6</td>\n",
       "      <td>WATERFRONT COMMISSION OF NY HARBOR</td>\n",
       "    </tr>\n",
       "    <tr>\n",
       "      <th>32</th>\n",
       "      <td>7</td>\n",
       "      <td>SUNY MARITIME COLLEGE</td>\n",
       "    </tr>\n",
       "    <tr>\n",
       "      <th>33</th>\n",
       "      <td>9</td>\n",
       "      <td>NYC OFFICE OF THE SHERIFF</td>\n",
       "    </tr>\n",
       "  </tbody>\n",
       "</table>\n",
       "</div>"
      ],
      "text/plain": [
       "   Issuing Agency                          Agency Name\n",
       "0               A                       PORT AUTHORITY\n",
       "1               B  TRIBOROUGH BRIDGE AND TUNNEL POLICE\n",
       "2               C                             CON RAIL\n",
       "3               D      DEPARTMENT OF BUSINESS SERVICES\n",
       "4               E                    BOARD OF ESTIMATE\n",
       "5               F                      FIRE DEPARTMENT\n",
       "6               G        TAXI AND LIMOUSINE COMMISSION\n",
       "7               H                    HOUSING AUTHORITY\n",
       "8               I   STATEN ISLAND RAPID TRANSIT POLICE\n",
       "9               J               AMTRAK RAILROAD POLICE\n",
       "10              K                     PARKS DEPARTMENT\n",
       "11              L                 LONG ISLAND RAILROAD\n",
       "12              M                    TRANSIT AUTHORITY\n",
       "13              N                     NYS PARKS POLICE\n",
       "14              O                   NYS COURT OFFICERS\n",
       "15              P                    POLICE DEPARTMENT\n",
       "16              Q             DEPARTMENT OF CORRECTION\n",
       "17              R       NYC TRANSIT AUTHORITY MANAGERS\n",
       "18              S             DEPARTMENT OF SANITATION\n",
       "19              T                              TRAFFIC\n",
       "20              U                 PARKING CONTROL UNIT\n",
       "21              V         DEPARTMENT OF TRANSPORTATION\n",
       "22              W             HEALTH DEPARTMENT POLICE\n",
       "23              X               OTHER/UNKNOWN AGENCIES\n",
       "24              Y     HEALTH AND HOSPITAL CORP. POLICE\n",
       "25              Z          METRO NORTH RAILROAD POLICE\n",
       "26              1   NYS OFFICE OF MENTAL HEALTH POLICE\n",
       "27              2                            O M R D D\n",
       "28              3            ROOSEVELT ISLAND SECURITY\n",
       "29              4          SEA GATE ASSOCIATION POLICE\n",
       "30              5  SNUG HARBOR CULTURAL CENTER RANGERS\n",
       "31              6   WATERFRONT COMMISSION OF NY HARBOR\n",
       "32              7                SUNY MARITIME COLLEGE\n",
       "33              9            NYC OFFICE OF THE SHERIFF"
      ]
     },
     "execution_count": 89,
     "metadata": {
      "tags": []
     },
     "output_type": "execute_result"
    }
   ],
   "source": [
    "import io\n",
    "\n",
    "web_text = 'A-PORT AUTHORITY, B-TRIBOROUGH BRIDGE AND TUNNEL POLICE, C-CON RAIL, D-DEPARTMENT OF BUSINESS SERVICES, E-BOARD OF ESTIMATE, F-FIRE DEPARTMENT, G-TAXI AND LIMOUSINE COMMISSION, H-HOUSING AUTHORITY, I-STATEN ISLAND RAPID TRANSIT POLICE, J-AMTRAK RAILROAD POLICE, K-PARKS DEPARTMENT, L-LONG ISLAND RAILROAD, M-TRANSIT AUTHORITY, N-NYS PARKS POLICE, O-NYS COURT OFFICERS, P-POLICE DEPARTMENT, Q-DEPARTMENT OF CORRECTION, R-NYC TRANSIT AUTHORITY MANAGERS, S-DEPARTMENT OF SANITATION, T-TRAFFIC, U-PARKING CONTROL UNIT, V-DEPARTMENT OF TRANSPORTATION, W-HEALTH DEPARTMENT POLICE, X-OTHER/UNKNOWN AGENCIES, Y-HEALTH AND HOSPITAL CORP. POLICE, Z-METRO NORTH RAILROAD POLICE, 1-NYS OFFICE OF MENTAL HEALTH POLICE, 2-O M R D D, 3-ROOSEVELT ISLAND SECURITY, 4-SEA GATE ASSOCIATION POLICE, 5-SNUG HARBOR CULTURAL CENTER RANGERS, 6-WATERFRONT COMMISSION OF NY HARBOR, 7-SUNY MARITIME COLLEGE, 9-NYC OFFICE OF THE SHERIFF'\n",
    "issuing_agency_df = pd.read_csv( io.StringIO(web_text), sep=',', header=None).T.rename(columns={0: 'Agency'})\n",
    "issuing_agency_df = pd.DataFrame(issuing_agency_df.Agency.str.split('-',1).tolist(),\n",
    "                                 columns = ['Issuing Agency','Agency Name'])\n",
    "issuing_agency_df['Issuing Agency'] = issuing_agency_df['Issuing Agency'].str.strip() # Sees to still be whitespace so cnt merge properly\n",
    "issuing_agency_df"
   ]
  },
  {
   "cell_type": "code",
   "execution_count": 90,
   "metadata": {
    "executionInfo": {
     "elapsed": 3825,
     "status": "ok",
     "timestamp": 1626643755705,
     "user": {
      "displayName": "Samantha Roberts",
      "photoUrl": "",
      "userId": "12336021266384650140"
     },
     "user_tz": 240
    },
    "id": "v3Xi88z45xWA"
   },
   "outputs": [],
   "source": [
    "merged_df2 = pd.merge(merged_df, issuing_agency_df, on='Issuing Agency', how='left')"
   ]
  },
  {
   "cell_type": "code",
   "execution_count": 95,
   "metadata": {
    "executionInfo": {
     "elapsed": 247,
     "status": "ok",
     "timestamp": 1626643930175,
     "user": {
      "displayName": "Samantha Roberts",
      "photoUrl": "",
      "userId": "12336021266384650140"
     },
     "user_tz": 240
    },
    "id": "VI69S2L-5xSi"
   },
   "outputs": [],
   "source": [
    "agency_totals_df = pd.DataFrame(merged_df2['Agency Name'].value_counts())\n",
    "agency_totals_df = agency_totals_df.head(5)"
   ]
  },
  {
   "cell_type": "code",
   "execution_count": 100,
   "metadata": {
    "colab": {
     "base_uri": "https://localhost:8080/",
     "height": 617
    },
    "executionInfo": {
     "elapsed": 238,
     "status": "ok",
     "timestamp": 1626643989238,
     "user": {
      "displayName": "Samantha Roberts",
      "photoUrl": "",
      "userId": "12336021266384650140"
     },
     "user_tz": 240
    },
    "id": "ciXFGjw1_9dj",
    "outputId": "f1b01fe7-522b-4841-fb35-5c519c0524d1"
   },
   "outputs": [
    {
     "data": {
      "text/html": [
       "<html>\n",
       "<head><meta charset=\"utf-8\" /></head>\n",
       "<body>\n",
       "    <div>            <script src=\"https://cdnjs.cloudflare.com/ajax/libs/mathjax/2.7.5/MathJax.js?config=TeX-AMS-MML_SVG\"></script><script type=\"text/javascript\">if (window.MathJax) {MathJax.Hub.Config({SVG: {font: \"STIX-Web\"}});}</script>                <script type=\"text/javascript\">window.PlotlyConfig = {MathJaxConfig: 'local'};</script>\n",
       "        <script src=\"https://cdn.plot.ly/plotly-2.2.0.min.js\"></script>                <div id=\"01d0d0cf-39cf-46e5-acd0-b3671000515a\" class=\"plotly-graph-div\" style=\"height:600px; width:800px;\"></div>            <script type=\"text/javascript\">                                    window.PLOTLYENV=window.PLOTLYENV || {};                                    if (document.getElementById(\"01d0d0cf-39cf-46e5-acd0-b3671000515a\")) {                    Plotly.newPlot(                        \"01d0d0cf-39cf-46e5-acd0-b3671000515a\",                        [{\"alignmentgroup\":\"True\",\"hovertemplate\":\"Agency Name=%{x}<br>index=%{y}<extra></extra>\",\"legendgroup\":\"\",\"marker\":{\"color\":\"#636efa\",\"pattern\":{\"shape\":\"\"}},\"name\":\"\",\"offsetgroup\":\"\",\"orientation\":\"h\",\"showlegend\":false,\"textposition\":\"auto\",\"type\":\"bar\",\"x\":[7613149,2062644,798244,297754,20470],\"xaxis\":\"x\",\"y\":[\"TRAFFIC\",\"DEPARTMENT OF TRANSPORTATION\",\"POLICE DEPARTMENT\",\"DEPARTMENT OF SANITATION\",\"OTHER/UNKNOWN AGENCIES\"],\"yaxis\":\"y\"}],                        {\"barmode\":\"relative\",\"height\":600,\"legend\":{\"tracegroupgap\":0},\"margin\":{\"t\":60},\"template\":{\"data\":{\"bar\":[{\"error_x\":{\"color\":\"#2a3f5f\"},\"error_y\":{\"color\":\"#2a3f5f\"},\"marker\":{\"line\":{\"color\":\"#E5ECF6\",\"width\":0.5},\"pattern\":{\"fillmode\":\"overlay\",\"size\":10,\"solidity\":0.2}},\"type\":\"bar\"}],\"barpolar\":[{\"marker\":{\"line\":{\"color\":\"#E5ECF6\",\"width\":0.5},\"pattern\":{\"fillmode\":\"overlay\",\"size\":10,\"solidity\":0.2}},\"type\":\"barpolar\"}],\"carpet\":[{\"aaxis\":{\"endlinecolor\":\"#2a3f5f\",\"gridcolor\":\"white\",\"linecolor\":\"white\",\"minorgridcolor\":\"white\",\"startlinecolor\":\"#2a3f5f\"},\"baxis\":{\"endlinecolor\":\"#2a3f5f\",\"gridcolor\":\"white\",\"linecolor\":\"white\",\"minorgridcolor\":\"white\",\"startlinecolor\":\"#2a3f5f\"},\"type\":\"carpet\"}],\"choropleth\":[{\"colorbar\":{\"outlinewidth\":0,\"ticks\":\"\"},\"type\":\"choropleth\"}],\"contour\":[{\"colorbar\":{\"outlinewidth\":0,\"ticks\":\"\"},\"colorscale\":[[0.0,\"#0d0887\"],[0.1111111111111111,\"#46039f\"],[0.2222222222222222,\"#7201a8\"],[0.3333333333333333,\"#9c179e\"],[0.4444444444444444,\"#bd3786\"],[0.5555555555555556,\"#d8576b\"],[0.6666666666666666,\"#ed7953\"],[0.7777777777777778,\"#fb9f3a\"],[0.8888888888888888,\"#fdca26\"],[1.0,\"#f0f921\"]],\"type\":\"contour\"}],\"contourcarpet\":[{\"colorbar\":{\"outlinewidth\":0,\"ticks\":\"\"},\"type\":\"contourcarpet\"}],\"heatmap\":[{\"colorbar\":{\"outlinewidth\":0,\"ticks\":\"\"},\"colorscale\":[[0.0,\"#0d0887\"],[0.1111111111111111,\"#46039f\"],[0.2222222222222222,\"#7201a8\"],[0.3333333333333333,\"#9c179e\"],[0.4444444444444444,\"#bd3786\"],[0.5555555555555556,\"#d8576b\"],[0.6666666666666666,\"#ed7953\"],[0.7777777777777778,\"#fb9f3a\"],[0.8888888888888888,\"#fdca26\"],[1.0,\"#f0f921\"]],\"type\":\"heatmap\"}],\"heatmapgl\":[{\"colorbar\":{\"outlinewidth\":0,\"ticks\":\"\"},\"colorscale\":[[0.0,\"#0d0887\"],[0.1111111111111111,\"#46039f\"],[0.2222222222222222,\"#7201a8\"],[0.3333333333333333,\"#9c179e\"],[0.4444444444444444,\"#bd3786\"],[0.5555555555555556,\"#d8576b\"],[0.6666666666666666,\"#ed7953\"],[0.7777777777777778,\"#fb9f3a\"],[0.8888888888888888,\"#fdca26\"],[1.0,\"#f0f921\"]],\"type\":\"heatmapgl\"}],\"histogram\":[{\"marker\":{\"pattern\":{\"fillmode\":\"overlay\",\"size\":10,\"solidity\":0.2}},\"type\":\"histogram\"}],\"histogram2d\":[{\"colorbar\":{\"outlinewidth\":0,\"ticks\":\"\"},\"colorscale\":[[0.0,\"#0d0887\"],[0.1111111111111111,\"#46039f\"],[0.2222222222222222,\"#7201a8\"],[0.3333333333333333,\"#9c179e\"],[0.4444444444444444,\"#bd3786\"],[0.5555555555555556,\"#d8576b\"],[0.6666666666666666,\"#ed7953\"],[0.7777777777777778,\"#fb9f3a\"],[0.8888888888888888,\"#fdca26\"],[1.0,\"#f0f921\"]],\"type\":\"histogram2d\"}],\"histogram2dcontour\":[{\"colorbar\":{\"outlinewidth\":0,\"ticks\":\"\"},\"colorscale\":[[0.0,\"#0d0887\"],[0.1111111111111111,\"#46039f\"],[0.2222222222222222,\"#7201a8\"],[0.3333333333333333,\"#9c179e\"],[0.4444444444444444,\"#bd3786\"],[0.5555555555555556,\"#d8576b\"],[0.6666666666666666,\"#ed7953\"],[0.7777777777777778,\"#fb9f3a\"],[0.8888888888888888,\"#fdca26\"],[1.0,\"#f0f921\"]],\"type\":\"histogram2dcontour\"}],\"mesh3d\":[{\"colorbar\":{\"outlinewidth\":0,\"ticks\":\"\"},\"type\":\"mesh3d\"}],\"parcoords\":[{\"line\":{\"colorbar\":{\"outlinewidth\":0,\"ticks\":\"\"}},\"type\":\"parcoords\"}],\"pie\":[{\"automargin\":true,\"type\":\"pie\"}],\"scatter\":[{\"marker\":{\"colorbar\":{\"outlinewidth\":0,\"ticks\":\"\"}},\"type\":\"scatter\"}],\"scatter3d\":[{\"line\":{\"colorbar\":{\"outlinewidth\":0,\"ticks\":\"\"}},\"marker\":{\"colorbar\":{\"outlinewidth\":0,\"ticks\":\"\"}},\"type\":\"scatter3d\"}],\"scattercarpet\":[{\"marker\":{\"colorbar\":{\"outlinewidth\":0,\"ticks\":\"\"}},\"type\":\"scattercarpet\"}],\"scattergeo\":[{\"marker\":{\"colorbar\":{\"outlinewidth\":0,\"ticks\":\"\"}},\"type\":\"scattergeo\"}],\"scattergl\":[{\"marker\":{\"colorbar\":{\"outlinewidth\":0,\"ticks\":\"\"}},\"type\":\"scattergl\"}],\"scattermapbox\":[{\"marker\":{\"colorbar\":{\"outlinewidth\":0,\"ticks\":\"\"}},\"type\":\"scattermapbox\"}],\"scatterpolar\":[{\"marker\":{\"colorbar\":{\"outlinewidth\":0,\"ticks\":\"\"}},\"type\":\"scatterpolar\"}],\"scatterpolargl\":[{\"marker\":{\"colorbar\":{\"outlinewidth\":0,\"ticks\":\"\"}},\"type\":\"scatterpolargl\"}],\"scatterternary\":[{\"marker\":{\"colorbar\":{\"outlinewidth\":0,\"ticks\":\"\"}},\"type\":\"scatterternary\"}],\"surface\":[{\"colorbar\":{\"outlinewidth\":0,\"ticks\":\"\"},\"colorscale\":[[0.0,\"#0d0887\"],[0.1111111111111111,\"#46039f\"],[0.2222222222222222,\"#7201a8\"],[0.3333333333333333,\"#9c179e\"],[0.4444444444444444,\"#bd3786\"],[0.5555555555555556,\"#d8576b\"],[0.6666666666666666,\"#ed7953\"],[0.7777777777777778,\"#fb9f3a\"],[0.8888888888888888,\"#fdca26\"],[1.0,\"#f0f921\"]],\"type\":\"surface\"}],\"table\":[{\"cells\":{\"fill\":{\"color\":\"#EBF0F8\"},\"line\":{\"color\":\"white\"}},\"header\":{\"fill\":{\"color\":\"#C8D4E3\"},\"line\":{\"color\":\"white\"}},\"type\":\"table\"}]},\"layout\":{\"annotationdefaults\":{\"arrowcolor\":\"#2a3f5f\",\"arrowhead\":0,\"arrowwidth\":1},\"autotypenumbers\":\"strict\",\"coloraxis\":{\"colorbar\":{\"outlinewidth\":0,\"ticks\":\"\"}},\"colorscale\":{\"diverging\":[[0,\"#8e0152\"],[0.1,\"#c51b7d\"],[0.2,\"#de77ae\"],[0.3,\"#f1b6da\"],[0.4,\"#fde0ef\"],[0.5,\"#f7f7f7\"],[0.6,\"#e6f5d0\"],[0.7,\"#b8e186\"],[0.8,\"#7fbc41\"],[0.9,\"#4d9221\"],[1,\"#276419\"]],\"sequential\":[[0.0,\"#0d0887\"],[0.1111111111111111,\"#46039f\"],[0.2222222222222222,\"#7201a8\"],[0.3333333333333333,\"#9c179e\"],[0.4444444444444444,\"#bd3786\"],[0.5555555555555556,\"#d8576b\"],[0.6666666666666666,\"#ed7953\"],[0.7777777777777778,\"#fb9f3a\"],[0.8888888888888888,\"#fdca26\"],[1.0,\"#f0f921\"]],\"sequentialminus\":[[0.0,\"#0d0887\"],[0.1111111111111111,\"#46039f\"],[0.2222222222222222,\"#7201a8\"],[0.3333333333333333,\"#9c179e\"],[0.4444444444444444,\"#bd3786\"],[0.5555555555555556,\"#d8576b\"],[0.6666666666666666,\"#ed7953\"],[0.7777777777777778,\"#fb9f3a\"],[0.8888888888888888,\"#fdca26\"],[1.0,\"#f0f921\"]]},\"colorway\":[\"#636efa\",\"#EF553B\",\"#00cc96\",\"#ab63fa\",\"#FFA15A\",\"#19d3f3\",\"#FF6692\",\"#B6E880\",\"#FF97FF\",\"#FECB52\"],\"font\":{\"color\":\"#2a3f5f\"},\"geo\":{\"bgcolor\":\"white\",\"lakecolor\":\"white\",\"landcolor\":\"#E5ECF6\",\"showlakes\":true,\"showland\":true,\"subunitcolor\":\"white\"},\"hoverlabel\":{\"align\":\"left\"},\"hovermode\":\"closest\",\"mapbox\":{\"style\":\"light\"},\"paper_bgcolor\":\"white\",\"plot_bgcolor\":\"#E5ECF6\",\"polar\":{\"angularaxis\":{\"gridcolor\":\"white\",\"linecolor\":\"white\",\"ticks\":\"\"},\"bgcolor\":\"#E5ECF6\",\"radialaxis\":{\"gridcolor\":\"white\",\"linecolor\":\"white\",\"ticks\":\"\"}},\"scene\":{\"xaxis\":{\"backgroundcolor\":\"#E5ECF6\",\"gridcolor\":\"white\",\"gridwidth\":2,\"linecolor\":\"white\",\"showbackground\":true,\"ticks\":\"\",\"zerolinecolor\":\"white\"},\"yaxis\":{\"backgroundcolor\":\"#E5ECF6\",\"gridcolor\":\"white\",\"gridwidth\":2,\"linecolor\":\"white\",\"showbackground\":true,\"ticks\":\"\",\"zerolinecolor\":\"white\"},\"zaxis\":{\"backgroundcolor\":\"#E5ECF6\",\"gridcolor\":\"white\",\"gridwidth\":2,\"linecolor\":\"white\",\"showbackground\":true,\"ticks\":\"\",\"zerolinecolor\":\"white\"}},\"shapedefaults\":{\"line\":{\"color\":\"#2a3f5f\"}},\"ternary\":{\"aaxis\":{\"gridcolor\":\"white\",\"linecolor\":\"white\",\"ticks\":\"\"},\"baxis\":{\"gridcolor\":\"white\",\"linecolor\":\"white\",\"ticks\":\"\"},\"bgcolor\":\"#E5ECF6\",\"caxis\":{\"gridcolor\":\"white\",\"linecolor\":\"white\",\"ticks\":\"\"}},\"title\":{\"x\":0.05},\"xaxis\":{\"automargin\":true,\"gridcolor\":\"white\",\"linecolor\":\"white\",\"ticks\":\"\",\"title\":{\"standoff\":15},\"zerolinecolor\":\"white\",\"zerolinewidth\":2},\"yaxis\":{\"automargin\":true,\"gridcolor\":\"white\",\"linecolor\":\"white\",\"ticks\":\"\",\"title\":{\"standoff\":15},\"zerolinecolor\":\"white\",\"zerolinewidth\":2}}},\"title\":{\"text\":\"NYC Parking Tickets Issued in 2017 by Agency (Totals of all Boroughs)\"},\"width\":800,\"xaxis\":{\"anchor\":\"y\",\"domain\":[0.0,1.0],\"title\":{\"text\":\"Number of Tickets (In Millions)\"}},\"yaxis\":{\"anchor\":\"x\",\"autorange\":\"reversed\",\"domain\":[0.0,1.0],\"title\":{\"text\":\"Issuing Agency\"}}},                        {\"responsive\": true}                    ).then(function(){\n",
       "                            \n",
       "var gd = document.getElementById('01d0d0cf-39cf-46e5-acd0-b3671000515a');\n",
       "var x = new MutationObserver(function (mutations, observer) {{\n",
       "        var display = window.getComputedStyle(gd).display;\n",
       "        if (!display || display === 'none') {{\n",
       "            console.log([gd, 'removed!']);\n",
       "            Plotly.purge(gd);\n",
       "            observer.disconnect();\n",
       "        }}\n",
       "}});\n",
       "\n",
       "// Listen for the removal of the full notebook cells\n",
       "var notebookContainer = gd.closest('#notebook-container');\n",
       "if (notebookContainer) {{\n",
       "    x.observe(notebookContainer, {childList: true});\n",
       "}}\n",
       "\n",
       "// Listen for the clearing of the current output cell\n",
       "var outputEl = gd.closest('.output');\n",
       "if (outputEl) {{\n",
       "    x.observe(outputEl, {childList: true});\n",
       "}}\n",
       "\n",
       "                        })                };                            </script>        </div>\n",
       "</body>\n",
       "</html>"
      ]
     },
     "metadata": {
      "tags": []
     },
     "output_type": "display_data"
    }
   ],
   "source": [
    "fig = px.bar(agency_totals_df, \n",
    "             x='Agency Name',\n",
    "             y=agency_totals_df.index,\n",
    "             width=800,\n",
    "             height=600\n",
    "            )\n",
    "fig['layout']['yaxis']['autorange'] = \"reversed\"\n",
    "fig.update_layout(title='NYC Parking Tickets Issued in 2017 by Agency (Totals of all Boroughs)', \n",
    "                  xaxis_title='Number of Tickets (In Millions)',\n",
    "                  yaxis_title='Issuing Agency')\n",
    "fig.show()"
   ]
  },
  {
   "cell_type": "code",
   "execution_count": 98,
   "metadata": {
    "colab": {
     "base_uri": "https://localhost:8080/",
     "height": 638
    },
    "executionInfo": {
     "elapsed": 2033,
     "status": "ok",
     "timestamp": 1626643952615,
     "user": {
      "displayName": "Samantha Roberts",
      "photoUrl": "",
      "userId": "12336021266384650140"
     },
     "user_tz": 240
    },
    "id": "5XQM5k4g_9Xn",
    "outputId": "a9f42d90-163e-4475-d2b0-a85498647ce6"
   },
   "outputs": [
    {
     "data": {
      "text/html": [
       "<div>\n",
       "<style scoped>\n",
       "    .dataframe tbody tr th:only-of-type {\n",
       "        vertical-align: middle;\n",
       "    }\n",
       "\n",
       "    .dataframe tbody tr th {\n",
       "        vertical-align: top;\n",
       "    }\n",
       "\n",
       "    .dataframe thead th {\n",
       "        text-align: right;\n",
       "    }\n",
       "</style>\n",
       "<table border=\"1\" class=\"dataframe\">\n",
       "  <thead>\n",
       "    <tr style=\"text-align: right;\">\n",
       "      <th></th>\n",
       "      <th>Agency Name</th>\n",
       "      <th>Violation County</th>\n",
       "      <th>Plate Type</th>\n",
       "    </tr>\n",
       "  </thead>\n",
       "  <tbody>\n",
       "    <tr>\n",
       "      <th>0</th>\n",
       "      <td>TRAFFIC</td>\n",
       "      <td>Manhattan</td>\n",
       "      <td>3123509</td>\n",
       "    </tr>\n",
       "    <tr>\n",
       "      <th>1</th>\n",
       "      <td>TRAFFIC</td>\n",
       "      <td>Brooklyn</td>\n",
       "      <td>1815757</td>\n",
       "    </tr>\n",
       "    <tr>\n",
       "      <th>2</th>\n",
       "      <td>TRAFFIC</td>\n",
       "      <td>Queens</td>\n",
       "      <td>1663576</td>\n",
       "    </tr>\n",
       "    <tr>\n",
       "      <th>3</th>\n",
       "      <td>TRAFFIC</td>\n",
       "      <td>Bronx</td>\n",
       "      <td>900890</td>\n",
       "    </tr>\n",
       "    <tr>\n",
       "      <th>4</th>\n",
       "      <td>DEPARTMENT OF TRANSPORTATION</td>\n",
       "      <td>Brooklyn</td>\n",
       "      <td>880656</td>\n",
       "    </tr>\n",
       "    <tr>\n",
       "      <th>5</th>\n",
       "      <td>DEPARTMENT OF TRANSPORTATION</td>\n",
       "      <td>Queens</td>\n",
       "      <td>674245</td>\n",
       "    </tr>\n",
       "    <tr>\n",
       "      <th>6</th>\n",
       "      <td>DEPARTMENT OF TRANSPORTATION</td>\n",
       "      <td>Bronx</td>\n",
       "      <td>273903</td>\n",
       "    </tr>\n",
       "    <tr>\n",
       "      <th>7</th>\n",
       "      <td>POLICE DEPARTMENT</td>\n",
       "      <td>Manhattan</td>\n",
       "      <td>267041</td>\n",
       "    </tr>\n",
       "    <tr>\n",
       "      <th>8</th>\n",
       "      <td>POLICE DEPARTMENT</td>\n",
       "      <td>Brooklyn</td>\n",
       "      <td>238673</td>\n",
       "    </tr>\n",
       "    <tr>\n",
       "      <th>9</th>\n",
       "      <td>DEPARTMENT OF SANITATION</td>\n",
       "      <td>Brooklyn</td>\n",
       "      <td>159088</td>\n",
       "    </tr>\n",
       "    <tr>\n",
       "      <th>10</th>\n",
       "      <td>DEPARTMENT OF TRANSPORTATION</td>\n",
       "      <td>Staten Island</td>\n",
       "      <td>137542</td>\n",
       "    </tr>\n",
       "    <tr>\n",
       "      <th>11</th>\n",
       "      <td>POLICE DEPARTMENT</td>\n",
       "      <td>Queens</td>\n",
       "      <td>129804</td>\n",
       "    </tr>\n",
       "    <tr>\n",
       "      <th>12</th>\n",
       "      <td>POLICE DEPARTMENT</td>\n",
       "      <td>Bronx</td>\n",
       "      <td>118498</td>\n",
       "    </tr>\n",
       "    <tr>\n",
       "      <th>13</th>\n",
       "      <td>TRAFFIC</td>\n",
       "      <td>Staten Island</td>\n",
       "      <td>108151</td>\n",
       "    </tr>\n",
       "    <tr>\n",
       "      <th>14</th>\n",
       "      <td>DEPARTMENT OF TRANSPORTATION</td>\n",
       "      <td>Manhattan</td>\n",
       "      <td>96298</td>\n",
       "    </tr>\n",
       "    <tr>\n",
       "      <th>15</th>\n",
       "      <td>DEPARTMENT OF SANITATION</td>\n",
       "      <td>Bronx</td>\n",
       "      <td>64837</td>\n",
       "    </tr>\n",
       "    <tr>\n",
       "      <th>16</th>\n",
       "      <td>DEPARTMENT OF SANITATION</td>\n",
       "      <td>Queens</td>\n",
       "      <td>38202</td>\n",
       "    </tr>\n",
       "    <tr>\n",
       "      <th>17</th>\n",
       "      <td>DEPARTMENT OF SANITATION</td>\n",
       "      <td>Manhattan</td>\n",
       "      <td>30671</td>\n",
       "    </tr>\n",
       "    <tr>\n",
       "      <th>18</th>\n",
       "      <td>POLICE DEPARTMENT</td>\n",
       "      <td>Staten Island</td>\n",
       "      <td>11733</td>\n",
       "    </tr>\n",
       "  </tbody>\n",
       "</table>\n",
       "</div>"
      ],
      "text/plain": [
       "                     Agency Name Violation County  Plate Type\n",
       "0                        TRAFFIC        Manhattan     3123509\n",
       "1                        TRAFFIC         Brooklyn     1815757\n",
       "2                        TRAFFIC           Queens     1663576\n",
       "3                        TRAFFIC            Bronx      900890\n",
       "4   DEPARTMENT OF TRANSPORTATION         Brooklyn      880656\n",
       "5   DEPARTMENT OF TRANSPORTATION           Queens      674245\n",
       "6   DEPARTMENT OF TRANSPORTATION            Bronx      273903\n",
       "7              POLICE DEPARTMENT        Manhattan      267041\n",
       "8              POLICE DEPARTMENT         Brooklyn      238673\n",
       "9       DEPARTMENT OF SANITATION         Brooklyn      159088\n",
       "10  DEPARTMENT OF TRANSPORTATION    Staten Island      137542\n",
       "11             POLICE DEPARTMENT           Queens      129804\n",
       "12             POLICE DEPARTMENT            Bronx      118498\n",
       "13                       TRAFFIC    Staten Island      108151\n",
       "14  DEPARTMENT OF TRANSPORTATION        Manhattan       96298\n",
       "15      DEPARTMENT OF SANITATION            Bronx       64837\n",
       "16      DEPARTMENT OF SANITATION           Queens       38202\n",
       "17      DEPARTMENT OF SANITATION        Manhattan       30671\n",
       "18             POLICE DEPARTMENT    Staten Island       11733"
      ]
     },
     "execution_count": 98,
     "metadata": {
      "tags": []
     },
     "output_type": "execute_result"
    }
   ],
   "source": [
    "temp = pd.DataFrame(merged_df2.groupby(['Agency Name', 'Violation County'])['Plate Type'].count().reset_index())\n",
    "temp2 = temp.groupby(['Agency Name', 'Violation County'])['Plate Type'].sum().sort_values(ascending=False)\n",
    "temp3 = pd.DataFrame(temp2).head(19)\n",
    "temp4 = temp3.reset_index()\n",
    "temp4"
   ]
  },
  {
   "cell_type": "code",
   "execution_count": 99,
   "metadata": {
    "colab": {
     "base_uri": "https://localhost:8080/",
     "height": 535
    },
    "executionInfo": {
     "elapsed": 931,
     "status": "ok",
     "timestamp": 1626643955684,
     "user": {
      "displayName": "Samantha Roberts",
      "photoUrl": "",
      "userId": "12336021266384650140"
     },
     "user_tz": 240
    },
    "id": "Vg4H8cL0_84A",
    "outputId": "10455792-36c0-4b34-b875-d25ff426fb08"
   },
   "outputs": [
    {
     "data": {
      "image/png": "[encoded data removed]",
      "text/plain": [
       "<Figure size 864x576 with 1 Axes>"
      ]
     },
     "metadata": {
      "needs_background": "light",
      "tags": []
     },
     "output_type": "display_data"
    }
   ],
   "source": [
    "from matplotlib.ticker import FuncFormatter\n",
    "\n",
    "def millions_formatter(x, pos):\n",
    "    return f'{x / 1000000}'\n",
    "plt.figure(figsize=(12, 8))\n",
    "sns.set_style(\"ticks\",{'axes.grid' : True})\n",
    "ax = sns.barplot(x='Plate Type', y='Agency Name', hue='Violation County', data=temp4)\n",
    "ax.set_xlabel('Number of tickets issued (in millions)', fontsize=18)\n",
    "ax.set_ylabel('Agency Name', fontsize=18)\n",
    "ax.xaxis.set_major_formatter(FuncFormatter(millions_formatter))\n",
    "ax.set_title('NYC Parking Tickets Issued by Agency and Borough');\n",
    "ax.axhline(0.5, color='black', linewidth=0.4) # somehow this will not let me specify all y positions in a single list\n",
    "ax.axhline(1.5, color='black', linewidth=0.4)\n",
    "ax.axhline(2.5, color='black', linewidth=0.4);"
   ]
  },
  {
   "cell_type": "code",
   "execution_count": 101,
   "metadata": {
    "colab": {
     "base_uri": "https://localhost:8080/"
    },
    "executionInfo": {
     "elapsed": 781,
     "status": "ok",
     "timestamp": 1626643999201,
     "user": {
      "displayName": "Samantha Roberts",
      "photoUrl": "",
      "userId": "12336021266384650140"
     },
     "user_tz": 240
    },
    "id": "0G11RtjfGYLp",
    "outputId": "61bc6280-266f-4f65-d49d-de90fe184eca"
   },
   "outputs": [
    {
     "name": "stdout",
     "output_type": "stream",
     "text": [
      "4 agencies issue 99.35 percent of all NYC parking tickets\n"
     ]
    }
   ],
   "source": [
    "print('4 agencies issue {:.2f} percent of all NYC parking tickets'.format(temp4[\"Plate Type\"].sum() / merged_df2.shape[0] *100))"
   ]
  },
  {
   "cell_type": "markdown",
   "metadata": {
    "id": "2oC8Qta9GW-c"
   },
   "source": [
    "## 4 NYC agencies issue 99.35% of all NYC tickets (even though there are 34 agencies total)\n",
    "- Manhattan is ticket almost exclusivly by the traffic agency and police departments\n",
    "- Brooklyn and Queens are also heavily ticketed by the Department of Transportation  \n",
    "\n"
   ]
  },
  {
   "cell_type": "markdown",
   "metadata": {
    "id": "NL_gbxcz_68X"
   },
   "source": [
    "\n",
    "\n",
    "---\n",
    "\n"
   ]
  },
  {
   "cell_type": "markdown",
   "metadata": {
    "id": "3NiPxfGwgPun"
   },
   "source": [
    "# Summary of EDA\n",
    "1. We have downloaded a dataset from Kaggle with over 10 million rows and 43 columns\n",
    "2. We have chosen select columns, which allow us to evaluate:\n",
    "  - The breakdown in date and date and time when ticckets are frequently issued\n",
    "  - The breakdown according to the NYC counties/Boroughs\n",
    "  - The breakdown according to the police precincts\n",
    "  - The annual income NYC stands to make from these tickets\n",
    "  - The geographic location that tickets are issued in\n",
    "  - The type of tickets that frequently get issued\n",
    "3. We used 11 graphs (**including: Pie charts, histograms, barcharts (standard, horizontal and stacked), chart with sub plots, treemap, heatmap, choropleth map and boxplots**) as well as Dataframe tables to answer and explore the data utilizing the following libraries:\n",
    "  - Matplotlib\n",
    "  - Seaborn\n",
    "  - Plotly\n",
    "  - Seaborn\n",
    "  - Folium\n",
    "  - Pandas\n",
    "4. We were able to include extrenanal data from NYC Open Data to do the following:\n",
    "  - Download a geojson file which gives the geographic perimeters of all 77 NYC police precints.  \n",
    "  - This allowed the creation of a choropleth map that indicated the precincts and their geographic location as a function of how many annual tickets are issued there.\n",
    "  - Downloaded a csv file that corelated the Violation Code on the ticket with the Violation description and the associated fine"
   ]
  },
  {
   "cell_type": "markdown",
   "metadata": {
    "id": "BWixZWlpr0gn"
   },
   "source": [
    "\n",
    "\n",
    "---\n",
    "\n"
   ]
  },
  {
   "cell_type": "markdown",
   "metadata": {
    "id": "Nsg5vHqYivk8"
   },
   "source": [
    "# Future Work\n",
    "1. import the remaining 4 years of Kaggle data and analysis it using this same code\n",
    "2. Create a notebookthat can directly download the data from NYC Open Data and also retrieve the years of data not yet on Kaggle, namely 2018, 2019, 2020, and 2021\n",
    "3. The 2020 and 2021 data is particularly relevant for looking at the impact of COVID on NYC, which was an initial hotspot.\n",
    "  - Beginning March of 2020 the city was shut down and parking violations were largely suspended for several months.  \n",
    "4. There is a region that has extremely high ticket activity, which is precinct 19, an area of Manhattan known as \"The Upper East Side\"\n",
    "  - Exploration of the different types of tickets issued here and the ticketing agents would potentially be interesting.\n",
    "5. Scrape the NYC Open Data page to get the descriptors for the 'Issuer Squad\" column codes\n",
    "  - Look to see if the squad division affects the precincts, and could possibly explain all the the precinct numbers that far exceed the valid police precincts.\n",
    "6. Use the street address codes to do a reverse look-up of the latatitude and longitude data and see if there are specific addresses that are key hotspots for issuing tickets\n",
    "7. We will apply some compression methods for massivly large data such as invoking Dask and reducing the saze of the datatypes and furthere converting to catagorical data when possible"
   ]
  },
  {
   "cell_type": "markdown",
   "metadata": {
    "id": "vRB_zFIBr15-"
   },
   "source": [
    "\n",
    "\n",
    "---\n",
    "\n"
   ]
  },
  {
   "cell_type": "markdown",
   "metadata": {
    "id": "xyLMQh-okbPQ"
   },
   "source": [
    "# References\n",
    "### Parking Violation Data on [NYC Open Data](https://data.cityofnewyork.us/browse?q=parking+violations) (Direct Links to the CSV files)<a id=\"CSVLinks\"></a>\n",
    "- [2021](https://data.cityofnewyork.us/api/views/pvqr-7yc4/rows.csv?accessType=DOWNLOAD)\n",
    "- [2020](https://data.cityofnewyork.us/api/views/p7t3-5i9s/rows.csv?accessType=DOWNLOAD)\n",
    "- [2019](https://data.cityofnewyork.us/api/views/faiq-9dfq/rows.csv?accessType=DOWNLOAD)\n",
    "- [2018](https://data.cityofnewyork.us/api/views/a5td-mswe/rows.csv?accessType=DOWNLOAD)\n",
    "- [2017](https://data.cityofnewyork.us/api/views/2bnn-yakx/rows.csv?accessType=DOWNLOAD)\n",
    "- [2016](https://data.cityofnewyork.us/api/views/kiv2-tbus/rows.csv?accessType=DOWNLOAD)\n",
    "- [2015](https://data.cityofnewyork.us/api/views/c284-tqph/rows.csv?accessType=DOWNLOAD)\n",
    "- [2014](https://data.cityofnewyork.us/api/views/jt7v-77mi/rows.csv?accessType=DOWNLOAD)\n",
    "\n",
    "### Department of Finance\n",
    "- [Parking Violation Codes](https://data.cityofnewyork.us/Transportation/DOF-Parking-Violation-Codes/ncbg-6agr) and [Violation Code and Fines CSV](https://data.cityofnewyork.us/api/views/ncbg-6agr/rows.csv?accessType=DOWNLOAD)   \n",
    "\n",
    "### Geographic files of Police Precincts\n",
    "- Direct links to the [GeoJSON file](https://data.cityofnewyork.us/api/geospatial/78dh-3ptz?method=export&format=GeoJSON) and [Shapefile](https://data.cityofnewyork.us/api/geospatial/78dh-3ptz?method=export&format=Shapefile) formats, and the page to find [many other formats](https://data.cityofnewyork.us/Public-Safety/Police-Precincts/78dh-3ptz)"
   ]
  },
  {
   "cell_type": "markdown",
   "metadata": {
    "id": "JVBqiOUquhHJ"
   },
   "source": [
    "\n",
    "\n",
    "---\n",
    "\n"
   ]
  },
  {
   "cell_type": "markdown",
   "metadata": {
    "id": "WpOglljstNq5"
   },
   "source": [
    "# Other interesting Links for NYC Parking news and NYC Open Data info\n",
    "- [NYPD systematically ticketing legally parked cars](https://iquantny.tumblr.com/post/144197004989/the-nypd-was-systematically-tickeing-legally)\n",
    "- [NYC-Parking Tickets An Exploratory Analysis](https://github.com/djha1208/NYC-Parking-Tickets-An-Exploratory-Analysis)\n",
    "- [NYC Parking Tickets Fascinating Factoids Will Amaze You](https://newyorkparkingticket.com/nyc-parking-tickets-5/)\n",
    "- [New York Times - About NYC Police Precinct Codes](https://www.nytimes.com/2017/03/17/nyregion/nypd-precincts.html)"
   ]
  },
  {
   "cell_type": "markdown",
   "metadata": {
    "id": "Wq1H2OQuui07"
   },
   "source": [
    "\n",
    "\n",
    "---\n",
    "\n"
   ]
  },
  {
   "cell_type": "markdown",
   "metadata": {
    "id": "ahKWLxRquWsO"
   },
   "source": [
    "# Acknowledgements\n",
    "- Thank you Jovian team for your help with this -- It is a work in progress!  "
   ]
  },
  {
   "cell_type": "markdown",
   "metadata": {
    "id": "NiWyP-Ver3Mw"
   },
   "source": [
    "\n",
    "\n",
    "---\n",
    "\n"
   ]
  },
  {
   "cell_type": "markdown",
   "metadata": {
    "id": "fSAdH6OE8K7q"
   },
   "source": [
    "# Notes to self:\n",
    "- Here is where I will start learning Selenium: https://www.youtube.com/watch?v=bhYulVzYRng\n"
   ]
  },
  {
   "cell_type": "code",
   "execution_count": null,
   "metadata": {
    "executionInfo": {
     "elapsed": 36,
     "status": "aborted",
     "timestamp": 1626643757219,
     "user": {
      "displayName": "Samantha Roberts",
      "photoUrl": "",
      "userId": "12336021266384650140"
     },
     "user_tz": 240
    },
    "id": "32PSCihrJFrF"
   },
   "outputs": [],
   "source": []
  },
  {
   "cell_type": "code",
   "execution_count": 147,
   "metadata": {
    "colab": {
     "base_uri": "https://localhost:8080/",
     "height": 86
    },
    "executionInfo": {
     "elapsed": 3263,
     "status": "ok",
     "timestamp": 1626650999778,
     "user": {
      "displayName": "Samantha Roberts",
      "photoUrl": "",
      "userId": "12336021266384650140"
     },
     "user_tz": 240
    },
    "id": "aeIWWRNZJXKP",
    "outputId": "7d558df7-61e7-4dd7-cfb2-01123cfd7f36"
   },
   "outputs": [
    {
     "name": "stdout",
     "output_type": "stream",
     "text": [
      "[jovian] Detected Colab notebook...\u001b[0m\n",
      "[jovian] Uploading colab notebook to Jovian...\u001b[0m\n",
      "Committed successfully! https://jovian.ai/samantha-roberts/nyc-parking-2017-final\n"
     ]
    },
    {
     "data": {
      "application/vnd.google.colaboratory.intrinsic+json": {
       "type": "string"
      },
      "text/plain": [
       "'https://jovian.ai/samantha-roberts/nyc-parking-2017-final'"
      ]
     },
     "execution_count": 147,
     "metadata": {
      "tags": []
     },
     "output_type": "execute_result"
    }
   ],
   "source": [
    "jovian.commit(project=project_name)"
   ]
  },
  {
   "cell_type": "code",
   "execution_count": null,
   "metadata": {
    "executionInfo": {
     "elapsed": 38,
     "status": "aborted",
     "timestamp": 1626643757221,
     "user": {
      "displayName": "Samantha Roberts",
      "photoUrl": "",
      "userId": "12336021266384650140"
     },
     "user_tz": 240
    },
    "id": "xGUu2NbD8cWu"
   },
   "outputs": [],
   "source": []
  }
 ],
 "metadata": {
  "colab": {
   "collapsed_sections": [],
   "machine_shape": "hm",
   "name": "nyc-parking-2017-final.ipynb",
   "provenance": [],
   "toc_visible": true
  },
  "language_info": {
   "codemirror_mode": {
    "name": "ipython",
    "version": 3
   },
   "file_extension": ".py",
   "mimetype": "text/x-python",
   "name": "python",
   "nbconvert_exporter": "python",
   "pygments_lexer": "ipython3",
   "version": "3.7.6"
  }
 },
 "nbformat": 4,
 "nbformat_minor": 0
}